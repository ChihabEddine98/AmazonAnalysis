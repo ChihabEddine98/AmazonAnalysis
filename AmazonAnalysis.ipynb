{
 "cells": [
  {
   "cell_type": "code",
   "execution_count": 215,
   "metadata": {},
   "outputs": [
    {
     "output_type": "stream",
     "name": "stdout",
     "text": [
      "Requirement already satisfied: webdriver_manager in /Users/chihab_eddine98/Desktop/github/ML_Go/venv/lib/python3.9/site-packages (3.3.0)\nRequirement already satisfied: configparser in /Users/chihab_eddine98/Desktop/github/ML_Go/venv/lib/python3.9/site-packages (from webdriver_manager) (5.0.2)\nRequirement already satisfied: requests in /Users/chihab_eddine98/Desktop/github/ML_Go/venv/lib/python3.9/site-packages (from webdriver_manager) (2.25.1)\nRequirement already satisfied: crayons in /Users/chihab_eddine98/Desktop/github/ML_Go/venv/lib/python3.9/site-packages (from webdriver_manager) (0.4.0)\nRequirement already satisfied: colorama in /Users/chihab_eddine98/Desktop/github/ML_Go/venv/lib/python3.9/site-packages (from crayons->webdriver_manager) (0.4.4)\nRequirement already satisfied: idna<3,>=2.5 in /Users/chihab_eddine98/Desktop/github/ML_Go/venv/lib/python3.9/site-packages (from requests->webdriver_manager) (2.10)\nRequirement already satisfied: urllib3<1.27,>=1.21.1 in /Users/chihab_eddine98/Desktop/github/ML_Go/venv/lib/python3.9/site-packages (from requests->webdriver_manager) (1.26.4)\nRequirement already satisfied: chardet<5,>=3.0.2 in /Users/chihab_eddine98/Desktop/github/ML_Go/venv/lib/python3.9/site-packages (from requests->webdriver_manager) (4.0.0)\nRequirement already satisfied: certifi>=2017.4.17 in /Users/chihab_eddine98/Desktop/github/ML_Go/venv/lib/python3.9/site-packages (from requests->webdriver_manager) (2020.12.5)\n"
     ]
    }
   ],
   "source": [
    "!pip install webdriver_manager"
   ]
  },
  {
   "cell_type": "code",
   "execution_count": 216,
   "metadata": {
    "collapsed": true
   },
   "outputs": [],
   "source": [
    "# imports\n",
    "import requests as rq\n",
    "import numpy as np\n",
    "import matplotlib.pyplot as plt\n",
    "from bs4 import BeautifulSoup\n",
    "from selenium import webdriver\n",
    "import os\n",
    "from webdriver_manager.chrome import ChromeDriverManager\n",
    "import unicodedata\n",
    "# end imports"
   ]
  },
  {
   "cell_type": "markdown",
   "source": [
    "# Part 01  : Data Gathering"
   ],
   "metadata": {
    "collapsed": false,
    "pycharm": {
     "name": "#%% md\n"
    }
   }
  },
  {
   "cell_type": "code",
   "execution_count": 217,
   "metadata": {},
   "outputs": [],
   "source": [
    "# Settings \n",
    "chrome_driver_path = '/Users/chihab_eddine98/.wdm/drivers/chromedriver/mac64/89.0.4389.23/chromedriver'\n",
    "\n",
    "reviews_url = 'https://www.amazon.fr/Microsoft-Surface-Pro-Hybride-stockage/product-reviews/B07X8NL7MW/ref=cm_cr_dp_d_show_all_btm?ie=UTF8&reviewerType=all_reviews'\n",
    "\n",
    "reviews_div_cls = 'review'\n",
    "\n",
    "prod_url = 'https://www.amazon.fr/Microsoft-Surface-Pro-Hybride-stockage/dp/B07X8NL7MW/ref=sr_1_7?__mk_fr_FR=%C3%85M%C3%85%C5%BD%C3%95%C3%91&dchild=1&keywords=Microsoft+Surface&qid=1616930888&s=computers&sr=1-7'\n",
    "\n",
    "prod_urls = {'informatique':[\n",
    "    {\n",
    "        'prod_url':\n",
    "        'https://www.amazon.fr/Microsoft-Surface-Pro-Hybride-stockage/dp/B07X8NL7MW/ref=sr_1_7? __mk_fr_FR=%C3%85M%C3%85%C5%BD%C3%95%C3%91&dchild=1&keywords=Microsoft+Surface&qid=1616930888&  s=computers&sr=1-7',\n",
    "    'rev_url': 'https://www.amazon.fr/Microsoft-Surface-Pro-Hybride-stockage/product-reviews/B07X8NL7MW/ref=cm_cr_dp_d_show_all_btm?ie=UTF8&reviewerType=all_reviews'\n",
    "    \n",
    "    }\n",
    "    ]\n",
    "}\n",
    "\n",
    "\n",
    "\n",
    "# End Settings"
   ]
  },
  {
   "source": [
    "# Scrapping Product Information"
   ],
   "cell_type": "markdown",
   "metadata": {}
  },
  {
   "cell_type": "code",
   "execution_count": 218,
   "metadata": {},
   "outputs": [],
   "source": [
    "\n",
    "# Scrapping Product Data \n",
    "def product_scrapper(driver,prod_category,prod_url):\n",
    "    driver.get(prod_url)\n",
    "    prod_soup = BeautifulSoup(driver.page_source,'html.parser')\n",
    "\n",
    "    # Product Info\n",
    "    prod_title = prod_soup.find('span',{'id' : 'productTitle' }).text\n",
    "    prod_brand = prod_soup.find('a',{'id' : 'bylineInfo' }).text\n",
    "    prod_rate = prod_soup.find('span',{'class' : 'a-icon-alt' }).text\n",
    "    prod_eval = prod_soup.find('span',{'id' : 'acrCustomerReviewText' }).text\n",
    "    prod_price = prod_soup.find('span',{'id' : 'priceblock_ourprice' }).text\n",
    "\n",
    "\n",
    "    result = tuple(map(lambda x : unicodedata.normalize(\"NFKD\",x.strip()),[prod_title,prod_brand,       prod_rate,prod_eval,prod_price,prod_category]))\n",
    "    return result\n",
    "\n"
   ]
  },
  {
   "source": [
    "## Test Product Scrapping"
   ],
   "cell_type": "markdown",
   "metadata": {}
  },
  {
   "cell_type": "code",
   "execution_count": 219,
   "metadata": {},
   "outputs": [
    {
     "output_type": "stream",
     "name": "stdout",
     "text": [
      "('Microsoft Surface Pro 7 PC portable (Windows 10, Écran Tactile 12.3\", Intel Core i5, 8Go RAM, 128Go SSD, Platine)', 'Marque : Microsoft Surface', '4,6 sur 5 étoiles', '3 105 évaluations', '855,20 €', 'informatique')\n"
     ]
    }
   ],
   "source": [
    "driver = webdriver.Chrome(chrome_driver_path)\n",
    "\n",
    "for category,products in prod_urls.items():\n",
    "    for prod in products:\n",
    "        product = product_scrapper(driver,category,prod['prod_url'])\n",
    "        print(product)"
   ]
  },
  {
   "source": [
    "# Scrapping Reviews Data"
   ],
   "cell_type": "markdown",
   "metadata": {}
  },
  {
   "cell_type": "code",
   "execution_count": 220,
   "outputs": [],
   "source": [
    "# Scrapping Reviews Data\n",
    "def reviews_scrapper(driver,prod,rev_url,ds):\n",
    "    driver.get(rev_url)\n",
    "    rev_soup = BeautifulSoup(driver.page_source,'html.parser')\n",
    "    reviews_div = rev_soup.find_all('div',{'class':reviews_div_cls})\n",
    "\n",
    "    for review in reviews_div:\n",
    "        review_title = review.find('a',{'data-hook' : 'review-title'}).text\n",
    "        review_rate = review.find('i',{'data-hook' : 'review-star-rating'}).text\n",
    "        review_body = review.find('span',{'data-hook' : 'review-body'}).text\n",
    "        review_help = review.find('span',{'data-hook' : 'helpful-vote-statement'}).text\n",
    "        rev_result = tuple(map(lambda x : unicodedata.normalize(\"NFKD\",x.strip()),[review_title,review_rate,review_body,review_help]))\n",
    "        ds.append(rev_result+prod)\n",
    "\n",
    "    return ds"
   ],
   "metadata": {
    "collapsed": false,
    "pycharm": {
     "name": "#%%\n"
    },
    "tags": []
   }
  },
  {
   "source": [
    "## Test Reviews Scrapping"
   ],
   "cell_type": "markdown",
   "metadata": {}
  },
  {
   "cell_type": "code",
   "execution_count": 221,
   "metadata": {},
   "outputs": [
    {
     "output_type": "stream",
     "name": "stdout",
     "text": [
      "10\n('Surface Pro 7ème génération', '4,0 sur 5 étoiles', 'Je possède la Surface Pro 6 (soit la génération d\\'avant), que j\\'utilise aussi bien pour un usage professionnel (traitement office, logiciels spécifiques fonctionnant que sur Windows ...) que personnel (surf internet, visionnage de vidéo ...).J\\'en suis très satisfait, c\\'est pourquoi j\\'attendais avec impatience la nouvelle génération.Pas vraiment de révolution avec cette 7ème génération, pour moi c\\'est plus une mise à jour. Pour ceux ayant la génération précédente, je ne pense pas que l\\'investissement soit forcément justifié (perso je change maintenant à chaque nouvelle génération de cette machine).Je retrouve dans cette machine un magnifique écran, une finition toujours aussi excellente, des performances élevées (je parle de la version i5 ici) et surtout sa \"charnière\" arrière toujours aussi utile.Mais aussi les défauts qui deviennent récurrents maintenant: au vu du prix, depuis le temps on pourrait au moins avoir maintenant 256Go de stockage en version de base ainsi que le clavier fourni avec. Mais non.(Je déconseille fortement l\\'achat de la version de base avec processeur i3 et seulement 4Go de RAM qui n\\'a aucun intérêt, si ce n\\'est offrir un prix d\\'entrée de gamme attractif).', '155 personnes ont trouvé cela utile', 'Microsoft Surface Pro 7 PC portable (Windows 10, Écran Tactile 12.3\", Intel Core i5, 8Go RAM, 128Go SSD, Platine)', 'Marque : Microsoft Surface', '4,6 sur 5 étoiles', '3 105 évaluations', '855,20 €', 'informatique')\n ====================================== \n('Du reconditionné au prix du neuf!', '1,0 sur 5 étoiles', \"Produit bien reçu.Par contre on achète au prix du neuf et on se retrouve avec un reconditionné ! Pas de scellés, sur un produit comme ça ça surprend!A l'allumage, 2 comptes utilisateurs enregistrés, sont apparus...Alors si c'est du reconditionné, il serait intéressant de l'indiquer... Très très déçue ! On a remis les paramètres d'usine, mais bon... J'aurai vraiment aimé avoir un produit neuf et je trouve ça honteux de la part d'Amazon\", '107 personnes ont trouvé cela utile', 'Microsoft Surface Pro 7 PC portable (Windows 10, Écran Tactile 12.3\", Intel Core i5, 8Go RAM, 128Go SSD, Platine)', 'Marque : Microsoft Surface', '4,6 sur 5 étoiles', '3 105 évaluations', '855,20 €', 'informatique')\n ====================================== \n('THROTTING', '2,0 sur 5 étoiles', 'POUR LA VERSION I5 SEULEMENT : PHENOMENE DE THROTTING QUI RALENTIT LA CADENCE POUR EMPECHER LE PROCESSEUR DE TROP CHAUFFER, COMME IL N Y AS PAS DE VENTILATEUR, LE PROCESSEUR CHAUFFE TRES VITE ET REFROIDIT TRES LENTEMENT; RESULTAT DES PERFORMANCES REDUITES 80% DU TEMPS MEME POUR INTERNET? YOUTUBE... DOMMAGE', '71 personnes ont trouvé cela utile', 'Microsoft Surface Pro 7 PC portable (Windows 10, Écran Tactile 12.3\", Intel Core i5, 8Go RAM, 128Go SSD, Platine)', 'Marque : Microsoft Surface', '4,6 sur 5 étoiles', '3 105 évaluations', '855,20 €', 'informatique')\n ====================================== \n('ATTENTION AU TITRE TROMPEUR !', '2,0 sur 5 étoiles', 'Le titre fait référence à un Surface Pro 7 PC Hybride Microsoft 12.3 Platine (Intel Core i7, 16 Go de RAM, 256 Go de SSD).A lire le détail du produit, on se rend compte que le processeur est un Intel Core i5 !', '98 personnes ont trouvé cela utile', 'Microsoft Surface Pro 7 PC portable (Windows 10, Écran Tactile 12.3\", Intel Core i5, 8Go RAM, 128Go SSD, Platine)', 'Marque : Microsoft Surface', '4,6 sur 5 étoiles', '3 105 évaluations', '855,20 €', 'informatique')\n ====================================== \n(\"C'est bien une version i7\", '5,0 sur 5 étoiles', \"Contrairement au commentaire disant que c'est une version i5 j vous confirme que c'est une i7 16gb de ram 256gb de ssd. ça tourne nikel\", '44 personnes ont trouvé cela utile', 'Microsoft Surface Pro 7 PC portable (Windows 10, Écran Tactile 12.3\", Intel Core i5, 8Go RAM, 128Go SSD, Platine)', 'Marque : Microsoft Surface', '4,6 sur 5 étoiles', '3 105 évaluations', '855,20 €', 'informatique')\n ====================================== \n('Un excellent choix', '5,0 sur 5 étoiles', 'Pour faire court, sans aucun doute mon \"pc portable\" préféré.Pour rentrer un peu dans les détails, la version i5 / 8Go ram / 128Go stockage est sans doute suffisante pour la majorité des personnes. Je m’en sers principalement pour de la navigation web, regarder des vidéos Youtube ou Netflix, du développement web et PC et de la prise de note.Les trois principaux points positifs selon moi sont :  - Une portabilité excellente. Ce PC est léger, petit, les bordures d’écrans, bien que présentes, ne sont pas horribles. Il est possible de l’utiliser avec ou sans clavier, d’être debout et de le poser sur son bras et l’utiliser en tactile.  - Un très bel écran 2736 x 1824. Sur une dalle de 12.3”, le rendu est vraiment agréable. Les écritures sont lisses et propres, les vidéos sont détaillés. De plus, les angles de vision sont très bons.  - Un clavier surprenant. C’est le point qui m’inquiétait le plus avant de le recevoir, j’avais peur que le clavier ne soit pas très agréable à utiliser. Après 6 mois d’utilisation, ce clavier m’a totalement conquis. Il est agréable à utiliser, la distance parcourue par les touches à l’appuis est satisfaisante, et la disposition est parfaite. Enfin, sauf pour les flèches haut et bas que je loupe souvent en voulant appuyer dessus.Au niveau des performances, je n’ai jamais vraiment ressenti de lenteur particulière pour mon utilisation. Ce PC n’est bien évidemment pas vraiment fait pour le jeu vidéo.L’écran au ration 3:2 ( et non 16:9 ou 16:10 comme beaucoup ) est très pratique pour la navigation, ou encore la rédaction. Pour les films, des bandes noires seront souvent présentes en haut et en bas, mais rien de bien gênant selon moi.Coté points négatifs, je dirais que pour le prix de cette version, 128Go de stockage est un petit peu décevant. D\\'autant plus que l’accès au SSD ne se fait pas aisément. Une trappe d’accès au dos de la Surface aurait été un vrai plus.', '23 personnes ont trouvé cela utile', 'Microsoft Surface Pro 7 PC portable (Windows 10, Écran Tactile 12.3\", Intel Core i5, 8Go RAM, 128Go SSD, Platine)', 'Marque : Microsoft Surface', '4,6 sur 5 étoiles', '3 105 évaluations', '855,20 €', 'informatique')\n ====================================== \n(\"Plus pertinent qu'une tablette sous Android.\", '5,0 sur 5 étoiles', 'Belle bête ! J\\'essaie pour la 1ere fois Windows sur tablette. Et c\\'est pas mal du tout. J\\'ai eu une tablette sous Android, une des 1ère avec clavier et je m\\'en suis vite séparée, pas agréable à utiliser même en complément de mon smartphone que j\\'utilisais toujours à 85%.Honnêtement j\\'ai choisis la Surface Pro car :-J\\'avais la flemme de déplacer un meuble à répétition pour debrancher mon ordi portable.-J\\'ai besoin de faire de la Bureautique en étant mobile.-Elle à une bonne réputation.-PUISSAAANCE comme dirait Jeremy Clarkson en VF.Plus sérieusement, je trouve le \"concept\" tablette sous W10 très interressant et pratique. (on dirais que je découvre la tech en 2019, c\\'est parce que j\\'aime pas les pommes surtout si quelqu\\'un à déjà croqué dedans).Il faut se familiariser avec la double interface surtout le mode tablette, ce qui n\\'est pas obligatoire, on peut forcer l\\'un ou l\\'autre.Pour le reste, je n\\'ais pas explorer plis que ça, j\\'ai pas tout les accessoires, mais l\\'utilisation au stylet à l\\'air sympas à utiliser, à voir.Apres voilà, je suis un utilisateur lambda, d\\'où les 5 étoiles car la tablette peut faire largement mieux que ce que je vais lui demander. C\\'est ma philosophie \"qui peut le plus, peut le moins\".Je l\\'ai reçu moins de 12h après la commande, chapeau!', '22 personnes ont trouvé cela utile', 'Microsoft Surface Pro 7 PC portable (Windows 10, Écran Tactile 12.3\", Intel Core i5, 8Go RAM, 128Go SSD, Platine)', 'Marque : Microsoft Surface', '4,6 sur 5 étoiles', '3 105 évaluations', '855,20 €', 'informatique')\n ====================================== \n('Eclan bleu systématique au démarrage ou dans les minutes qui suivent', '1,0 sur 5 étoiles', \"Sans qu'aucun logiciel n'ai été installé, j'ai un écran bleu dans les minutes qui suivent la mise en route. Après avoir galéré avec la récupération du système qui était totalement impossible, après avoir galéré avec la création d'une clef usb pour réinstaller le système les erreurs continuent. Obligé de renvoyer le matériel car il s'agit sans doute d'un problème de matériel. Décevant pour un produit de ce prix.\", '10 personnes ont trouvé cela utile', 'Microsoft Surface Pro 7 PC portable (Windows 10, Écran Tactile 12.3\", Intel Core i5, 8Go RAM, 128Go SSD, Platine)', 'Marque : Microsoft Surface', '4,6 sur 5 étoiles', '3 105 évaluations', '855,20 €', 'informatique')\n ====================================== \n('Incroyable', '4,0 sur 5 étoiles', \"Cette tablette est incroyable et presque parfaite : elle a tout ce que j'attendais d'elle :La possibilité d'utiliser toutes mes applications WindowsLa batterie qui me tient presque la journée (1 recharge par jour en USB C en général)Du matériel de qualité et solideLa possibilité de la carte SDPas de ventilateur (!) pas de bruit et lorsqu'elle est chaud, je la verrouille 10min et elle est déjà refroidie, quelle est cette sorcellerie ?L'écran est vraiment magnifique et avec l'application Tablet Pro je n'ai pas besoin de clavier (je n'ai pas acheté une tablette pour travailler comme sur PC, sinon autant acheter un PC portable qui sera plus puissant et moins cher).Un outil super pour les créatifs !Je l'utilise également pour du montage vidéo. Difficile de donner un avis pour le moment mais je mettrai à jour mon avis plus tard avec de l'expérience et plus de temps. Pour l'instant, on va dire que du montage simple fait l'affaire (I5 8Gb 128Gb). Par contre en usage intensif la batterie peut tomber à 2/3h et la tablette chauffe énormément (vraiment chaud !) je ne m'y attendait pas et ça m'a surpris venant après avoir utilisé longtemps un iPad, mais en y réfléchissant bien ça semble logique : c'est un processeur de PC là dedans.Dans le futur on n'aura sans doute plus ces soucis avec les Windows ARM lorsque les développeurs se seront enfin remué le c*l (sans doute quand Apple sortira ses premiers Mac ARM).Alors maintenant 2 points négatifs que j'ai pu observer en 1 mois :- Je me prend parfois des coups de jus en touchant le dos de la tablette lorsqu'elle est en charge- L'écran a l'air de se courber légèrement sous la chaleur (et ne reviens pas à sa forme initiale ensuite)Ce sont 2 problèmes visiblement connus de Microsoft et au début je me suis demandé comment un tel produit avec 2 si gros défauts pouvait même exister (!).Visiblement ces problèmes ne dépassent pas les normes réglementaires (sauf exceptions) et les produits ont été étudiés pour continuer de fonctionner sans soucis. J'ai voulu renvoyer la tablette mais de 1, il n'y a aucune vraie alternative à part l'iPad ou les tablettes Android qui sont tous 2 très (trop) limités pour mon usage (pro) et de 2 j'ai consulté ma garantie sur le site de Microsoft et en cas de soucis et d'après les avis de clients sur les forums que j'ai pu trouver, si le problème devient gênant, ils remplacent autant de fois que nécessaire le produit sous quelques jours après en avoir fait la demande.Mes craintes de me retrouver avec un appareil brulé par ses propres capacités ou déformé par un usage normal se sont envolées, après tout si on peut ravoir une tablette neuve en cas de vrai soucis, pourquoi pas. Je n'ai pas besoin de la plus belle tablette la plus parfaite la plus jolie, j'ai seulement besoin d'un produit léger, fonctionnel, portable, petit et sans ventilateurs (tous mes PC portables ont eu les ventilateurs qui finissent par lâcher après quelques mois de transports, même Razer, MSI, ... une honte.)En bref, j'ai eu peur les premiers jours mais la garantie me rassure, le produit est fonctionnel et assez puissant et la promesse est tenue malgré des défauts de conception du produit qui sont difficilement compréhensibles.Dommage qu'il n'y ai pas de thunderbolt 3, elle aurait remplacée complètement mon PC portable !\", 'Une personne a trouvé cela utile', 'Microsoft Surface Pro 7 PC portable (Windows 10, Écran Tactile 12.3\", Intel Core i5, 8Go RAM, 128Go SSD, Platine)', 'Marque : Microsoft Surface', '4,6 sur 5 étoiles', '3 105 évaluations', '855,20 €', 'informatique')\n ====================================== \n('Tablette fonctionne bien', '1,0 sur 5 étoiles', \"UPDATE: La durée de vie de la batterie est de 4-5 heures, très loin des 10h promises... Décevant pour une tablette de cette valeur. Purement et simplement de la publicité mensongere.Je suis passé d'une Surface Pro 4 à la Surface Pro 7. La différence n'est pas assez impressionnante que je m'attendais.Une des raisons pour lesquelles j'ai choisi la Pro 7 et pas la Pro 6 était l'Instant On. Ça marche que pendant 1 minute maximum; après c'est le même processus lent pour se re-logger. Maintenant je choisirais la Surface Pro 6 qui à une durée de vie de la batterie nettement supérieure...Bonus: j'avais reçu un code promotionnel lors de ma commande, sauf que ça n'a jamais fonctionné. Je comptais l'utiliser pour acheter le Type Cover, dommage, je vais l'acheter ailleurs.\", '4 personnes ont trouvé cela utile', 'Microsoft Surface Pro 7 PC portable (Windows 10, Écran Tactile 12.3\", Intel Core i5, 8Go RAM, 128Go SSD, Platine)', 'Marque : Microsoft Surface', '4,6 sur 5 étoiles', '3 105 évaluations', '855,20 €', 'informatique')\n ====================================== \n"
     ]
    }
   ],
   "source": [
    "ds = []\n",
    "for category,products in prod_urls.items():\n",
    "    for prod in products:\n",
    "        product = product_scrapper(driver,category,prod['prod_url'])\n",
    "        ds = reviews_scrapper(driver,product,prod['rev_url'],ds) \n",
    "\n",
    "\n",
    "print(len(ds))\n",
    "for row in ds :\n",
    "    print(f'{row}\\n ====================================== ')\n",
    "\n",
    "\n",
    "\n"
   ]
  }
 ],
 "metadata": {
  "kernelspec": {
   "display_name": "Python 3",
   "language": "python",
   "name": "python3"
  },
  "language_info": {
   "codemirror_mode": {
    "name": "ipython",
    "version": 2
   },
   "file_extension": ".py",
   "mimetype": "text/x-python",
   "name": "python",
   "nbconvert_exporter": "python",
   "pygments_lexer": "ipython2",
   "version": "3.9.1-final"
  }
 },
 "nbformat": 4,
 "nbformat_minor": 0
}