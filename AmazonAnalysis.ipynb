{
  "nbformat": 4,
  "nbformat_minor": 0,
  "metadata": {
    "kernelspec": {
      "name": "python3",
      "display_name": "Python 3.8.2 64-bit",
      "metadata": {
        "interpreter": {
          "hash": "31f2aee4e71d21fbe5cf8b01ff0e069b9275f58929596ceb00d14d90e3e16cd6"
        }
      }
    },
    "language_info": {
      "codemirror_mode": {
        "name": "ipython",
        "version": 2
      },
      "file_extension": ".py",
      "mimetype": "text/x-python",
      "name": "python",
      "nbconvert_exporter": "python",
      "pygments_lexer": "ipython2",
      "version": "3.8.2"
    },
    "colab": {
      "name": "Copie de AmazonAnalysis.ipynb",
      "provenance": [],
      "collapsed_sections": [],
      "include_colab_link": true
    },
    "metadata": {
      "interpreter": {
        "hash": "082e9a3bcad0a290d0001e938aa60b99250c6c2ef33a923c00b70f9826caf4b7"
      }
    }
  },
  "cells": [
    {
      "cell_type": "markdown",
      "metadata": {
        "id": "view-in-github",
        "colab_type": "text"
      },
      "source": [
        "<a href=\"https://colab.research.google.com/github/ChihabEddine98/AmazonAnalysis/blob/main/AmazonAnalysis.ipynb\" target=\"_parent\"><img src=\"https://colab.research.google.com/assets/colab-badge.svg\" alt=\"Open In Colab\"/></a>"
      ]
    },
    {
      "cell_type": "markdown",
      "metadata": {
        "id": "FfQ3UbC5chPD"
      },
      "source": [
        "# TODO LIST\n",
        "--------\n",
        "\n",
        "\n",
        "- [x] Genral collect for dataset\n",
        "- [ ] Complete dataset\n",
        "- [ ] Make settings in an external file\n",
        "- [ ] Make settings in an external file\n",
        "- [ ] Make requirement installations in another file\n",
        "- [ ] Clean Data & prepocessing\n"
      ]
    },
    {
      "cell_type": "markdown",
      "metadata": {
        "id": "r3YDrW01aUJy"
      },
      "source": [
        "# Requirements Installations"
      ]
    },
    {
      "cell_type": "code",
      "metadata": {
        "id": "lFanlL5hxKsF",
        "colab": {
          "base_uri": "https://localhost:8080/"
        },
        "outputId": "b3fae9df-ea6d-4f56-e181-07e0a4cff3d7"
      },
      "source": [
        "# Run just once \n",
        "!pip install webdriver-manager\n",
        "!pip install selenium\n",
        "!pip install requests\n",
        "!apt-get update # to update ubuntu to correctly run apt install\n",
        "!apt install chromium-chromedriver\n",
        "!cp /usr/lib/chromium-browser/chromedriver /usr/bin"
      ],
      "execution_count": 1,
      "outputs": [
        {
          "output_type": "stream",
          "text": [
            "Requirement already satisfied: webdriver-manager in /usr/local/lib/python3.7/dist-packages (3.3.0)\n",
            "Requirement already satisfied: configparser in /usr/local/lib/python3.7/dist-packages (from webdriver-manager) (5.0.2)\n",
            "Requirement already satisfied: requests in /usr/local/lib/python3.7/dist-packages (from webdriver-manager) (2.23.0)\n",
            "Requirement already satisfied: crayons in /usr/local/lib/python3.7/dist-packages (from webdriver-manager) (0.4.0)\n",
            "Requirement already satisfied: urllib3!=1.25.0,!=1.25.1,<1.26,>=1.21.1 in /usr/local/lib/python3.7/dist-packages (from requests->webdriver-manager) (1.24.3)\n",
            "Requirement already satisfied: idna<3,>=2.5 in /usr/local/lib/python3.7/dist-packages (from requests->webdriver-manager) (2.10)\n",
            "Requirement already satisfied: certifi>=2017.4.17 in /usr/local/lib/python3.7/dist-packages (from requests->webdriver-manager) (2020.12.5)\n",
            "Requirement already satisfied: chardet<4,>=3.0.2 in /usr/local/lib/python3.7/dist-packages (from requests->webdriver-manager) (3.0.4)\n",
            "Requirement already satisfied: colorama in /usr/local/lib/python3.7/dist-packages (from crayons->webdriver-manager) (0.4.4)\n",
            "Requirement already satisfied: selenium in /usr/local/lib/python3.7/dist-packages (3.141.0)\n",
            "Requirement already satisfied: urllib3 in /usr/local/lib/python3.7/dist-packages (from selenium) (1.24.3)\n",
            "Requirement already satisfied: requests in /usr/local/lib/python3.7/dist-packages (2.23.0)\n",
            "Requirement already satisfied: urllib3!=1.25.0,!=1.25.1,<1.26,>=1.21.1 in /usr/local/lib/python3.7/dist-packages (from requests) (1.24.3)\n",
            "Requirement already satisfied: idna<3,>=2.5 in /usr/local/lib/python3.7/dist-packages (from requests) (2.10)\n",
            "Requirement already satisfied: chardet<4,>=3.0.2 in /usr/local/lib/python3.7/dist-packages (from requests) (3.0.4)\n",
            "Requirement already satisfied: certifi>=2017.4.17 in /usr/local/lib/python3.7/dist-packages (from requests) (2020.12.5)\n",
            "Ign:1 https://developer.download.nvidia.com/compute/cuda/repos/ubuntu1804/x86_64  InRelease\n",
            "Ign:2 https://developer.download.nvidia.com/compute/machine-learning/repos/ubuntu1804/x86_64  InRelease\n",
            "Hit:3 https://cloud.r-project.org/bin/linux/ubuntu bionic-cran40/ InRelease\n",
            "Hit:4 https://developer.download.nvidia.com/compute/cuda/repos/ubuntu1804/x86_64  Release\n",
            "Hit:5 https://developer.download.nvidia.com/compute/machine-learning/repos/ubuntu1804/x86_64  Release\n",
            "Hit:6 http://security.ubuntu.com/ubuntu bionic-security InRelease\n",
            "Hit:7 http://ppa.launchpad.net/c2d4u.team/c2d4u4.0+/ubuntu bionic InRelease\n",
            "Hit:8 http://archive.ubuntu.com/ubuntu bionic InRelease\n",
            "Hit:10 http://archive.ubuntu.com/ubuntu bionic-updates InRelease\n",
            "Hit:11 http://ppa.launchpad.net/cran/libgit2/ubuntu bionic InRelease\n",
            "Hit:12 http://archive.ubuntu.com/ubuntu bionic-backports InRelease\n",
            "Hit:14 http://ppa.launchpad.net/deadsnakes/ppa/ubuntu bionic InRelease\n",
            "Hit:15 http://ppa.launchpad.net/graphics-drivers/ppa/ubuntu bionic InRelease\n",
            "Reading package lists... Done\n",
            "Reading package lists... Done\n",
            "Building dependency tree       \n",
            "Reading state information... Done\n",
            "chromium-chromedriver is already the newest version (89.0.4389.90-0ubuntu0.18.04.2).\n",
            "0 upgraded, 0 newly installed, 0 to remove and 34 not upgraded.\n",
            "cp: '/usr/lib/chromium-browser/chromedriver' and '/usr/bin/chromedriver' are the same file\n"
          ],
          "name": "stdout"
        }
      ]
    },
    {
      "cell_type": "code",
      "metadata": {
        "collapsed": true,
        "id": "Yk5dUYoUxKsS"
      },
      "source": [
        "# imports\n",
        "import os\n",
        "import sys\n",
        "import requests as rq\n",
        "import numpy as np\n",
        "import pandas as pd \n",
        "import matplotlib.pyplot as plt\n",
        "from bs4 import BeautifulSoup\n",
        "from selenium import webdriver\n",
        "from webdriver_manager.chrome import ChromeDriverManager\n",
        "from webdriver_manager.utils import ChromeType\n",
        "import unicodedata\n",
        "# end imports"
      ],
      "execution_count": 2,
      "outputs": []
    },
    {
      "cell_type": "markdown",
      "metadata": {
        "collapsed": false,
        "pycharm": {
          "name": "#%% md\n"
        },
        "id": "Sz_S6AXpxKsT"
      },
      "source": [
        "# Part 01  : Data Gathering"
      ]
    },
    {
      "cell_type": "code",
      "metadata": {
        "id": "BkWuqLbLxKsT"
      },
      "source": [
        "# Settings \n",
        "reviews_div_cls = 'review'\n",
        "\n",
        "\n",
        "prod_urls = {'informatique':\n",
        "              [\n",
        "                {\n",
        "                    'prod_id': 1,\n",
        "                    'prod_url':\n",
        "                    'https://www.amazon.fr/Exclusif-Microsoft-Surface-Windows-tactile/dp/B08CNLLM57/ref=sr_1_11?__mk_fr_FR=%C3%85M%C3%85%C5%BD%C3%95%C3%91&dchild=1&keywords=Microsoft+Surface&qid=1618066809&s=computers&sr=1-11',\n",
        "                    'rev_url':\n",
        "                    'https://www.amazon.fr/Exclusif-Microsoft-Surface-Windows-tactile/product-reviews/B08CNLLM57/ref=cm_cr_dp_d_show_all_btm?ie=UTF8&reviewerType=all_reviews',\n",
        "                    'rev_pages': 5 ,\n",
        "                    'rev_count' : 50\n",
        "                \n",
        "                },\n",
        "                {\n",
        "                    'prod_id': 2,\n",
        "                    'prod_url':\n",
        "                    'https://www.amazon.fr/HP-302-Pack-cartouches-Authentiques/dp/B01LXLFF6H?ref_=Oct_s9_apbd_omwf_hd_bw_bN4CkB&pf_rd_r=V2TTM35Y3ZRBSP9XFVDS&pf_rd_p=3d37f0c5-041f-5707-bec0-94d62f6af77d&pf_rd_s=merchandised-search-10&pf_rd_t=BROWSE&pf_rd_i=340858031&th=1',\n",
        "                    'rev_url':\n",
        "                    'https://www.amazon.fr/HP-302-Pack-cartouches-Authentiques/product-reviews/B01LXLFF6H/ref=cm_cr_dp_d_show_all_btm?ie=UTF8&reviewerType=all_reviews',\n",
        "                    'rev_pages': 10 ,\n",
        "                    'rev_count' : 100\n",
        "                \n",
        "                }\n",
        "            ],\n",
        "            'cuisine':\n",
        "            [\n",
        "              {\n",
        "                  'prod_id': 3,\n",
        "                  'prod_url':\n",
        "                  'https://www.amazon.fr/AmazonBasics-Batterie-Cuisine-Anti-adh%C3%A9sive-pi%C3%A8ces/dp/B07481LPMF/ref=sr_1_5?_encoding=UTF8&c=ts&dchild=1&keywords=Casseroles%2C+po%C3%AAles+et+faitouts&qid=1618067686&s=kitchen&sr=1-5&ts_id=2969505031',\n",
        "                  'rev_url':\n",
        "                  'https://www.amazon.fr/AmazonBasics-Batterie-Cuisine-Anti-adh%C3%A9sive-pi%C3%A8ces/product-reviews/B07481LPMF/ref=cm_cr_arp_d_paging_btm_next_2?ie=UTF8&reviewerType=all_reviews',\n",
        "                  'rev_pages': 5 ,\n",
        "                  'rev_count' : 50\n",
        "              \n",
        "              }\n",
        "            ]\n",
        "             \n",
        "}\n",
        "\n",
        "prod_cols = ['Prod_Title','Prod_Brnd','Prod_Rate','Prod_Eval','Prod_Price','Category','Nb_Revs','Prod_ID']\n",
        "rev_cols = ['Rev_Title','Rev_Rate','Rev_Bdy','Rev_Hlp','Prod_ID']\n",
        "\n",
        "\n",
        "\n",
        "\n",
        "# End Settings"
      ],
      "execution_count": 3,
      "outputs": []
    },
    {
      "cell_type": "markdown",
      "metadata": {
        "id": "Nm2Dkn3UxKsT"
      },
      "source": [
        "# Scrapping Product Information"
      ]
    },
    {
      "cell_type": "code",
      "metadata": {
        "id": "P3qS_-lsxKsU"
      },
      "source": [
        "\n",
        "# Scrapping Product Data \n",
        "def product_scrapper(driver,prod_category,prod_url):\n",
        "    driver.get(prod_url)\n",
        "    prod_soup = BeautifulSoup(driver.page_source,'html.parser')\n",
        "\n",
        "    # Product Info\n",
        "    prod_title = prod_soup.find('span',{'id' : 'productTitle' }).text\n",
        "    prod_brand = prod_soup.find('a',{'id' : 'bylineInfo' }).text\n",
        "    prod_rate = prod_soup.find('span',{'class' : 'a-icon-alt' }).text\n",
        "    prod_eval = prod_soup.find('span',{'id' : 'acrCustomerReviewText' }).text\n",
        "    prod_price = prod_soup.find('span',{'id' : 'priceblock_ourprice' }).text\n",
        "\n",
        "    result = tuple(map(lambda x : unicodedata.normalize(\"NFKD\",x.strip()),[prod_title,prod_brand,prod_rate,prod_eval,prod_price,prod_category]))\n",
        "    return result\n",
        "\n"
      ],
      "execution_count": 4,
      "outputs": []
    },
    {
      "cell_type": "markdown",
      "metadata": {
        "id": "utS7u-TcajLG"
      },
      "source": [
        "# Scrapping Reviews Data"
      ]
    },
    {
      "cell_type": "code",
      "metadata": {
        "id": "3Nkf1Ew2ag-u"
      },
      "source": [
        "# Scrapping Reviews Data\n",
        "def reviews_scrapper(driver,prod,rev_url,ds):\n",
        "    driver.get(rev_url)\n",
        "    rev_soup = BeautifulSoup(driver.page_source,'html.parser')\n",
        "    reviews_div = rev_soup.find_all('div',{'class':reviews_div_cls})\n",
        "\n",
        "    for review in reviews_div:\n",
        "        try :\n",
        "          review_title = review.find('a',{'data-hook' : 'review-title'}).text\n",
        "        except AttributeError:\n",
        "          review_title = 'Null'\n",
        "        \n",
        "        try :\n",
        "          review_rate = review.find('i',{'data-hook' : 'review-star-rating'}).text\n",
        "        except AttributeError:\n",
        "          review_rate = '0'\n",
        "        \n",
        "        review_body = review.find('span',{'data-hook' : 'review-body'}).text\n",
        "        \n",
        "        try :\n",
        "          review_help = review.find('span',{'data-hook' : 'helpful-vote-statement'}).text\n",
        "        except AttributeError:\n",
        "          review_help = '0'\n",
        "        \n",
        "        rev_result = tuple(map(lambda x : unicodedata.normalize(\"NFKD\",x.strip()),[review_title,review_rate,review_body,review_help]))\n",
        "        ds.append(rev_result+(prod,))\n",
        "\n",
        "    return ds"
      ],
      "execution_count": 5,
      "outputs": []
    },
    {
      "cell_type": "markdown",
      "metadata": {
        "id": "cZZVFmsgauyZ"
      },
      "source": [
        "# Testing data collect"
      ]
    },
    {
      "cell_type": "markdown",
      "metadata": {
        "id": "bs0n_VdqaUJ1"
      },
      "source": [
        "## Setup the web-driver "
      ]
    },
    {
      "cell_type": "code",
      "metadata": {
        "id": "gJigfiqlaUJ1"
      },
      "source": [
        "sys.path.insert(0,'/usr/lib/chromium-browser/chromedriver')\n",
        "options = webdriver.ChromeOptions()\n",
        "options.add_argument('--headless')\n",
        "options.add_argument('--no-sandbox')\n",
        "options.add_argument('--disable-dev-shm-usage')\n",
        "driver = webdriver.Chrome('chromedriver',options = options)"
      ],
      "execution_count": 6,
      "outputs": []
    },
    {
      "cell_type": "markdown",
      "metadata": {
        "id": "KbEtDaUKa6qR"
      },
      "source": [
        "## Scrapping Products"
      ]
    },
    {
      "cell_type": "code",
      "metadata": {
        "id": "Qfwo08AqxKsU",
        "colab": {
          "base_uri": "https://localhost:8080/",
          "height": 142
        },
        "outputId": "0c28b3bc-b7c9-4db1-9010-b5ffc2eb6caa"
      },
      "source": [
        "lst_prod = [] \n",
        "for category,products in prod_urls.items():\n",
        "    for prod in products:\n",
        "        product = product_scrapper(driver,category,prod['prod_url'])+(prod['rev_count'],prod['prod_id'])\n",
        "        lst_prod.append(product)\n",
        "\n",
        "\n",
        "\n",
        "\n",
        "df_prod = pd.DataFrame(lst_prod)\n",
        "df_prod.columns = prod_cols\n",
        "df_prod"
      ],
      "execution_count": 7,
      "outputs": [
        {
          "output_type": "execute_result",
          "data": {
            "text/html": [
              "<div>\n",
              "<style scoped>\n",
              "    .dataframe tbody tr th:only-of-type {\n",
              "        vertical-align: middle;\n",
              "    }\n",
              "\n",
              "    .dataframe tbody tr th {\n",
              "        vertical-align: top;\n",
              "    }\n",
              "\n",
              "    .dataframe thead th {\n",
              "        text-align: right;\n",
              "    }\n",
              "</style>\n",
              "<table border=\"1\" class=\"dataframe\">\n",
              "  <thead>\n",
              "    <tr style=\"text-align: right;\">\n",
              "      <th></th>\n",
              "      <th>Prod_Title</th>\n",
              "      <th>Prod_Brnd</th>\n",
              "      <th>Prod_Rate</th>\n",
              "      <th>Prod_Eval</th>\n",
              "      <th>Prod_Price</th>\n",
              "      <th>Category</th>\n",
              "      <th>Nb_Revs</th>\n",
              "      <th>Prod_ID</th>\n",
              "    </tr>\n",
              "  </thead>\n",
              "  <tbody>\n",
              "    <tr>\n",
              "      <th>0</th>\n",
              "      <td>Pack Exclusif Microsoft Surface Pro 7 Ordinate...</td>\n",
              "      <td>Marque : Microsoft Surface</td>\n",
              "      <td>4,7 sur 5 étoiles</td>\n",
              "      <td>3 274 évaluations</td>\n",
              "      <td>1 195,99 €</td>\n",
              "      <td>informatique</td>\n",
              "      <td>50</td>\n",
              "      <td>1</td>\n",
              "    </tr>\n",
              "    <tr>\n",
              "      <th>1</th>\n",
              "      <td>HP 302 Pack de 2 Cartouches d'Encre Noire et T...</td>\n",
              "      <td>Visiter la boutique HP</td>\n",
              "      <td>4,6 sur 5 étoiles</td>\n",
              "      <td>99 264 évaluations</td>\n",
              "      <td>31,57 €</td>\n",
              "      <td>informatique</td>\n",
              "      <td>100</td>\n",
              "      <td>2</td>\n",
              "    </tr>\n",
              "    <tr>\n",
              "      <th>2</th>\n",
              "      <td>Amazon Basics LFFP16027 Batterie de Cuisine An...</td>\n",
              "      <td>Visiter la boutique Amazon Basics</td>\n",
              "      <td>4,4 sur 5 étoiles</td>\n",
              "      <td>25 840 évaluations</td>\n",
              "      <td>60,29 €</td>\n",
              "      <td>cuisine</td>\n",
              "      <td>50</td>\n",
              "      <td>3</td>\n",
              "    </tr>\n",
              "  </tbody>\n",
              "</table>\n",
              "</div>"
            ],
            "text/plain": [
              "                                          Prod_Title  ... Prod_ID\n",
              "0  Pack Exclusif Microsoft Surface Pro 7 Ordinate...  ...       1\n",
              "1  HP 302 Pack de 2 Cartouches d'Encre Noire et T...  ...       2\n",
              "2  Amazon Basics LFFP16027 Batterie de Cuisine An...  ...       3\n",
              "\n",
              "[3 rows x 8 columns]"
            ]
          },
          "metadata": {
            "tags": []
          },
          "execution_count": 7
        }
      ]
    },
    {
      "cell_type": "markdown",
      "metadata": {
        "id": "D4ifZn3YxKsU"
      },
      "source": [
        "## Scrapping Reviews Data\n",
        "\n",
        "\n"
      ]
    },
    {
      "cell_type": "code",
      "metadata": {
        "id": "kRaip7CfxKsV",
        "colab": {
          "base_uri": "https://localhost:8080/"
        },
        "outputId": "4f6be70d-8da2-4a3e-ffae-e4dac45bdd1c"
      },
      "source": [
        "# This function help us to generate the dataset of reviews\n",
        "# and also the dataframe of several products\n",
        "\n",
        "lst_rev = []\n",
        "for category,products in prod_urls.items():\n",
        "    for prod in products:\n",
        "        for i in range(1,prod['rev_pages']+1):\n",
        "            lst_rev = reviews_scrapper(driver,prod['prod_id'],f'{prod[\"rev_url\"]}&pageNumber={i}',lst_rev) \n",
        "\n",
        "df_rev = pd.DataFrame(lst_rev)\n",
        "df_rev.columns = rev_cols\n",
        "df_rev.info()\n",
        "\n",
        "\n",
        "\n"
      ],
      "execution_count": 8,
      "outputs": [
        {
          "output_type": "stream",
          "text": [
            "<class 'pandas.core.frame.DataFrame'>\n",
            "RangeIndex: 200 entries, 0 to 199\n",
            "Data columns (total 5 columns):\n",
            " #   Column     Non-Null Count  Dtype \n",
            "---  ------     --------------  ----- \n",
            " 0   Rev_Title  200 non-null    object\n",
            " 1   Rev_Rate   200 non-null    object\n",
            " 2   Rev_Bdy    200 non-null    object\n",
            " 3   Rev_Hlp    200 non-null    object\n",
            " 4   Prod_ID    200 non-null    int64 \n",
            "dtypes: int64(1), object(4)\n",
            "memory usage: 7.9+ KB\n"
          ],
          "name": "stdout"
        }
      ]
    },
    {
      "cell_type": "code",
      "metadata": {
        "colab": {
          "base_uri": "https://localhost:8080/",
          "height": 419
        },
        "id": "UJvJiL_uJE25",
        "outputId": "43fb684d-fcf7-4276-90ea-c1484ff218bf"
      },
      "source": [
        "df_rev"
      ],
      "execution_count": 10,
      "outputs": [
        {
          "output_type": "execute_result",
          "data": {
            "text/html": [
              "<div>\n",
              "<style scoped>\n",
              "    .dataframe tbody tr th:only-of-type {\n",
              "        vertical-align: middle;\n",
              "    }\n",
              "\n",
              "    .dataframe tbody tr th {\n",
              "        vertical-align: top;\n",
              "    }\n",
              "\n",
              "    .dataframe thead th {\n",
              "        text-align: right;\n",
              "    }\n",
              "</style>\n",
              "<table border=\"1\" class=\"dataframe\">\n",
              "  <thead>\n",
              "    <tr style=\"text-align: right;\">\n",
              "      <th></th>\n",
              "      <th>Rev_Title</th>\n",
              "      <th>Rev_Rate</th>\n",
              "      <th>Rev_Bdy</th>\n",
              "      <th>Rev_Hlp</th>\n",
              "      <th>Prod_ID</th>\n",
              "    </tr>\n",
              "  </thead>\n",
              "  <tbody>\n",
              "    <tr>\n",
              "      <th>0</th>\n",
              "      <td>Surface Pro 7ème génération</td>\n",
              "      <td>4,0 sur 5 étoiles</td>\n",
              "      <td>Je possède la Surface Pro 6 (soit la généra...</td>\n",
              "      <td>155 personnes ont trouvé cela utile</td>\n",
              "      <td>1</td>\n",
              "    </tr>\n",
              "    <tr>\n",
              "      <th>1</th>\n",
              "      <td>Du reconditionné au prix du neuf!</td>\n",
              "      <td>1,0 sur 5 étoiles</td>\n",
              "      <td>Produit bien reçu.Par contre on achète au pr...</td>\n",
              "      <td>110 personnes ont trouvé cela utile</td>\n",
              "      <td>1</td>\n",
              "    </tr>\n",
              "    <tr>\n",
              "      <th>2</th>\n",
              "      <td>THROTTING</td>\n",
              "      <td>2,0 sur 5 étoiles</td>\n",
              "      <td>POUR LA VERSION I5 SEULEMENT : PHENOMENE DE TH...</td>\n",
              "      <td>72 personnes ont trouvé cela utile</td>\n",
              "      <td>1</td>\n",
              "    </tr>\n",
              "    <tr>\n",
              "      <th>3</th>\n",
              "      <td>ATTENTION AU TITRE TROMPEUR !</td>\n",
              "      <td>2,0 sur 5 étoiles</td>\n",
              "      <td>Le titre fait référence à un Surface Pro 7 ...</td>\n",
              "      <td>98 personnes ont trouvé cela utile</td>\n",
              "      <td>1</td>\n",
              "    </tr>\n",
              "    <tr>\n",
              "      <th>4</th>\n",
              "      <td>C'est bien une version i7</td>\n",
              "      <td>5,0 sur 5 étoiles</td>\n",
              "      <td>Contrairement au commentaire disant que c'est ...</td>\n",
              "      <td>44 personnes ont trouvé cela utile</td>\n",
              "      <td>1</td>\n",
              "    </tr>\n",
              "    <tr>\n",
              "      <th>...</th>\n",
              "      <td>...</td>\n",
              "      <td>...</td>\n",
              "      <td>...</td>\n",
              "      <td>...</td>\n",
              "      <td>...</td>\n",
              "    </tr>\n",
              "    <tr>\n",
              "      <th>195</th>\n",
              "      <td>Que ça va bien sûr les plaques à induction</td>\n",
              "      <td>5,0 sur 5 étoiles</td>\n",
              "      <td>Super au delà de nos espérances belle batter...</td>\n",
              "      <td>0</td>\n",
              "      <td>3</td>\n",
              "    </tr>\n",
              "    <tr>\n",
              "      <th>196</th>\n",
              "      <td>Bon rapport qualité prix</td>\n",
              "      <td>5,0 sur 5 étoiles</td>\n",
              "      <td>Pour le prix c'est nickelA voir sur la durée ...</td>\n",
              "      <td>0</td>\n",
              "      <td>3</td>\n",
              "    </tr>\n",
              "    <tr>\n",
              "      <th>197</th>\n",
              "      <td>muy bien!</td>\n",
              "      <td>5,0 sur 5 étoiles</td>\n",
              "      <td>muy bien!</td>\n",
              "      <td>0</td>\n",
              "      <td>3</td>\n",
              "    </tr>\n",
              "    <tr>\n",
              "      <th>198</th>\n",
              "      <td>La solidarité et se lave facilement n accroch...</td>\n",
              "      <td>3,0 sur 5 étoiles</td>\n",
              "      <td>Bon produit solide mais il manque 3 ustensiles...</td>\n",
              "      <td>0</td>\n",
              "      <td>3</td>\n",
              "    </tr>\n",
              "    <tr>\n",
              "      <th>199</th>\n",
              "      <td>Rapport Qualité/Prix au top!</td>\n",
              "      <td>5,0 sur 5 étoiles</td>\n",
              "      <td>Les casseroles sont au top ! Reste à voir si ...</td>\n",
              "      <td>2 personnes ont trouvé cela utile</td>\n",
              "      <td>3</td>\n",
              "    </tr>\n",
              "  </tbody>\n",
              "</table>\n",
              "<p>200 rows × 5 columns</p>\n",
              "</div>"
            ],
            "text/plain": [
              "                                             Rev_Title  ... Prod_ID\n",
              "0                       Surface Pro 7ème génération  ...       1\n",
              "1                   Du reconditionné au prix du neuf!  ...       1\n",
              "2                                            THROTTING  ...       1\n",
              "3                        ATTENTION AU TITRE TROMPEUR !  ...       1\n",
              "4                            C'est bien une version i7  ...       1\n",
              "..                                                 ...  ...     ...\n",
              "195      Que ça va bien sûr les plaques à induction  ...       3\n",
              "196                          Bon rapport qualité prix  ...       3\n",
              "197                                          muy bien!  ...       3\n",
              "198  La solidarité et se lave facilement n accroch...  ...       3\n",
              "199                      Rapport Qualité/Prix au top!  ...       3\n",
              "\n",
              "[200 rows x 5 columns]"
            ]
          },
          "metadata": {
            "tags": []
          },
          "execution_count": 10
        }
      ]
    }
  ]
}