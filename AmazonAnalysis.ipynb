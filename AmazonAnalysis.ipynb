{
  "nbformat": 4,
  "nbformat_minor": 0,
  "metadata": {
    "kernelspec": {
      "name": "python3",
      "display_name": "Python 3.8.2 64-bit",
      "metadata": {
        "interpreter": {
          "hash": "31f2aee4e71d21fbe5cf8b01ff0e069b9275f58929596ceb00d14d90e3e16cd6"
        }
      }
    },
    "language_info": {
      "codemirror_mode": {
        "name": "ipython",
        "version": 2
      },
      "file_extension": ".py",
      "mimetype": "text/x-python",
      "name": "python",
      "nbconvert_exporter": "python",
      "pygments_lexer": "ipython2",
      "version": "3.8.2"
    },
    "colab": {
      "name": "AmazonAnalysis.ipynb",
      "provenance": [],
      "include_colab_link": true
    },
    "metadata": {
      "interpreter": {
        "hash": "082e9a3bcad0a290d0001e938aa60b99250c6c2ef33a923c00b70f9826caf4b7"
      }
    }
  },
  "cells": [
    {
      "cell_type": "markdown",
      "metadata": {
        "id": "view-in-github",
        "colab_type": "text"
      },
      "source": [
        "<a href=\"https://colab.research.google.com/github/ChihabEddine98/AmazonAnalysis/blob/main/AmazonAnalysis.ipynb\" target=\"_parent\"><img src=\"https://colab.research.google.com/assets/colab-badge.svg\" alt=\"Open In Colab\"/></a>"
      ]
    },
    {
      "cell_type": "markdown",
      "metadata": {
        "id": "r3YDrW01aUJy"
      },
      "source": [
        "# Requirements Installations"
      ]
    },
    {
      "cell_type": "code",
      "metadata": {
        "id": "lFanlL5hxKsF",
        "colab": {
          "base_uri": "https://localhost:8080/"
        },
        "outputId": "7e2abe60-d939-4016-96bd-5ce48fdada60"
      },
      "source": [
        "# Run just once \n",
        "!pip install webdriver-manager\n",
        "!pip install selenium\n",
        "!pip install requests\n",
        "!apt-get update # to update ubuntu to correctly run apt install\n",
        "!apt install chromium-chromedriver\n",
        "!cp /usr/lib/chromium-browser/chromedriver /usr/bin"
      ],
      "execution_count": 3,
      "outputs": [
        {
          "output_type": "stream",
          "name": "stdout",
          "text": [
            "Requirement already satisfied: webdriver-manager in /usr/local/lib/python3.9/site-packages (3.3.0)\n",
            "Requirement already satisfied: requests in /usr/local/lib/python3.9/site-packages (from webdriver-manager) (2.25.1)\n",
            "Requirement already satisfied: crayons in /usr/local/lib/python3.9/site-packages (from webdriver-manager) (0.4.0)\n",
            "Requirement already satisfied: configparser in /usr/local/lib/python3.9/site-packages (from webdriver-manager) (5.0.2)\n",
            "Requirement already satisfied: colorama in /usr/local/lib/python3.9/site-packages (from crayons->webdriver-manager) (0.4.4)\n",
            "Requirement already satisfied: certifi>=2017.4.17 in /usr/local/lib/python3.9/site-packages (from requests->webdriver-manager) (2020.12.5)\n",
            "Requirement already satisfied: idna<3,>=2.5 in /usr/local/lib/python3.9/site-packages (from requests->webdriver-manager) (2.10)\n",
            "Requirement already satisfied: urllib3<1.27,>=1.21.1 in /usr/local/lib/python3.9/site-packages (from requests->webdriver-manager) (1.26.3)\n",
            "Requirement already satisfied: chardet<5,>=3.0.2 in /usr/local/lib/python3.9/site-packages (from requests->webdriver-manager) (4.0.0)\n",
            "Requirement already satisfied: selenium in /usr/local/lib/python3.9/site-packages (3.141.0)\n",
            "Requirement already satisfied: urllib3 in /usr/local/lib/python3.9/site-packages (from selenium) (1.26.3)\n",
            "Requirement already satisfied: requests in /usr/local/lib/python3.9/site-packages (2.25.1)\n",
            "Requirement already satisfied: certifi>=2017.4.17 in /usr/local/lib/python3.9/site-packages (from requests) (2020.12.5)\n",
            "Requirement already satisfied: urllib3<1.27,>=1.21.1 in /usr/local/lib/python3.9/site-packages (from requests) (1.26.3)\n",
            "Requirement already satisfied: chardet<5,>=3.0.2 in /usr/local/lib/python3.9/site-packages (from requests) (4.0.0)\n",
            "Requirement already satisfied: idna<3,>=2.5 in /usr/local/lib/python3.9/site-packages (from requests) (2.10)\n",
            "zsh:1: command not found: apt-get\n",
            "Unable to locate an executable at \"/Users/djelidaymen/Library/Java/JavaVirtualMachines/openjdk-15/Contents/Home/bin/apt\" (-1)\n",
            "cp: /usr/lib/chromium-browser/chromedriver: No such file or directory\n"
          ]
        }
      ]
    },
    {
      "cell_type": "code",
      "metadata": {
        "collapsed": true,
        "id": "Yk5dUYoUxKsS"
      },
      "source": [
        "# imports\n",
        "import os\n",
        "import sys\n",
        "import requests as rq\n",
        "import numpy as np\n",
        "import pandas as pd \n",
        "import matplotlib.pyplot as plt\n",
        "from bs4 import BeautifulSoup\n",
        "from selenium import webdriver\n",
        "from webdriver_manager.chrome import ChromeDriverManager\n",
        "from webdriver_manager.utils import ChromeType\n",
        "import unicodedata\n",
        "# end imports"
      ],
      "execution_count": 12,
      "outputs": [
        {
          "output_type": "error",
          "ename": "ModuleNotFoundError",
          "evalue": "No module named 'requests'",
          "traceback": [
            "\u001b[0;31m---------------------------------------------------------------------------\u001b[0m",
            "\u001b[0;31mModuleNotFoundError\u001b[0m                       Traceback (most recent call last)",
            "\u001b[0;32m<ipython-input-12-a0b5073886fd>\u001b[0m in \u001b[0;36m<module>\u001b[0;34m\u001b[0m\n\u001b[1;32m      2\u001b[0m \u001b[0;32mimport\u001b[0m \u001b[0mos\u001b[0m\u001b[0;34m\u001b[0m\u001b[0;34m\u001b[0m\u001b[0m\n\u001b[1;32m      3\u001b[0m \u001b[0;32mimport\u001b[0m \u001b[0msys\u001b[0m\u001b[0;34m\u001b[0m\u001b[0;34m\u001b[0m\u001b[0m\n\u001b[0;32m----> 4\u001b[0;31m \u001b[0;32mimport\u001b[0m \u001b[0mrequests\u001b[0m \u001b[0;32mas\u001b[0m \u001b[0mrq\u001b[0m\u001b[0;34m\u001b[0m\u001b[0;34m\u001b[0m\u001b[0m\n\u001b[0m\u001b[1;32m      5\u001b[0m \u001b[0;32mimport\u001b[0m \u001b[0mnumpy\u001b[0m \u001b[0;32mas\u001b[0m \u001b[0mnp\u001b[0m\u001b[0;34m\u001b[0m\u001b[0;34m\u001b[0m\u001b[0m\n\u001b[1;32m      6\u001b[0m \u001b[0;32mimport\u001b[0m \u001b[0mpandas\u001b[0m \u001b[0;32mas\u001b[0m \u001b[0mpd\u001b[0m\u001b[0;34m\u001b[0m\u001b[0;34m\u001b[0m\u001b[0m\n",
            "\u001b[0;31mModuleNotFoundError\u001b[0m: No module named 'requests'"
          ]
        }
      ]
    },
    {
      "cell_type": "markdown",
      "metadata": {
        "collapsed": false,
        "pycharm": {
          "name": "#%% md\n"
        },
        "id": "Sz_S6AXpxKsT"
      },
      "source": [
        "# Part 01  : Data Gathering"
      ]
    },
    {
      "cell_type": "code",
      "metadata": {
        "id": "BkWuqLbLxKsT"
      },
      "source": [
        "# Settings \n",
        "reviews_div_cls = 'review'\n",
        "\n",
        "prod_urls = {'informatique':[\n",
        "    {\n",
        "        'prod_url':\n",
        "        'https://www.amazon.fr/Microsoft-Surface-Pro-Hybride-stockage/dp/B07X8NL7MW/ref=sr_1_7? __mk_fr_FR=%C3%85M%C3%85%C5%BD%C3%95%C3%91&dchild=1&keywords=Microsoft+Surface&qid=1616930888&  s=computers&sr=1-7',\n",
        "    'rev_url': 'https://www.amazon.fr/Microsoft-Surface-Pro-Hybride-stockage/product-reviews/B07X8NL7MW/ref=cm_cr_dp_d_show_all_btm?ie=UTF8&reviewerType=all_reviews'\n",
        "    \n",
        "    }\n",
        "    ]\n",
        "}\n",
        "\n",
        "ds_cols = ['Rev_Title','Rev_Rate','Rev_Bdy','Rev_Hlp','Prod_Title','Prod_Brnd','Prod_Rate','Prod_Eval','Prod_Price','Category']\n",
        "\n",
        "\n",
        "# End Settings"
      ],
      "execution_count": 13,
      "outputs": []
    },
    {
      "cell_type": "markdown",
      "metadata": {
        "id": "Nm2Dkn3UxKsT"
      },
      "source": [
        "# Scrapping Product Information"
      ]
    },
    {
      "cell_type": "code",
      "metadata": {
        "id": "P3qS_-lsxKsU"
      },
      "source": [
        "\n",
        "# Scrapping Product Data \n",
        "def product_scrapper(driver,prod_category,prod_url):\n",
        "    driver.get(prod_url)\n",
        "    prod_soup = BeautifulSoup(driver.page_source,'html.parser')\n",
        "\n",
        "    # Product Info\n",
        "    prod_title = prod_soup.find('span',{'id' : 'productTitle' }).text\n",
        "    prod_brand = prod_soup.find('a',{'id' : 'bylineInfo' }).text\n",
        "    prod_rate = prod_soup.find('span',{'class' : 'a-icon-alt' }).text\n",
        "    prod_eval = prod_soup.find('span',{'id' : 'acrCustomerReviewText' }).text\n",
        "    prod_price = prod_soup.find('span',{'id' : 'priceblock_ourprice' }).text\n",
        "\n",
        "\n",
        "    result = tuple(map(lambda x : unicodedata.normalize(\"NFKD\",x.strip()),[prod_title,prod_brand,       prod_rate,prod_eval,prod_price,prod_category]))\n",
        "    return result\n",
        "\n"
      ],
      "execution_count": 17,
      "outputs": []
    },
    {
      "cell_type": "markdown",
      "metadata": {
        "id": "utS7u-TcajLG"
      },
      "source": [
        "# Scrapping Reviews Data"
      ]
    },
    {
      "cell_type": "code",
      "metadata": {
        "id": "3Nkf1Ew2ag-u"
      },
      "source": [
        "# Scrapping Reviews Data\n",
        "def reviews_scrapper(driver,prod,rev_url,ds):\n",
        "    driver.get(rev_url)\n",
        "    rev_soup = BeautifulSoup(driver.page_source,'html.parser')\n",
        "    reviews_div = rev_soup.find_all('div',{'class':reviews_div_cls})\n",
        "\n",
        "    for review in reviews_div:\n",
        "        try :\n",
        "          review_title = review.find('a',{'data-hook' : 'review-title'}).text\n",
        "        except AttributeError:\n",
        "          review_title = 'Null'\n",
        "        \n",
        "        try :\n",
        "          review_rate = review.find('i',{'data-hook' : 'review-star-rating'}).text\n",
        "        except AttributeError:\n",
        "          review_rate = '0'\n",
        "        \n",
        "        review_body = review.find('span',{'data-hook' : 'review-body'}).text\n",
        "        \n",
        "        try :\n",
        "          review_help = review.find('span',{'data-hook' : 'helpful-vote-statement'}).text\n",
        "        except AttributeError:\n",
        "          review_help = '0'\n",
        "        \n",
        "        rev_result = tuple(map(lambda x : unicodedata.normalize(\"NFKD\",x.strip()),[review_title,review_rate,review_body,review_help]))\n",
        "        ds.append(rev_result+prod)\n",
        "\n",
        "    return ds"
      ],
      "execution_count": 16,
      "outputs": []
    },
    {
      "cell_type": "markdown",
      "metadata": {
        "id": "cZZVFmsgauyZ"
      },
      "source": [
        "# Testing data collect"
      ]
    },
    {
      "cell_type": "markdown",
      "metadata": {
        "id": "bs0n_VdqaUJ1"
      },
      "source": [
        "## Setup the web-driver "
      ]
    },
    {
      "cell_type": "code",
      "metadata": {
        "id": "gJigfiqlaUJ1"
      },
      "source": [
        "sys.path.insert(0,'/usr/lib/chromium-browser/chromedriver')\n",
        "options = webdriver.ChromeOptions()\n",
        "options.add_argument('--headless')\n",
        "options.add_argument('--no-sandbox')\n",
        "options.add_argument('--disable-dev-shm-usage')\n",
        "driver = webdriver.Chrome('chromedriver',options = options)"
      ],
      "execution_count": 15,
      "outputs": [
        {
          "output_type": "error",
          "ename": "NameError",
          "evalue": "name 'webdriver' is not defined",
          "traceback": [
            "\u001b[0;31m---------------------------------------------------------------------------\u001b[0m",
            "\u001b[0;31mNameError\u001b[0m                                 Traceback (most recent call last)",
            "\u001b[0;32m<ipython-input-15-c0a10cf0ede9>\u001b[0m in \u001b[0;36m<module>\u001b[0;34m\u001b[0m\n\u001b[1;32m      1\u001b[0m \u001b[0msys\u001b[0m\u001b[0;34m.\u001b[0m\u001b[0mpath\u001b[0m\u001b[0;34m.\u001b[0m\u001b[0minsert\u001b[0m\u001b[0;34m(\u001b[0m\u001b[0;36m0\u001b[0m\u001b[0;34m,\u001b[0m\u001b[0;34m'/usr/lib/chromium-browser/chromedriver'\u001b[0m\u001b[0;34m)\u001b[0m\u001b[0;34m\u001b[0m\u001b[0;34m\u001b[0m\u001b[0m\n\u001b[0;32m----> 2\u001b[0;31m \u001b[0moptions\u001b[0m \u001b[0;34m=\u001b[0m \u001b[0mwebdriver\u001b[0m\u001b[0;34m.\u001b[0m\u001b[0mChromeOptions\u001b[0m\u001b[0;34m(\u001b[0m\u001b[0;34m)\u001b[0m\u001b[0;34m\u001b[0m\u001b[0;34m\u001b[0m\u001b[0m\n\u001b[0m\u001b[1;32m      3\u001b[0m \u001b[0moptions\u001b[0m\u001b[0;34m.\u001b[0m\u001b[0madd_argument\u001b[0m\u001b[0;34m(\u001b[0m\u001b[0;34m'--headless'\u001b[0m\u001b[0;34m)\u001b[0m\u001b[0;34m\u001b[0m\u001b[0;34m\u001b[0m\u001b[0m\n\u001b[1;32m      4\u001b[0m \u001b[0moptions\u001b[0m\u001b[0;34m.\u001b[0m\u001b[0madd_argument\u001b[0m\u001b[0;34m(\u001b[0m\u001b[0;34m'--no-sandbox'\u001b[0m\u001b[0;34m)\u001b[0m\u001b[0;34m\u001b[0m\u001b[0;34m\u001b[0m\u001b[0m\n\u001b[1;32m      5\u001b[0m \u001b[0moptions\u001b[0m\u001b[0;34m.\u001b[0m\u001b[0madd_argument\u001b[0m\u001b[0;34m(\u001b[0m\u001b[0;34m'--disable-dev-shm-usage'\u001b[0m\u001b[0;34m)\u001b[0m\u001b[0;34m\u001b[0m\u001b[0;34m\u001b[0m\u001b[0m\n",
            "\u001b[0;31mNameError\u001b[0m: name 'webdriver' is not defined"
          ]
        }
      ]
    },
    {
      "cell_type": "markdown",
      "metadata": {
        "id": "KbEtDaUKa6qR"
      },
      "source": [
        "## Scrapping Products"
      ]
    },
    {
      "cell_type": "code",
      "metadata": {
        "id": "Qfwo08AqxKsU",
        "colab": {
          "base_uri": "https://localhost:8080/"
        },
        "outputId": "4380f9b1-5ded-4536-f673-b6da29050f17"
      },
      "source": [
        "for category,products in prod_urls.items():\n",
        "    for prod in products:\n",
        "        product = product_scrapper(driver,category,prod['prod_url'])\n",
        "        print(product)"
      ],
      "execution_count": 45,
      "outputs": [
        {
          "output_type": "stream",
          "text": [
            "('Microsoft Surface Pro 7 Ordinateur Portable (Windows 10, écran tactile 12.3\", Intel Core i5, 8Go RAM, 128Go SSD, Platine) PC Hybride polyvalent & performant', 'Marque : Microsoft Surface', '4,7 sur 5 étoiles', '3 274 évaluations', '991,98 €', 'informatique')\n"
          ],
          "name": "stdout"
        }
      ]
    },
    {
      "cell_type": "markdown",
      "metadata": {
        "id": "D4ifZn3YxKsU"
      },
      "source": [
        "## Scrapping Reviews Data\n",
        "\n",
        "\n"
      ]
    },
    {
      "cell_type": "code",
      "metadata": {
        "id": "kRaip7CfxKsV",
        "colab": {
          "base_uri": "https://localhost:8080/",
          "height": 759
        },
        "outputId": "c63c551f-7373-49b1-b527-3af340e0844f"
      },
      "source": [
        "ds = []\n",
        "for category,products in prod_urls.items():\n",
        "    for prod in products:\n",
        "        for i in range(1,11):\n",
        "            url = f'{prod[\"rev_url\"]}&pageNumber={i}'\n",
        "            ds = reviews_scrapper(driver,product,url,ds) \n",
        "\n",
        "df = pd.DataFrame(ds)\n",
        "df.columns = ds_cols\n",
        "df\n",
        "\n",
        "\n",
        "\n"
      ],
      "execution_count": 53,
      "outputs": [
        {
          "output_type": "execute_result",
          "data": {
            "text/html": [
              "<div>\n",
              "<style scoped>\n",
              "    .dataframe tbody tr th:only-of-type {\n",
              "        vertical-align: middle;\n",
              "    }\n",
              "\n",
              "    .dataframe tbody tr th {\n",
              "        vertical-align: top;\n",
              "    }\n",
              "\n",
              "    .dataframe thead th {\n",
              "        text-align: right;\n",
              "    }\n",
              "</style>\n",
              "<table border=\"1\" class=\"dataframe\">\n",
              "  <thead>\n",
              "    <tr style=\"text-align: right;\">\n",
              "      <th></th>\n",
              "      <th>Rev_Title</th>\n",
              "      <th>Rev_Rate</th>\n",
              "      <th>Rev_Bdy</th>\n",
              "      <th>Rev_Hlp</th>\n",
              "      <th>Prod_Title</th>\n",
              "      <th>Prod_Brnd</th>\n",
              "      <th>Prod_Rate</th>\n",
              "      <th>Prod_Eval</th>\n",
              "      <th>Prod_Price</th>\n",
              "      <th>Category</th>\n",
              "    </tr>\n",
              "  </thead>\n",
              "  <tbody>\n",
              "    <tr>\n",
              "      <th>0</th>\n",
              "      <td>Surface Pro 7ème génération</td>\n",
              "      <td>4,0 sur 5 étoiles</td>\n",
              "      <td>Je possède la Surface Pro 6 (soit la généra...</td>\n",
              "      <td>155 personnes ont trouvé cela utile</td>\n",
              "      <td>Microsoft Surface Pro 7 Ordinateur Portable (W...</td>\n",
              "      <td>Marque : Microsoft Surface</td>\n",
              "      <td>4,7 sur 5 étoiles</td>\n",
              "      <td>3 274 évaluations</td>\n",
              "      <td>991,98 €</td>\n",
              "      <td>informatique</td>\n",
              "    </tr>\n",
              "    <tr>\n",
              "      <th>1</th>\n",
              "      <td>Du reconditionné au prix du neuf!</td>\n",
              "      <td>1,0 sur 5 étoiles</td>\n",
              "      <td>Produit bien reçu.Par contre on achète au pr...</td>\n",
              "      <td>110 personnes ont trouvé cela utile</td>\n",
              "      <td>Microsoft Surface Pro 7 Ordinateur Portable (W...</td>\n",
              "      <td>Marque : Microsoft Surface</td>\n",
              "      <td>4,7 sur 5 étoiles</td>\n",
              "      <td>3 274 évaluations</td>\n",
              "      <td>991,98 €</td>\n",
              "      <td>informatique</td>\n",
              "    </tr>\n",
              "    <tr>\n",
              "      <th>2</th>\n",
              "      <td>THROTTING</td>\n",
              "      <td>2,0 sur 5 étoiles</td>\n",
              "      <td>POUR LA VERSION I5 SEULEMENT : PHENOMENE DE TH...</td>\n",
              "      <td>72 personnes ont trouvé cela utile</td>\n",
              "      <td>Microsoft Surface Pro 7 Ordinateur Portable (W...</td>\n",
              "      <td>Marque : Microsoft Surface</td>\n",
              "      <td>4,7 sur 5 étoiles</td>\n",
              "      <td>3 274 évaluations</td>\n",
              "      <td>991,98 €</td>\n",
              "      <td>informatique</td>\n",
              "    </tr>\n",
              "    <tr>\n",
              "      <th>3</th>\n",
              "      <td>ATTENTION AU TITRE TROMPEUR !</td>\n",
              "      <td>2,0 sur 5 étoiles</td>\n",
              "      <td>Le titre fait référence à un Surface Pro 7 ...</td>\n",
              "      <td>98 personnes ont trouvé cela utile</td>\n",
              "      <td>Microsoft Surface Pro 7 Ordinateur Portable (W...</td>\n",
              "      <td>Marque : Microsoft Surface</td>\n",
              "      <td>4,7 sur 5 étoiles</td>\n",
              "      <td>3 274 évaluations</td>\n",
              "      <td>991,98 €</td>\n",
              "      <td>informatique</td>\n",
              "    </tr>\n",
              "    <tr>\n",
              "      <th>4</th>\n",
              "      <td>C'est bien une version i7</td>\n",
              "      <td>5,0 sur 5 étoiles</td>\n",
              "      <td>Contrairement au commentaire disant que c'est ...</td>\n",
              "      <td>44 personnes ont trouvé cela utile</td>\n",
              "      <td>Microsoft Surface Pro 7 Ordinateur Portable (W...</td>\n",
              "      <td>Marque : Microsoft Surface</td>\n",
              "      <td>4,7 sur 5 étoiles</td>\n",
              "      <td>3 274 évaluations</td>\n",
              "      <td>991,98 €</td>\n",
              "      <td>informatique</td>\n",
              "    </tr>\n",
              "    <tr>\n",
              "      <th>...</th>\n",
              "      <td>...</td>\n",
              "      <td>...</td>\n",
              "      <td>...</td>\n",
              "      <td>...</td>\n",
              "      <td>...</td>\n",
              "      <td>...</td>\n",
              "      <td>...</td>\n",
              "      <td>...</td>\n",
              "      <td>...</td>\n",
              "      <td>...</td>\n",
              "    </tr>\n",
              "    <tr>\n",
              "      <th>95</th>\n",
              "      <td></td>\n",
              "      <td>0</td>\n",
              "      <td>Mein Freund hat sich das Surface Pro 7 bestell...</td>\n",
              "      <td>120 personnes ont trouvé cela utile</td>\n",
              "      <td>Microsoft Surface Pro 7 Ordinateur Portable (W...</td>\n",
              "      <td>Marque : Microsoft Surface</td>\n",
              "      <td>4,7 sur 5 étoiles</td>\n",
              "      <td>3 274 évaluations</td>\n",
              "      <td>991,98 €</td>\n",
              "      <td>informatique</td>\n",
              "    </tr>\n",
              "    <tr>\n",
              "      <th>96</th>\n",
              "      <td></td>\n",
              "      <td>0</td>\n",
              "      <td>Glaubt nicht den Rezessenten die behaupten die...</td>\n",
              "      <td>110 personnes ont trouvé cela utile</td>\n",
              "      <td>Microsoft Surface Pro 7 Ordinateur Portable (W...</td>\n",
              "      <td>Marque : Microsoft Surface</td>\n",
              "      <td>4,7 sur 5 étoiles</td>\n",
              "      <td>3 274 évaluations</td>\n",
              "      <td>991,98 €</td>\n",
              "      <td>informatique</td>\n",
              "    </tr>\n",
              "    <tr>\n",
              "      <th>97</th>\n",
              "      <td></td>\n",
              "      <td>0</td>\n",
              "      <td>Un ottimo pc, che vuole essere un tablet, con ...</td>\n",
              "      <td>90 personnes ont trouvé cela utile</td>\n",
              "      <td>Microsoft Surface Pro 7 Ordinateur Portable (W...</td>\n",
              "      <td>Marque : Microsoft Surface</td>\n",
              "      <td>4,7 sur 5 étoiles</td>\n",
              "      <td>3 274 évaluations</td>\n",
              "      <td>991,98 €</td>\n",
              "      <td>informatique</td>\n",
              "    </tr>\n",
              "    <tr>\n",
              "      <th>98</th>\n",
              "      <td></td>\n",
              "      <td>0</td>\n",
              "      <td>Un tablet che non sa fare il tablet, un ultrab...</td>\n",
              "      <td>40 personnes ont trouvé cela utile</td>\n",
              "      <td>Microsoft Surface Pro 7 Ordinateur Portable (W...</td>\n",
              "      <td>Marque : Microsoft Surface</td>\n",
              "      <td>4,7 sur 5 étoiles</td>\n",
              "      <td>3 274 évaluations</td>\n",
              "      <td>991,98 €</td>\n",
              "      <td>informatique</td>\n",
              "    </tr>\n",
              "    <tr>\n",
              "      <th>99</th>\n",
              "      <td></td>\n",
              "      <td>0</td>\n",
              "      <td>Da sich mein Lenovo Miix 510 sich zum Ende '19...</td>\n",
              "      <td>31 personnes ont trouvé cela utile</td>\n",
              "      <td>Microsoft Surface Pro 7 Ordinateur Portable (W...</td>\n",
              "      <td>Marque : Microsoft Surface</td>\n",
              "      <td>4,7 sur 5 étoiles</td>\n",
              "      <td>3 274 évaluations</td>\n",
              "      <td>991,98 €</td>\n",
              "      <td>informatique</td>\n",
              "    </tr>\n",
              "  </tbody>\n",
              "</table>\n",
              "<p>100 rows × 10 columns</p>\n",
              "</div>"
            ],
            "text/plain": [
              "                             Rev_Title  ...      Category\n",
              "0       Surface Pro 7ème génération  ...  informatique\n",
              "1   Du reconditionné au prix du neuf!  ...  informatique\n",
              "2                            THROTTING  ...  informatique\n",
              "3        ATTENTION AU TITRE TROMPEUR !  ...  informatique\n",
              "4            C'est bien une version i7  ...  informatique\n",
              "..                                 ...  ...           ...\n",
              "95                                      ...  informatique\n",
              "96                                      ...  informatique\n",
              "97                                      ...  informatique\n",
              "98                                      ...  informatique\n",
              "99                                      ...  informatique\n",
              "\n",
              "[100 rows x 10 columns]"
            ]
          },
          "metadata": {
            "tags": []
          },
          "execution_count": 53
        }
      ]
    }
  ]
}