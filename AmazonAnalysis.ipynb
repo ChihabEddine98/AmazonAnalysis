{
  "nbformat": 4,
  "nbformat_minor": 0,
  "metadata": {
    "kernelspec": {
      "display_name": "Python 3",
      "language": "python",
      "name": "python3"
    },
    "language_info": {
      "codemirror_mode": {
        "name": "ipython",
        "version": 2
      },
      "file_extension": ".py",
      "mimetype": "text/x-python",
      "name": "python",
      "nbconvert_exporter": "python",
      "pygments_lexer": "ipython2",
      "version": "3.9.1-final"
    },
    "colab": {
      "name": "AmazonAnalysis.ipynb",
      "provenance": [],
      "include_colab_link": true
    }
  },
  "cells": [
    {
      "cell_type": "markdown",
      "metadata": {
        "id": "view-in-github",
        "colab_type": "text"
      },
      "source": [
        "<a href=\"https://colab.research.google.com/github/ChihabEddine98/AmazonAnalysis/blob/main/AmazonAnalysis.ipynb\" target=\"_parent\"><img src=\"https://colab.research.google.com/assets/colab-badge.svg\" alt=\"Open In Colab\"/></a>"
      ]
    },
    {
      "cell_type": "code",
      "metadata": {
        "id": "lFanlL5hxKsF",
        "colab": {
          "base_uri": "https://localhost:8080/"
        },
        "outputId": "daebbeb9-e00f-4655-b324-9f0298c2635c"
      },
      "source": [
        "!pip install webdriver-manager\n",
        "!pip install selenium\n",
        "!apt-get update # to update ubuntu to correctly run apt install\n",
        "!apt install chromium-chromedriver\n",
        "!cp /usr/lib/chromium-browser/chromedriver /usr/bin\n",
        "import sys\n",
        "sys.path.insert(0,'/usr/lib/chromium-browser/chromedriver')\n",
        "from selenium import webdriver\n",
        "chrome_options = webdriver.ChromeOptions()\n",
        "chrome_options.add_argument('--headless')\n",
        "chrome_options.add_argument('--no-sandbox')\n",
        "chrome_options.add_argument('--disable-dev-shm-usage')"
      ],
      "execution_count": 4,
      "outputs": [
        {
          "output_type": "stream",
          "text": [
            "Requirement already satisfied: webdriver-manager in /usr/local/lib/python3.7/dist-packages (3.3.0)\n",
            "Requirement already satisfied: requests in /usr/local/lib/python3.7/dist-packages (from webdriver-manager) (2.23.0)\n",
            "Requirement already satisfied: crayons in /usr/local/lib/python3.7/dist-packages (from webdriver-manager) (0.4.0)\n",
            "Requirement already satisfied: configparser in /usr/local/lib/python3.7/dist-packages (from webdriver-manager) (5.0.2)\n",
            "Requirement already satisfied: idna<3,>=2.5 in /usr/local/lib/python3.7/dist-packages (from requests->webdriver-manager) (2.10)\n",
            "Requirement already satisfied: certifi>=2017.4.17 in /usr/local/lib/python3.7/dist-packages (from requests->webdriver-manager) (2020.12.5)\n",
            "Requirement already satisfied: urllib3!=1.25.0,!=1.25.1,<1.26,>=1.21.1 in /usr/local/lib/python3.7/dist-packages (from requests->webdriver-manager) (1.24.3)\n",
            "Requirement already satisfied: chardet<4,>=3.0.2 in /usr/local/lib/python3.7/dist-packages (from requests->webdriver-manager) (3.0.4)\n",
            "Requirement already satisfied: colorama in /usr/local/lib/python3.7/dist-packages (from crayons->webdriver-manager) (0.4.4)\n",
            "Requirement already satisfied: selenium in /usr/local/lib/python3.7/dist-packages (3.141.0)\n",
            "Requirement already satisfied: urllib3 in /usr/local/lib/python3.7/dist-packages (from selenium) (1.24.3)\n",
            "Ign:1 https://developer.download.nvidia.com/compute/cuda/repos/ubuntu1804/x86_64  InRelease\n",
            "Hit:2 http://ppa.launchpad.net/c2d4u.team/c2d4u4.0+/ubuntu bionic InRelease\n",
            "Hit:3 http://security.ubuntu.com/ubuntu bionic-security InRelease\n",
            "Ign:4 https://developer.download.nvidia.com/compute/machine-learning/repos/ubuntu1804/x86_64  InRelease\n",
            "Hit:5 https://developer.download.nvidia.com/compute/cuda/repos/ubuntu1804/x86_64  Release\n",
            "Hit:6 https://developer.download.nvidia.com/compute/machine-learning/repos/ubuntu1804/x86_64  Release\n",
            "Hit:7 http://archive.ubuntu.com/ubuntu bionic InRelease\n",
            "Hit:8 http://archive.ubuntu.com/ubuntu bionic-updates InRelease\n",
            "Hit:9 http://ppa.launchpad.net/cran/libgit2/ubuntu bionic InRelease\n",
            "Hit:10 https://cloud.r-project.org/bin/linux/ubuntu bionic-cran40/ InRelease\n",
            "Hit:11 http://archive.ubuntu.com/ubuntu bionic-backports InRelease\n",
            "Hit:12 http://ppa.launchpad.net/deadsnakes/ppa/ubuntu bionic InRelease\n",
            "Hit:13 http://ppa.launchpad.net/graphics-drivers/ppa/ubuntu bionic InRelease\n",
            "Reading package lists... Done\n",
            "Reading package lists... Done\n",
            "Building dependency tree       \n",
            "Reading state information... Done\n",
            "chromium-chromedriver is already the newest version (89.0.4389.90-0ubuntu0.18.04.2).\n",
            "0 upgraded, 0 newly installed, 0 to remove and 34 not upgraded.\n",
            "cp: '/usr/lib/chromium-browser/chromedriver' and '/usr/bin/chromedriver' are the same file\n"
          ],
          "name": "stdout"
        }
      ]
    },
    {
      "cell_type": "code",
      "metadata": {
        "collapsed": true,
        "id": "Yk5dUYoUxKsS"
      },
      "source": [
        "# imports\n",
        "import os\n",
        "import requests as rq\n",
        "import numpy as np\n",
        "import pandas as pd \n",
        "import matplotlib.pyplot as plt\n",
        "from bs4 import BeautifulSoup\n",
        "from selenium import webdriver\n",
        "from webdriver_manager.chrome import ChromeDriverManager\n",
        "from webdriver_manager.utils import ChromeType\n",
        "import unicodedata\n",
        "# end imports"
      ],
      "execution_count": 5,
      "outputs": []
    },
    {
      "cell_type": "markdown",
      "metadata": {
        "collapsed": false,
        "pycharm": {
          "name": "#%% md\n"
        },
        "id": "Sz_S6AXpxKsT"
      },
      "source": [
        "# Part 01  : Data Gathering"
      ]
    },
    {
      "cell_type": "code",
      "metadata": {
        "id": "BkWuqLbLxKsT"
      },
      "source": [
        "# Settings \n",
        "reviews_div_cls = 'review'\n",
        "\n",
        "prod_urls = {'informatique':[\n",
        "    {\n",
        "        'prod_url':\n",
        "        'https://www.amazon.fr/Microsoft-Surface-Pro-Hybride-stockage/dp/B07X8NL7MW/ref=sr_1_7? __mk_fr_FR=%C3%85M%C3%85%C5%BD%C3%95%C3%91&dchild=1&keywords=Microsoft+Surface&qid=1616930888&  s=computers&sr=1-7',\n",
        "    'rev_url': 'https://www.amazon.fr/Microsoft-Surface-Pro-Hybride-stockage/product-reviews/B07X8NL7MW/ref=cm_cr_dp_d_show_all_btm?ie=UTF8&reviewerType=all_reviews'\n",
        "    \n",
        "    }\n",
        "    ]\n",
        "}\n",
        "\n",
        "ds_cols = ['Rev_Title','Rev_Rate','Rev_Bdy','Rev_Hlp','Prod_Title','Prod_Brnd','Prod_Rate','Prod_Eval','Prod_Price','Category']\n",
        "\n",
        "\n",
        "# End Settings"
      ],
      "execution_count": 6,
      "outputs": []
    },
    {
      "cell_type": "markdown",
      "metadata": {
        "id": "Nm2Dkn3UxKsT"
      },
      "source": [
        "# Scrapping Product Information"
      ]
    },
    {
      "cell_type": "code",
      "metadata": {
        "id": "P3qS_-lsxKsU"
      },
      "source": [
        "\n",
        "# Scrapping Product Data \n",
        "def product_scrapper(driver,prod_category,prod_url):\n",
        "    driver.get(prod_url)\n",
        "    prod_soup = BeautifulSoup(driver.page_source,'html.parser')\n",
        "\n",
        "    # Product Info\n",
        "    prod_title = prod_soup.find('span',{'id' : 'productTitle' }).text\n",
        "    prod_brand = prod_soup.find('a',{'id' : 'bylineInfo' }).text\n",
        "    prod_rate = prod_soup.find('span',{'class' : 'a-icon-alt' }).text\n",
        "    prod_eval = prod_soup.find('span',{'id' : 'acrCustomerReviewText' }).text\n",
        "    prod_price = prod_soup.find('span',{'id' : 'priceblock_ourprice' }).text\n",
        "\n",
        "\n",
        "    result = tuple(map(lambda x : unicodedata.normalize(\"NFKD\",x.strip()),[prod_title,prod_brand,       prod_rate,prod_eval,prod_price,prod_category]))\n",
        "    return result\n",
        "\n"
      ],
      "execution_count": 7,
      "outputs": []
    },
    {
      "cell_type": "markdown",
      "metadata": {
        "id": "HJue4D16xKsU"
      },
      "source": [
        "## Test Product Scrapping"
      ]
    },
    {
      "cell_type": "code",
      "metadata": {
        "id": "Qfwo08AqxKsU",
        "colab": {
          "base_uri": "https://localhost:8080/"
        },
        "outputId": "6da87025-c93f-405e-d438-b0ae3f5e9936"
      },
      "source": [
        "driver = webdriver.Chrome('chromedriver',chrome_options=chrome_options)\n",
        "\n",
        "for category,products in prod_urls.items():\n",
        "    for prod in products:\n",
        "        product = product_scrapper(driver,category,prod['prod_url'])\n",
        "        print(product)"
      ],
      "execution_count": 11,
      "outputs": [
        {
          "output_type": "stream",
          "text": [
            "/usr/local/lib/python3.7/dist-packages/ipykernel_launcher.py:1: DeprecationWarning: use options instead of chrome_options\n",
            "  \"\"\"Entry point for launching an IPython kernel.\n"
          ],
          "name": "stderr"
        },
        {
          "output_type": "stream",
          "text": [
            "('Microsoft Surface Pro 7 Ordinateur Portable (Windows 10, écran tactile 12.3\", Intel Core i5, 8Go RAM, 128Go SSD, Platine) PC Hybride polyvalent & performant', 'Marque : Microsoft Surface', '4,7 sur 5 étoiles', '3 274 évaluations', '991,98 €', 'informatique')\n"
          ],
          "name": "stdout"
        }
      ]
    },
    {
      "cell_type": "markdown",
      "metadata": {
        "id": "D4ifZn3YxKsU"
      },
      "source": [
        "# Scrapping Reviews Data"
      ]
    },
    {
      "cell_type": "code",
      "metadata": {
        "pycharm": {
          "name": "#%%\n"
        },
        "tags": [],
        "id": "UF-EPNaNxKsV"
      },
      "source": [
        "# Scrapping Reviews Data\n",
        "def reviews_scrapper(driver,prod,rev_url,ds):\n",
        "    driver.get(rev_url)\n",
        "    rev_soup = BeautifulSoup(driver.page_source,'html.parser')\n",
        "    reviews_div = rev_soup.find_all('div',{'class':reviews_div_cls})\n",
        "\n",
        "    for review in reviews_div:\n",
        "        review_title = review.find('a',{'data-hook' : 'review-title'}).text\n",
        "        review_rate = review.find('i',{'data-hook' : 'review-star-rating'}).text\n",
        "        review_body = review.find('span',{'data-hook' : 'review-body'}).text\n",
        "        review_help = review.find('span',{'data-hook' : 'helpful-vote-statement'}).text\n",
        "        rev_result = tuple(map(lambda x : unicodedata.normalize(\"NFKD\",x.strip()),[review_title,review_rate,review_body,review_help]))\n",
        "        ds.append(rev_result+prod)\n",
        "\n",
        "    return ds"
      ],
      "execution_count": 12,
      "outputs": []
    },
    {
      "cell_type": "markdown",
      "metadata": {
        "id": "lEasXTGbxKsV"
      },
      "source": [
        "## Test Reviews Scrapping"
      ]
    },
    {
      "cell_type": "code",
      "metadata": {
        "id": "kRaip7CfxKsV",
        "outputId": "55aad152-1444-4fce-8bbc-3a8daa8741a3",
        "colab": {
          "base_uri": "https://localhost:8080/",
          "height": 699
        }
      },
      "source": [
        "ds = []\n",
        "for category,products in prod_urls.items():\n",
        "    for prod in products:\n",
        "        product = product_scrapper(driver,category,prod['prod_url'])\n",
        "        ds = reviews_scrapper(driver,product,prod['rev_url'],ds) \n",
        "\n",
        "df = pd.DataFrame(ds)\n",
        "df.columns = ds_cols\n",
        "df\n",
        "\n",
        "\n",
        "\n"
      ],
      "execution_count": 13,
      "outputs": [
        {
          "output_type": "execute_result",
          "data": {
            "text/html": [
              "<div>\n",
              "<style scoped>\n",
              "    .dataframe tbody tr th:only-of-type {\n",
              "        vertical-align: middle;\n",
              "    }\n",
              "\n",
              "    .dataframe tbody tr th {\n",
              "        vertical-align: top;\n",
              "    }\n",
              "\n",
              "    .dataframe thead th {\n",
              "        text-align: right;\n",
              "    }\n",
              "</style>\n",
              "<table border=\"1\" class=\"dataframe\">\n",
              "  <thead>\n",
              "    <tr style=\"text-align: right;\">\n",
              "      <th></th>\n",
              "      <th>Rev_Title</th>\n",
              "      <th>Rev_Rate</th>\n",
              "      <th>Rev_Bdy</th>\n",
              "      <th>Rev_Hlp</th>\n",
              "      <th>Prod_Title</th>\n",
              "      <th>Prod_Brnd</th>\n",
              "      <th>Prod_Rate</th>\n",
              "      <th>Prod_Eval</th>\n",
              "      <th>Prod_Price</th>\n",
              "      <th>Category</th>\n",
              "    </tr>\n",
              "  </thead>\n",
              "  <tbody>\n",
              "    <tr>\n",
              "      <th>0</th>\n",
              "      <td>Surface Pro 7ème génération</td>\n",
              "      <td>4,0 sur 5 étoiles</td>\n",
              "      <td>Je possède la Surface Pro 6 (soit la généra...</td>\n",
              "      <td>155 personnes ont trouvé cela utile</td>\n",
              "      <td>Microsoft Surface Pro 7 Ordinateur Portable (W...</td>\n",
              "      <td>Marque : Microsoft Surface</td>\n",
              "      <td>4,7 sur 5 étoiles</td>\n",
              "      <td>3 274 évaluations</td>\n",
              "      <td>991,98 €</td>\n",
              "      <td>informatique</td>\n",
              "    </tr>\n",
              "    <tr>\n",
              "      <th>1</th>\n",
              "      <td>Du reconditionné au prix du neuf!</td>\n",
              "      <td>1,0 sur 5 étoiles</td>\n",
              "      <td>Produit bien reçu.Par contre on achète au pr...</td>\n",
              "      <td>110 personnes ont trouvé cela utile</td>\n",
              "      <td>Microsoft Surface Pro 7 Ordinateur Portable (W...</td>\n",
              "      <td>Marque : Microsoft Surface</td>\n",
              "      <td>4,7 sur 5 étoiles</td>\n",
              "      <td>3 274 évaluations</td>\n",
              "      <td>991,98 €</td>\n",
              "      <td>informatique</td>\n",
              "    </tr>\n",
              "    <tr>\n",
              "      <th>2</th>\n",
              "      <td>THROTTING</td>\n",
              "      <td>2,0 sur 5 étoiles</td>\n",
              "      <td>POUR LA VERSION I5 SEULEMENT : PHENOMENE DE TH...</td>\n",
              "      <td>72 personnes ont trouvé cela utile</td>\n",
              "      <td>Microsoft Surface Pro 7 Ordinateur Portable (W...</td>\n",
              "      <td>Marque : Microsoft Surface</td>\n",
              "      <td>4,7 sur 5 étoiles</td>\n",
              "      <td>3 274 évaluations</td>\n",
              "      <td>991,98 €</td>\n",
              "      <td>informatique</td>\n",
              "    </tr>\n",
              "    <tr>\n",
              "      <th>3</th>\n",
              "      <td>ATTENTION AU TITRE TROMPEUR !</td>\n",
              "      <td>2,0 sur 5 étoiles</td>\n",
              "      <td>Le titre fait référence à un Surface Pro 7 ...</td>\n",
              "      <td>98 personnes ont trouvé cela utile</td>\n",
              "      <td>Microsoft Surface Pro 7 Ordinateur Portable (W...</td>\n",
              "      <td>Marque : Microsoft Surface</td>\n",
              "      <td>4,7 sur 5 étoiles</td>\n",
              "      <td>3 274 évaluations</td>\n",
              "      <td>991,98 €</td>\n",
              "      <td>informatique</td>\n",
              "    </tr>\n",
              "    <tr>\n",
              "      <th>4</th>\n",
              "      <td>C'est bien une version i7</td>\n",
              "      <td>5,0 sur 5 étoiles</td>\n",
              "      <td>Contrairement au commentaire disant que c'est ...</td>\n",
              "      <td>44 personnes ont trouvé cela utile</td>\n",
              "      <td>Microsoft Surface Pro 7 Ordinateur Portable (W...</td>\n",
              "      <td>Marque : Microsoft Surface</td>\n",
              "      <td>4,7 sur 5 étoiles</td>\n",
              "      <td>3 274 évaluations</td>\n",
              "      <td>991,98 €</td>\n",
              "      <td>informatique</td>\n",
              "    </tr>\n",
              "    <tr>\n",
              "      <th>5</th>\n",
              "      <td>Un excellent choix</td>\n",
              "      <td>5,0 sur 5 étoiles</td>\n",
              "      <td>Pour faire court, sans aucun doute mon \"pc por...</td>\n",
              "      <td>23 personnes ont trouvé cela utile</td>\n",
              "      <td>Microsoft Surface Pro 7 Ordinateur Portable (W...</td>\n",
              "      <td>Marque : Microsoft Surface</td>\n",
              "      <td>4,7 sur 5 étoiles</td>\n",
              "      <td>3 274 évaluations</td>\n",
              "      <td>991,98 €</td>\n",
              "      <td>informatique</td>\n",
              "    </tr>\n",
              "    <tr>\n",
              "      <th>6</th>\n",
              "      <td>Plus pertinent qu'une tablette sous Android.</td>\n",
              "      <td>5,0 sur 5 étoiles</td>\n",
              "      <td>Belle bête ! J'essaie pour la 1ere fois Windo...</td>\n",
              "      <td>22 personnes ont trouvé cela utile</td>\n",
              "      <td>Microsoft Surface Pro 7 Ordinateur Portable (W...</td>\n",
              "      <td>Marque : Microsoft Surface</td>\n",
              "      <td>4,7 sur 5 étoiles</td>\n",
              "      <td>3 274 évaluations</td>\n",
              "      <td>991,98 €</td>\n",
              "      <td>informatique</td>\n",
              "    </tr>\n",
              "    <tr>\n",
              "      <th>7</th>\n",
              "      <td>Eclan bleu systématique au démarrage ou dans...</td>\n",
              "      <td>1,0 sur 5 étoiles</td>\n",
              "      <td>Sans qu'aucun logiciel n'ai été installé, j...</td>\n",
              "      <td>10 personnes ont trouvé cela utile</td>\n",
              "      <td>Microsoft Surface Pro 7 Ordinateur Portable (W...</td>\n",
              "      <td>Marque : Microsoft Surface</td>\n",
              "      <td>4,7 sur 5 étoiles</td>\n",
              "      <td>3 274 évaluations</td>\n",
              "      <td>991,98 €</td>\n",
              "      <td>informatique</td>\n",
              "    </tr>\n",
              "    <tr>\n",
              "      <th>8</th>\n",
              "      <td>Incroyable</td>\n",
              "      <td>4,0 sur 5 étoiles</td>\n",
              "      <td>Cette tablette est incroyable et presque parfa...</td>\n",
              "      <td>Une personne a trouvé cela utile</td>\n",
              "      <td>Microsoft Surface Pro 7 Ordinateur Portable (W...</td>\n",
              "      <td>Marque : Microsoft Surface</td>\n",
              "      <td>4,7 sur 5 étoiles</td>\n",
              "      <td>3 274 évaluations</td>\n",
              "      <td>991,98 €</td>\n",
              "      <td>informatique</td>\n",
              "    </tr>\n",
              "    <tr>\n",
              "      <th>9</th>\n",
              "      <td>Tablette fonctionne bien</td>\n",
              "      <td>1,0 sur 5 étoiles</td>\n",
              "      <td>UPDATE: La durée de vie de la batterie est de...</td>\n",
              "      <td>4 personnes ont trouvé cela utile</td>\n",
              "      <td>Microsoft Surface Pro 7 Ordinateur Portable (W...</td>\n",
              "      <td>Marque : Microsoft Surface</td>\n",
              "      <td>4,7 sur 5 étoiles</td>\n",
              "      <td>3 274 évaluations</td>\n",
              "      <td>991,98 €</td>\n",
              "      <td>informatique</td>\n",
              "    </tr>\n",
              "  </tbody>\n",
              "</table>\n",
              "</div>"
            ],
            "text/plain": [
              "                                           Rev_Title  ...      Category\n",
              "0                     Surface Pro 7ème génération  ...  informatique\n",
              "1                 Du reconditionné au prix du neuf!  ...  informatique\n",
              "2                                          THROTTING  ...  informatique\n",
              "3                      ATTENTION AU TITRE TROMPEUR !  ...  informatique\n",
              "4                          C'est bien une version i7  ...  informatique\n",
              "5                                 Un excellent choix  ...  informatique\n",
              "6       Plus pertinent qu'une tablette sous Android.  ...  informatique\n",
              "7  Eclan bleu systématique au démarrage ou dans...  ...  informatique\n",
              "8                                         Incroyable  ...  informatique\n",
              "9                           Tablette fonctionne bien  ...  informatique\n",
              "\n",
              "[10 rows x 10 columns]"
            ]
          },
          "metadata": {
            "tags": []
          },
          "execution_count": 13
        }
      ]
    }
  ]
}