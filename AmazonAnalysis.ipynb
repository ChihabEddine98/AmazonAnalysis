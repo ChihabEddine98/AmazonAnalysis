{
  "nbformat": 4,
  "nbformat_minor": 0,
  "metadata": {
    "kernelspec": {
      "name": "python3",
      "display_name": "Python 3.8.2 64-bit",
      "metadata": {
        "interpreter": {
          "hash": "31f2aee4e71d21fbe5cf8b01ff0e069b9275f58929596ceb00d14d90e3e16cd6"
        }
      }
    },
    "language_info": {
      "codemirror_mode": {
        "name": "ipython",
        "version": 2
      },
      "file_extension": ".py",
      "mimetype": "text/x-python",
      "name": "python",
      "nbconvert_exporter": "python",
      "pygments_lexer": "ipython2",
      "version": "3.8.2"
    },
    "colab": {
      "name": "AmazonAnalysis.ipynb",
      "provenance": [],
      "collapsed_sections": [
        "r3YDrW01aUJy",
        "Nm2Dkn3UxKsT",
        "bs0n_VdqaUJ1",
        "KbEtDaUKa6qR"
      ],
      "toc_visible": true,
      "include_colab_link": true
    },
    "metadata": {
      "interpreter": {
        "hash": "082e9a3bcad0a290d0001e938aa60b99250c6c2ef33a923c00b70f9826caf4b7"
      }
    }
  },
  "cells": [
    {
      "cell_type": "markdown",
      "metadata": {
        "id": "view-in-github",
        "colab_type": "text"
      },
      "source": [
        "<a href=\"https://colab.research.google.com/github/ChihabEddine98/AmazonAnalysis/blob/main/AmazonAnalysis.ipynb\" target=\"_parent\"><img src=\"https://colab.research.google.com/assets/colab-badge.svg\" alt=\"Open In Colab\"/></a>"
      ]
    },
    {
      "cell_type": "markdown",
      "metadata": {
        "id": "FfQ3UbC5chPD"
      },
      "source": [
        "# TODO LIST\n",
        "--------\n",
        "\n",
        "\n",
        "- [x] Genral collect for dataset\n",
        "- [ ] Complete dataset\n",
        "- [x] Make settings in an external file\n",
        "- [ ] Make settings in an external file\n",
        "- [ ] Make requirement installations in another file\n",
        "- [ ] Clean Data & prepocessing\n",
        "- [ ] Stemming / Lemmitization\n",
        "- [ ] Replace Review Cleaning data by apply \n"
      ]
    },
    {
      "cell_type": "code",
      "metadata": {
        "id": "xI_s_ku3oH-u",
        "colab": {
          "resources": {
            "http://localhost:8080/nbextensions/google.colab/files.js": {
              "data": "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",
              "ok": true,
              "headers": [
                [
                  "content-type",
                  "application/javascript"
                ]
              ],
              "status": 200,
              "status_text": ""
            }
          },
          "base_uri": "https://localhost:8080/",
          "height": 55
        },
        "outputId": "a5c99e16-ae8b-4201-9fdf-48a2504a1ee2"
      },
      "source": [
        "from google.colab import files\n",
        "files.upload()"
      ],
      "execution_count": null,
      "outputs": [
        {
          "output_type": "display_data",
          "data": {
            "text/html": [
              "\n",
              "     <input type=\"file\" id=\"files-d3dbf0d8-ebb6-4044-a4f7-84ea08cc8540\" name=\"files[]\" multiple disabled\n",
              "        style=\"border:none\" />\n",
              "     <output id=\"result-d3dbf0d8-ebb6-4044-a4f7-84ea08cc8540\">\n",
              "      Upload widget is only available when the cell has been executed in the\n",
              "      current browser session. Please rerun this cell to enable.\n",
              "      </output>\n",
              "      <script src=\"/nbextensions/google.colab/files.js\"></script> "
            ],
            "text/plain": [
              "<IPython.core.display.HTML object>"
            ]
          },
          "metadata": {
            "tags": []
          }
        },
        {
          "output_type": "execute_result",
          "data": {
            "text/plain": [
              "{}"
            ]
          },
          "metadata": {
            "tags": []
          },
          "execution_count": 1
        }
      ]
    },
    {
      "cell_type": "markdown",
      "metadata": {
        "id": "r3YDrW01aUJy"
      },
      "source": [
        "# Requirements Installations"
      ]
    },
    {
      "cell_type": "code",
      "metadata": {
        "id": "lFanlL5hxKsF",
        "colab": {
          "base_uri": "https://localhost:8080/"
        },
        "outputId": "f0ec7e9a-b66b-4165-b5ab-6b8bceced854"
      },
      "source": [
        "# Run just once \n",
        "!pip install webdriver-manager\n",
        "!pip install selenium\n",
        "!pip install requests\n",
        "!apt-get update # to update ubuntu to correctly run apt install\n",
        "!apt install chromium-chromedriver\n",
        "!cp /usr/lib/chromium-browser/chromedriver /usr/bin"
      ],
      "execution_count": null,
      "outputs": [
        {
          "output_type": "stream",
          "text": [
            "Requirement already satisfied: webdriver-manager in /usr/local/lib/python3.7/dist-packages (3.4.1)\n",
            "Requirement already satisfied: crayons in /usr/local/lib/python3.7/dist-packages (from webdriver-manager) (0.4.0)\n",
            "Requirement already satisfied: configparser in /usr/local/lib/python3.7/dist-packages (from webdriver-manager) (5.0.2)\n",
            "Requirement already satisfied: requests in /usr/local/lib/python3.7/dist-packages (from webdriver-manager) (2.23.0)\n",
            "Requirement already satisfied: colorama in /usr/local/lib/python3.7/dist-packages (from crayons->webdriver-manager) (0.4.4)\n",
            "Requirement already satisfied: urllib3!=1.25.0,!=1.25.1,<1.26,>=1.21.1 in /usr/local/lib/python3.7/dist-packages (from requests->webdriver-manager) (1.24.3)\n",
            "Requirement already satisfied: certifi>=2017.4.17 in /usr/local/lib/python3.7/dist-packages (from requests->webdriver-manager) (2020.12.5)\n",
            "Requirement already satisfied: idna<3,>=2.5 in /usr/local/lib/python3.7/dist-packages (from requests->webdriver-manager) (2.10)\n",
            "Requirement already satisfied: chardet<4,>=3.0.2 in /usr/local/lib/python3.7/dist-packages (from requests->webdriver-manager) (3.0.4)\n",
            "Requirement already satisfied: selenium in /usr/local/lib/python3.7/dist-packages (3.141.0)\n",
            "Requirement already satisfied: urllib3 in /usr/local/lib/python3.7/dist-packages (from selenium) (1.24.3)\n",
            "Requirement already satisfied: requests in /usr/local/lib/python3.7/dist-packages (2.23.0)\n",
            "Requirement already satisfied: chardet<4,>=3.0.2 in /usr/local/lib/python3.7/dist-packages (from requests) (3.0.4)\n",
            "Requirement already satisfied: urllib3!=1.25.0,!=1.25.1,<1.26,>=1.21.1 in /usr/local/lib/python3.7/dist-packages (from requests) (1.24.3)\n",
            "Requirement already satisfied: certifi>=2017.4.17 in /usr/local/lib/python3.7/dist-packages (from requests) (2020.12.5)\n",
            "Requirement already satisfied: idna<3,>=2.5 in /usr/local/lib/python3.7/dist-packages (from requests) (2.10)\n",
            "Hit:1 https://cloud.r-project.org/bin/linux/ubuntu bionic-cran40/ InRelease\n",
            "Hit:2 http://ppa.launchpad.net/c2d4u.team/c2d4u4.0+/ubuntu bionic InRelease\n",
            "Get:3 http://security.ubuntu.com/ubuntu bionic-security InRelease [88.7 kB]\n",
            "Hit:4 http://archive.ubuntu.com/ubuntu bionic InRelease\n",
            "Ign:5 https://developer.download.nvidia.com/compute/cuda/repos/ubuntu1804/x86_64  InRelease\n",
            "Ign:6 https://developer.download.nvidia.com/compute/machine-learning/repos/ubuntu1804/x86_64  InRelease\n",
            "Hit:7 https://developer.download.nvidia.com/compute/cuda/repos/ubuntu1804/x86_64  Release\n",
            "Hit:8 http://ppa.launchpad.net/cran/libgit2/ubuntu bionic InRelease\n",
            "Get:9 http://archive.ubuntu.com/ubuntu bionic-updates InRelease [88.7 kB]\n",
            "Hit:10 https://developer.download.nvidia.com/compute/machine-learning/repos/ubuntu1804/x86_64  Release\n",
            "Hit:11 http://ppa.launchpad.net/deadsnakes/ppa/ubuntu bionic InRelease\n",
            "Get:12 http://archive.ubuntu.com/ubuntu bionic-backports InRelease [74.6 kB]\n",
            "Hit:13 http://ppa.launchpad.net/graphics-drivers/ppa/ubuntu bionic InRelease\n",
            "Fetched 252 kB in 3s (97.9 kB/s)\n",
            "Reading package lists... Done\n",
            "Reading package lists... Done\n",
            "Building dependency tree       \n",
            "Reading state information... Done\n",
            "chromium-chromedriver is already the newest version (90.0.4430.72-0ubuntu0.18.04.1).\n",
            "The following package was automatically installed and is no longer required:\n",
            "  libnvidia-common-460\n",
            "Use 'apt autoremove' to remove it.\n",
            "0 upgraded, 0 newly installed, 0 to remove and 76 not upgraded.\n",
            "cp: '/usr/lib/chromium-browser/chromedriver' and '/usr/bin/chromedriver' are the same file\n"
          ],
          "name": "stdout"
        }
      ]
    },
    {
      "cell_type": "code",
      "metadata": {
        "collapsed": true,
        "id": "Yk5dUYoUxKsS"
      },
      "source": [
        "# imports\n",
        "import os\n",
        "import sys\n",
        "import requests as rq\n",
        "import numpy as np\n",
        "import pandas as pd\n",
        "import re \n",
        "import spacy\n",
        "import string\n",
        "import matplotlib.pyplot as plt\n",
        "from bs4 import BeautifulSoup\n",
        "from selenium import webdriver\n",
        "from webdriver_manager.chrome import ChromeDriverManager\n",
        "from webdriver_manager.utils import ChromeType\n",
        "import unicodedata\n",
        "import pickle as pk\n",
        "# end imports"
      ],
      "execution_count": null,
      "outputs": []
    },
    {
      "cell_type": "markdown",
      "metadata": {
        "collapsed": false,
        "pycharm": {
          "name": "#%% md\n"
        },
        "id": "Sz_S6AXpxKsT"
      },
      "source": [
        "# Part 01  : Data Gathering"
      ]
    },
    {
      "cell_type": "code",
      "metadata": {
        "id": "EKJZiLNzp2pM"
      },
      "source": [
        "settings_file = open(\"settings.pkl\", \"rb\")\n",
        "prod_urls = pk.load(settings_file)"
      ],
      "execution_count": null,
      "outputs": []
    },
    {
      "cell_type": "markdown",
      "metadata": {
        "id": "Nm2Dkn3UxKsT"
      },
      "source": [
        "## Scrapping Product Information"
      ]
    },
    {
      "cell_type": "code",
      "metadata": {
        "id": "P3qS_-lsxKsU",
        "colab": {
          "base_uri": "https://localhost:8080/"
        },
        "outputId": "98998716-ad2f-4d57-ac83-77b9f7ed3113"
      },
      "source": [
        "'''\n",
        "# Scrapping Product Data \n",
        "def product_scrapper(driver,prod_category,prod_url):\n",
        "    driver.get(prod_url)\n",
        "    prod_soup = BeautifulSoup(driver.page_source,'html.parser')\n",
        "\n",
        "    # Product Info\n",
        "    prod_title = prod_soup.find('span',{'id' : 'productTitle' }).text\n",
        "    prod_brand = prod_soup.find('a',{'id' : 'bylineInfo' }).text\n",
        "    prod_rate = prod_soup.find('span',{'class' : 'a-icon-alt' }).text\n",
        "    prod_eval = prod_soup.find('span',{'id' : 'acrCustomerReviewText' }).text\n",
        "    try :\n",
        "      prod_price = prod_soup.find('span',{'id' : 'priceblock_ourprice' }).text\n",
        "    except AttributeError:\n",
        "      prod_price = '0'\n",
        "\n",
        "    result = tuple(map(lambda x : unicodedata.normalize(\"NFKD\",x.strip()),[prod_title,prod_brand,prod_rate,prod_eval,prod_price,prod_category]))\n",
        "    return result\n",
        "\n",
        "'''"
      ],
      "execution_count": null,
      "outputs": [
        {
          "output_type": "execute_result",
          "data": {
            "application/vnd.google.colaboratory.intrinsic+json": {
              "type": "string"
            },
            "text/plain": [
              "'\\n# Scrapping Product Data \\ndef product_scrapper(driver,prod_category,prod_url):\\n    driver.get(prod_url)\\n    prod_soup = BeautifulSoup(driver.page_source,\\'html.parser\\')\\n\\n    # Product Info\\n    prod_title = prod_soup.find(\\'span\\',{\\'id\\' : \\'productTitle\\' }).text\\n    prod_brand = prod_soup.find(\\'a\\',{\\'id\\' : \\'bylineInfo\\' }).text\\n    prod_rate = prod_soup.find(\\'span\\',{\\'class\\' : \\'a-icon-alt\\' }).text\\n    prod_eval = prod_soup.find(\\'span\\',{\\'id\\' : \\'acrCustomerReviewText\\' }).text\\n    try :\\n      prod_price = prod_soup.find(\\'span\\',{\\'id\\' : \\'priceblock_ourprice\\' }).text\\n    except AttributeError:\\n      prod_price = \\'0\\'\\n\\n    result = tuple(map(lambda x : unicodedata.normalize(\"NFKD\",x.strip()),[prod_title,prod_brand,prod_rate,prod_eval,prod_price,prod_category]))\\n    return result\\n\\n'"
            ]
          },
          "metadata": {
            "tags": []
          },
          "execution_count": 5
        }
      ]
    },
    {
      "cell_type": "markdown",
      "metadata": {
        "id": "utS7u-TcajLG"
      },
      "source": [
        "## Scrapping Reviews Data"
      ]
    },
    {
      "cell_type": "code",
      "metadata": {
        "id": "3Nkf1Ew2ag-u"
      },
      "source": [
        "# Scrapping Reviews Data\n",
        "def reviews_scrapper(driver,prod,rev_url,ds):\n",
        "    driver.get(rev_url)\n",
        "    rev_soup = BeautifulSoup(driver.page_source,'html.parser')\n",
        "    reviews_div = rev_soup.find_all('div',{'class':reviews_div_cls})\n",
        "\n",
        "    for review in reviews_div:\n",
        "        try :\n",
        "          review_title = review.find('a',{'data-hook' : 'review-title'}).text\n",
        "        except AttributeError:\n",
        "          review_title = 'Null'\n",
        "        \n",
        "        try :\n",
        "          review_rate = review.find('i',{'data-hook' : 'review-star-rating'}).text\n",
        "        except AttributeError:\n",
        "          review_rate = '0'\n",
        "        \n",
        "        review_body = review.find('span',{'data-hook' : 'review-body'}).text\n",
        "        \n",
        "        try :\n",
        "          review_help = review.find('span',{'data-hook' : 'helpful-vote-statement'}).text\n",
        "        except AttributeError:\n",
        "          review_help = '0'\n",
        "        try :\n",
        "          review_home= review.find('span',{'data-hook' :'review-date'}).text \n",
        "        except AttributeError:\n",
        "          review_home ='0'   \n",
        "        \n",
        "        rev_result = tuple(map(lambda x : unicodedata.normalize(\"NFKD\",x.strip()),[review_title,review_rate,review_body,review_help,review_home]))\n",
        "        ds.append(rev_result+(prod,))\n",
        "\n",
        "    return ds"
      ],
      "execution_count": null,
      "outputs": []
    },
    {
      "cell_type": "markdown",
      "metadata": {
        "id": "cZZVFmsgauyZ"
      },
      "source": [
        "## Testing data collect"
      ]
    },
    {
      "cell_type": "markdown",
      "metadata": {
        "id": "bs0n_VdqaUJ1"
      },
      "source": [
        "## Setup the web-driver "
      ]
    },
    {
      "cell_type": "code",
      "metadata": {
        "id": "gJigfiqlaUJ1"
      },
      "source": [
        "sys.path.insert(0,'/usr/lib/chromium-browser/chromedriver')\n",
        "options = webdriver.ChromeOptions()\n",
        "options.add_argument('--headless')\n",
        "options.add_argument('--no-sandbox')\n",
        "options.add_argument('--disable-dev-shm-usage')\n",
        "driver = webdriver.Chrome('chromedriver',options = options)"
      ],
      "execution_count": null,
      "outputs": []
    },
    {
      "cell_type": "markdown",
      "metadata": {
        "id": "KbEtDaUKa6qR"
      },
      "source": [
        "## Scrapping Products"
      ]
    },
    {
      "cell_type": "code",
      "metadata": {
        "id": "Qfwo08AqxKsU",
        "colab": {
          "base_uri": "https://localhost:8080/"
        },
        "outputId": "31d71756-9ce6-4cd2-e28f-e9cee78fa275"
      },
      "source": [
        "'''\n",
        "lst_prod = [] \n",
        "for category,products in prod_urls.items():\n",
        "    for prod in products:\n",
        "        product = product_scrapper(driver,category,prod['prod_url'])+(prod['rev_count'],prod['prod_id'])\n",
        "        lst_prod.append(product)\n",
        "\n",
        "\n",
        "\n",
        "\n",
        "df_prod = pd.DataFrame(lst_prod)\n",
        "df_prod.columns = prod_cols\n",
        "df_prod\n",
        "'''"
      ],
      "execution_count": null,
      "outputs": [
        {
          "output_type": "execute_result",
          "data": {
            "application/vnd.google.colaboratory.intrinsic+json": {
              "type": "string"
            },
            "text/plain": [
              "\"\\nlst_prod = [] \\nfor category,products in prod_urls.items():\\n    for prod in products:\\n        product = product_scrapper(driver,category,prod['prod_url'])+(prod['rev_count'],prod['prod_id'])\\n        lst_prod.append(product)\\n\\n\\n\\n\\ndf_prod = pd.DataFrame(lst_prod)\\ndf_prod.columns = prod_cols\\ndf_prod\\n\""
            ]
          },
          "metadata": {
            "tags": []
          },
          "execution_count": 8
        }
      ]
    },
    {
      "cell_type": "markdown",
      "metadata": {
        "id": "D4ifZn3YxKsU"
      },
      "source": [
        "## Scrapping Reviews Data\n",
        "\n",
        "\n"
      ]
    },
    {
      "cell_type": "code",
      "metadata": {
        "id": "kRaip7CfxKsV",
        "colab": {
          "base_uri": "https://localhost:8080/",
          "height": 86
        },
        "outputId": "84bc4ff3-46db-4fde-edc8-157d6fe3d3c6"
      },
      "source": [
        "# This function help us to generate the dataset of reviews\n",
        "# and also the dataframe of several products\n",
        "'''\n",
        "lst_rev = []\n",
        "for category,products in prod_urls.items():\n",
        "    for prod in products:\n",
        "        for i in range(1,prod['rev_pages']+1):\n",
        "            lst_rev = reviews_scrapper(driver,prod['prod_id'],f'{prod[\"rev_url\"]}&pageNumber={i}',lst_rev) \n",
        "\n",
        "df_rev = pd.DataFrame(lst_rev)\n",
        "df_rev.columns = rev_cols\n",
        "\n",
        " \n",
        "df_rev.to_csv(\"reviews_dataset.csv\",index = False)\n",
        "'''\n"
      ],
      "execution_count": null,
      "outputs": [
        {
          "output_type": "execute_result",
          "data": {
            "application/vnd.google.colaboratory.intrinsic+json": {
              "type": "string"
            },
            "text/plain": [
              "'\\nlst_rev = []\\nfor category,products in prod_urls.items():\\n    for prod in products:\\n        for i in range(1,prod[\\'rev_pages\\']+1):\\n            lst_rev = reviews_scrapper(driver,prod[\\'prod_id\\'],f\\'{prod[\"rev_url\"]}&pageNumber={i}\\',lst_rev) \\n\\ndf_rev = pd.DataFrame(lst_rev)\\ndf_rev.columns = rev_cols\\n\\n \\ndf_rev.to_csv(\"reviews_dataset.csv\",index = False)\\n'"
            ]
          },
          "metadata": {
            "tags": []
          },
          "execution_count": 9
        }
      ]
    },
    {
      "cell_type": "markdown",
      "metadata": {
        "id": "1rf85vk8szTS"
      },
      "source": [
        "# Part 02 : Data Cleaning"
      ]
    },
    {
      "cell_type": "code",
      "metadata": {
        "id": "dZ1htcJWs7iM",
        "colab": {
          "base_uri": "https://localhost:8080/",
          "height": 419
        },
        "outputId": "d35c9744-388d-4264-867e-23169940d1d5"
      },
      "source": [
        "\n",
        "# Clean Review Body\n",
        "def clean_review_body(rev):\n",
        "  # Make text to lowerCase\n",
        "  clean_rev = rev.lower()\n",
        "  # Remove ponctuation like .,!? etc\n",
        "  clean_rev = clean_rev.translate(str.maketrans('','',string.punctuation))\n",
        "  # Remove words that contain numbers\n",
        "  clean_rev = re.sub(r'\\w*\\d\\w*','',clean_rev)\n",
        "  return clean_rev\n",
        "  \n",
        "# Clean reviews DataFrame \n",
        "def clean_reviews(df_rev):\n",
        "    # Cleaning Hlp Review\n",
        "    df_rev['Rev_Hlp'] = df_rev.Rev_Hlp.apply(lambda x: re.sub(\"[^0-9]\",\"\",x))\n",
        "    # Cleaning Rate review  \n",
        "    df_rev['Rev_Rate'] = df_rev.Rev_Rate.str.split(' ').apply(lambda x: float(x[0].replace(',','.')))\n",
        "    # Cleaning Home Review\n",
        "    df_rev['Rev_Home'] = df_rev.Rev_Home.str.split(' ').apply(lambda x: x[2])\n",
        "\n",
        "    # Cleaning the body of the review\n",
        "    # Convert the letter into lowercase\n",
        "    # Remove ponctuation like .,!? etc\n",
        "    df_rev['Rev_Bdy'] = df_rev.Rev_Bdy.apply(lambda x: clean_review_body(x))\n",
        "    \n",
        "    df_rev = df_rev[df_rev.Rev_Home =='France']\n",
        "\n",
        "    return df_rev\n",
        "\n",
        "\n",
        "\n",
        "df_rev = pd.read_csv(\"reviews_dataset.csv\")\n",
        "df_rev = clean_reviews(df_rev)\n",
        "\n",
        "ds = df_rev[df_rev[\"Rev_Home\"] == 'France']\n",
        "ds = ds[[\"Rev_Title\",\"Rev_Bdy\"]]\n",
        "\n",
        "ds\n",
        "\n"
      ],
      "execution_count": null,
      "outputs": [
        {
          "output_type": "execute_result",
          "data": {
            "text/html": [
              "<div>\n",
              "<style scoped>\n",
              "    .dataframe tbody tr th:only-of-type {\n",
              "        vertical-align: middle;\n",
              "    }\n",
              "\n",
              "    .dataframe tbody tr th {\n",
              "        vertical-align: top;\n",
              "    }\n",
              "\n",
              "    .dataframe thead th {\n",
              "        text-align: right;\n",
              "    }\n",
              "</style>\n",
              "<table border=\"1\" class=\"dataframe\">\n",
              "  <thead>\n",
              "    <tr style=\"text-align: right;\">\n",
              "      <th></th>\n",
              "      <th>Rev_Title</th>\n",
              "      <th>Rev_Bdy</th>\n",
              "    </tr>\n",
              "  </thead>\n",
              "  <tbody>\n",
              "    <tr>\n",
              "      <th>0</th>\n",
              "      <td>Génial !</td>\n",
              "      <td>jai commandé ce produit pour pouvoir écouter...</td>\n",
              "    </tr>\n",
              "    <tr>\n",
              "      <th>1</th>\n",
              "      <td>En panne après moins de 2 mois d'utilisation</td>\n",
              "      <td>pour un adaptateur de ce prix jaurais espéré...</td>\n",
              "    </tr>\n",
              "    <tr>\n",
              "      <th>2</th>\n",
              "      <td>Compatible pour Dualshock PS4</td>\n",
              "      <td>acheté pour branchée la manette  sur le pc j...</td>\n",
              "    </tr>\n",
              "    <tr>\n",
              "      <th>3</th>\n",
              "      <td>Dongle Bluetooh parfait</td>\n",
              "      <td>jutilise ce dongle bluetooth sur un pc windows...</td>\n",
              "    </tr>\n",
              "    <tr>\n",
              "      <th>4</th>\n",
              "      <td>Impeccable</td>\n",
              "      <td>quand je vois certains commentaires de certain...</td>\n",
              "    </tr>\n",
              "    <tr>\n",
              "      <th>...</th>\n",
              "      <td>...</td>\n",
              "      <td>...</td>\n",
              "    </tr>\n",
              "    <tr>\n",
              "      <th>9187</th>\n",
              "      <td>Qualite</td>\n",
              "      <td>top et facile à monter</td>\n",
              "    </tr>\n",
              "    <tr>\n",
              "      <th>9188</th>\n",
              "      <td>bon calite</td>\n",
              "      <td>bon calite facile à monter</td>\n",
              "    </tr>\n",
              "    <tr>\n",
              "      <th>9189</th>\n",
              "      <td>Bon produit</td>\n",
              "      <td>très bon produit</td>\n",
              "    </tr>\n",
              "    <tr>\n",
              "      <th>9190</th>\n",
              "      <td>Roue abdo</td>\n",
              "      <td>bien</td>\n",
              "    </tr>\n",
              "    <tr>\n",
              "      <th>9191</th>\n",
              "      <td>Roue abdominal sympathique</td>\n",
              "      <td>cette roue abdominal est facile à monter et a...</td>\n",
              "    </tr>\n",
              "  </tbody>\n",
              "</table>\n",
              "<p>7762 rows × 2 columns</p>\n",
              "</div>"
            ],
            "text/plain": [
              "                                          Rev_Title                                            Rev_Bdy\n",
              "0                                         Génial !  jai commandé ce produit pour pouvoir écouter...\n",
              "1     En panne après moins de 2 mois d'utilisation  pour un adaptateur de ce prix jaurais espéré...\n",
              "2                     Compatible pour Dualshock PS4  acheté pour branchée la manette  sur le pc j...\n",
              "3                           Dongle Bluetooh parfait  jutilise ce dongle bluetooth sur un pc windows...\n",
              "4                                        Impeccable  quand je vois certains commentaires de certain...\n",
              "...                                             ...                                                ...\n",
              "9187                                        Qualite                            top et facile à monter\n",
              "9188                                     bon calite                        bon calite facile à monter\n",
              "9189                                    Bon produit                                  très bon produit\n",
              "9190                                      Roue abdo                                               bien\n",
              "9191                     Roue abdominal sympathique  cette roue abdominal est facile à monter et a...\n",
              "\n",
              "[7762 rows x 2 columns]"
            ]
          },
          "metadata": {
            "tags": []
          },
          "execution_count": 10
        }
      ]
    },
    {
      "cell_type": "markdown",
      "metadata": {
        "id": "llSU92oAhKv-"
      },
      "source": [
        "# Part 03 : Sentiment Analysis"
      ]
    },
    {
      "cell_type": "markdown",
      "metadata": {
        "id": "XjL_6ljgH6r2"
      },
      "source": [
        "## Extract useful data"
      ]
    },
    {
      "cell_type": "code",
      "metadata": {
        "id": "TBS0k4oYH-FV",
        "colab": {
          "base_uri": "https://localhost:8080/",
          "height": 419
        },
        "outputId": "f2a6c010-c8ea-494a-c39d-81fc1139914f"
      },
      "source": [
        "# TreshHolds \n",
        "neg_th = 2\n",
        "pos_th = 3.5 \n",
        "\n",
        "def get_sentiment(rate):\n",
        "    if rate < neg_th :\n",
        "      return -1\n",
        "    elif rate > pos_th :\n",
        "      return 1\n",
        "    else : \n",
        "      return 0\n",
        "\n",
        "def useful_df(df_rev):\n",
        "  X = df_rev.copy()\n",
        "  X = X.drop('Rev_Rate', axis = 1)\n",
        "  X = X.drop('Rev_Hlp', axis = 1)\n",
        "  X = X.drop('Rev_Home', axis = 1)\n",
        "  X = X.drop('Prod_ID', axis = 1)\n",
        "  return X\n",
        "\n",
        "\n",
        "X = useful_df(df_rev)\n",
        "X"
      ],
      "execution_count": null,
      "outputs": [
        {
          "output_type": "execute_result",
          "data": {
            "text/html": [
              "<div>\n",
              "<style scoped>\n",
              "    .dataframe tbody tr th:only-of-type {\n",
              "        vertical-align: middle;\n",
              "    }\n",
              "\n",
              "    .dataframe tbody tr th {\n",
              "        vertical-align: top;\n",
              "    }\n",
              "\n",
              "    .dataframe thead th {\n",
              "        text-align: right;\n",
              "    }\n",
              "</style>\n",
              "<table border=\"1\" class=\"dataframe\">\n",
              "  <thead>\n",
              "    <tr style=\"text-align: right;\">\n",
              "      <th></th>\n",
              "      <th>Rev_Title</th>\n",
              "      <th>Rev_Bdy</th>\n",
              "    </tr>\n",
              "  </thead>\n",
              "  <tbody>\n",
              "    <tr>\n",
              "      <th>0</th>\n",
              "      <td>Génial !</td>\n",
              "      <td>jai commandé ce produit pour pouvoir écouter...</td>\n",
              "    </tr>\n",
              "    <tr>\n",
              "      <th>1</th>\n",
              "      <td>En panne après moins de 2 mois d'utilisation</td>\n",
              "      <td>pour un adaptateur de ce prix jaurais espéré...</td>\n",
              "    </tr>\n",
              "    <tr>\n",
              "      <th>2</th>\n",
              "      <td>Compatible pour Dualshock PS4</td>\n",
              "      <td>acheté pour branchée la manette  sur le pc j...</td>\n",
              "    </tr>\n",
              "    <tr>\n",
              "      <th>3</th>\n",
              "      <td>Dongle Bluetooh parfait</td>\n",
              "      <td>jutilise ce dongle bluetooth sur un pc windows...</td>\n",
              "    </tr>\n",
              "    <tr>\n",
              "      <th>4</th>\n",
              "      <td>Impeccable</td>\n",
              "      <td>quand je vois certains commentaires de certain...</td>\n",
              "    </tr>\n",
              "    <tr>\n",
              "      <th>...</th>\n",
              "      <td>...</td>\n",
              "      <td>...</td>\n",
              "    </tr>\n",
              "    <tr>\n",
              "      <th>9187</th>\n",
              "      <td>Qualite</td>\n",
              "      <td>top et facile à monter</td>\n",
              "    </tr>\n",
              "    <tr>\n",
              "      <th>9188</th>\n",
              "      <td>bon calite</td>\n",
              "      <td>bon calite facile à monter</td>\n",
              "    </tr>\n",
              "    <tr>\n",
              "      <th>9189</th>\n",
              "      <td>Bon produit</td>\n",
              "      <td>très bon produit</td>\n",
              "    </tr>\n",
              "    <tr>\n",
              "      <th>9190</th>\n",
              "      <td>Roue abdo</td>\n",
              "      <td>bien</td>\n",
              "    </tr>\n",
              "    <tr>\n",
              "      <th>9191</th>\n",
              "      <td>Roue abdominal sympathique</td>\n",
              "      <td>cette roue abdominal est facile à monter et a...</td>\n",
              "    </tr>\n",
              "  </tbody>\n",
              "</table>\n",
              "<p>7762 rows × 2 columns</p>\n",
              "</div>"
            ],
            "text/plain": [
              "                                          Rev_Title                                            Rev_Bdy\n",
              "0                                         Génial !  jai commandé ce produit pour pouvoir écouter...\n",
              "1     En panne après moins de 2 mois d'utilisation  pour un adaptateur de ce prix jaurais espéré...\n",
              "2                     Compatible pour Dualshock PS4  acheté pour branchée la manette  sur le pc j...\n",
              "3                           Dongle Bluetooh parfait  jutilise ce dongle bluetooth sur un pc windows...\n",
              "4                                        Impeccable  quand je vois certains commentaires de certain...\n",
              "...                                             ...                                                ...\n",
              "9187                                        Qualite                            top et facile à monter\n",
              "9188                                     bon calite                        bon calite facile à monter\n",
              "9189                                    Bon produit                                  très bon produit\n",
              "9190                                      Roue abdo                                               bien\n",
              "9191                     Roue abdominal sympathique  cette roue abdominal est facile à monter et a...\n",
              "\n",
              "[7762 rows x 2 columns]"
            ]
          },
          "metadata": {
            "tags": []
          },
          "execution_count": 29
        }
      ]
    },
    {
      "cell_type": "markdown",
      "metadata": {
        "id": "a5na5QP8FXDL"
      },
      "source": [
        "## Data Matrix (Vectorizer)"
      ]
    },
    {
      "cell_type": "code",
      "metadata": {
        "id": "_tKsiAjKFgud",
        "colab": {
          "base_uri": "https://localhost:8080/",
          "height": 643
        },
        "outputId": "762b2ee4-3201-4067-b503-b4eee44bff34"
      },
      "source": [
        "import nltk\n",
        "nltk.download('stopwords')\n",
        "from sklearn.feature_extraction.text import CountVectorizer,TfidfVectorizer\n",
        "from nltk.corpus import stopwords\n",
        "from nltk.stem.snowball import FrenchStemmer\n",
        "\n",
        "stopwords = stopwords.words('french')\n",
        "\n",
        "def data_to_matrix(data):\n",
        "  # Building the Victorizer\n",
        "  stemmer = FrenchStemmer()\n",
        "  analyzer = TfidfVectorizer().build_analyzer()\n",
        "  vec = TfidfVectorizer(stop_words = stopwords,\n",
        "                        analyzer = lambda doc:(stemmer.stem(w) for w in analyzer(doc)),\n",
        "                        ngram_range = (1,3))\n",
        "  # Build the new matrix dataset\n",
        "  mx_rev = vec.fit_transform(data.Rev_Bdy) \n",
        "  df_rev = pd.DataFrame(mx_rev.toarray(),columns = vec.get_feature_names())\n",
        "  df_rev.index = data.index\n",
        "  df_rev.insert(0, 'Title', data.Rev_Title)\n",
        "  return df_rev\n",
        "\n",
        "\n",
        "mx_rev = data_to_matrix(X)\n",
        "mx_rev"
      ],
      "execution_count": null,
      "outputs": [
        {
          "output_type": "stream",
          "text": [
            "[nltk_data] Downloading package stopwords to /root/nltk_data...\n",
            "[nltk_data]   Unzipping corpora/stopwords.zip.\n"
          ],
          "name": "stdout"
        },
        {
          "output_type": "execute_result",
          "data": {
            "text/html": [
              "<div>\n",
              "<style scoped>\n",
              "    .dataframe tbody tr th:only-of-type {\n",
              "        vertical-align: middle;\n",
              "    }\n",
              "\n",
              "    .dataframe tbody tr th {\n",
              "        vertical-align: top;\n",
              "    }\n",
              "\n",
              "    .dataframe thead th {\n",
              "        text-align: right;\n",
              "    }\n",
              "</style>\n",
              "<table border=\"1\" class=\"dataframe\">\n",
              "  <thead>\n",
              "    <tr style=\"text-align: right;\">\n",
              "      <th></th>\n",
              "      <th>Title</th>\n",
              "      <th>aa</th>\n",
              "      <th>aachet</th>\n",
              "      <th>ab</th>\n",
              "      <th>abaiss</th>\n",
              "      <th>abandon</th>\n",
              "      <th>abb</th>\n",
              "      <th>abdo</th>\n",
              "      <th>abdomen</th>\n",
              "      <th>abdominal</th>\n",
              "      <th>abdominauxbon</th>\n",
              "      <th>abdominauxel</th>\n",
              "      <th>abdominauxlivr</th>\n",
              "      <th>abdominauxvous</th>\n",
              "      <th>abdos</th>\n",
              "      <th>abdosj</th>\n",
              "      <th>aberr</th>\n",
              "      <th>abi</th>\n",
              "      <th>abim</th>\n",
              "      <th>able</th>\n",
              "      <th>ableavec</th>\n",
              "      <th>abledan</th>\n",
              "      <th>ablejav</th>\n",
              "      <th>ablel</th>\n",
              "      <th>ablement</th>\n",
              "      <th>ableon</th>\n",
              "      <th>ablepar</th>\n",
              "      <th>ableproduit</th>\n",
              "      <th>ablesm</th>\n",
              "      <th>ableun</th>\n",
              "      <th>abomin</th>\n",
              "      <th>abon</th>\n",
              "      <th>abonnementd</th>\n",
              "      <th>abord</th>\n",
              "      <th>about</th>\n",
              "      <th>abrit</th>\n",
              "      <th>absenc</th>\n",
              "      <th>absent</th>\n",
              "      <th>absolu</th>\n",
              "      <th>abus</th>\n",
              "      <th>...</th>\n",
              "      <th>ya</th>\n",
              "      <th>yakitor</th>\n",
              "      <th>yaourt</th>\n",
              "      <th>yatil</th>\n",
              "      <th>yav</th>\n",
              "      <th>ye</th>\n",
              "      <th>yen</th>\n",
              "      <th>yeux</th>\n",
              "      <th>yeuxm</th>\n",
              "      <th>yi</th>\n",
              "      <th>yog</th>\n",
              "      <th>yogaen</th>\n",
              "      <th>yolo</th>\n",
              "      <th>yop</th>\n",
              "      <th>you</th>\n",
              "      <th>youaaaaahouuuuj</th>\n",
              "      <th>youp</th>\n",
              "      <th>your</th>\n",
              "      <th>youtub</th>\n",
              "      <th>zapp</th>\n",
              "      <th>ze</th>\n",
              "      <th>zeld</th>\n",
              "      <th>zelot</th>\n",
              "      <th>zen</th>\n",
              "      <th>zenvod</th>\n",
              "      <th>zero</th>\n",
              "      <th>zik</th>\n",
              "      <th>ziv</th>\n",
              "      <th>zon</th>\n",
              "      <th>zoom</th>\n",
              "      <th>zouh</th>\n",
              "      <th>zow</th>\n",
              "      <th>zqsd</th>\n",
              "      <th>zte</th>\n",
              "      <th>zthank</th>\n",
              "      <th>zu</th>\n",
              "      <th>zufrieden</th>\n",
              "      <th>œil</th>\n",
              "      <th>œuvr</th>\n",
              "      <th>μsd</th>\n",
              "    </tr>\n",
              "  </thead>\n",
              "  <tbody>\n",
              "    <tr>\n",
              "      <th>0</th>\n",
              "      <td>Génial !</td>\n",
              "      <td>0.0</td>\n",
              "      <td>0.0</td>\n",
              "      <td>0.0</td>\n",
              "      <td>0.0</td>\n",
              "      <td>0.0</td>\n",
              "      <td>0.0</td>\n",
              "      <td>0.0</td>\n",
              "      <td>0.0</td>\n",
              "      <td>0.000000</td>\n",
              "      <td>0.0</td>\n",
              "      <td>0.0</td>\n",
              "      <td>0.0</td>\n",
              "      <td>0.0</td>\n",
              "      <td>0.0</td>\n",
              "      <td>0.0</td>\n",
              "      <td>0.0</td>\n",
              "      <td>0.0</td>\n",
              "      <td>0.0</td>\n",
              "      <td>0.0</td>\n",
              "      <td>0.0</td>\n",
              "      <td>0.0</td>\n",
              "      <td>0.0</td>\n",
              "      <td>0.0</td>\n",
              "      <td>0.0</td>\n",
              "      <td>0.0</td>\n",
              "      <td>0.0</td>\n",
              "      <td>0.0</td>\n",
              "      <td>0.0</td>\n",
              "      <td>0.0</td>\n",
              "      <td>0.0</td>\n",
              "      <td>0.0</td>\n",
              "      <td>0.0</td>\n",
              "      <td>0.0</td>\n",
              "      <td>0.0</td>\n",
              "      <td>0.0</td>\n",
              "      <td>0.0</td>\n",
              "      <td>0.0</td>\n",
              "      <td>0.0</td>\n",
              "      <td>0.0</td>\n",
              "      <td>...</td>\n",
              "      <td>0.0</td>\n",
              "      <td>0.0</td>\n",
              "      <td>0.0</td>\n",
              "      <td>0.0</td>\n",
              "      <td>0.0</td>\n",
              "      <td>0.0</td>\n",
              "      <td>0.0</td>\n",
              "      <td>0.0000</td>\n",
              "      <td>0.0</td>\n",
              "      <td>0.0</td>\n",
              "      <td>0.0</td>\n",
              "      <td>0.0</td>\n",
              "      <td>0.0</td>\n",
              "      <td>0.0</td>\n",
              "      <td>0.0</td>\n",
              "      <td>0.0</td>\n",
              "      <td>0.0</td>\n",
              "      <td>0.0</td>\n",
              "      <td>0.0</td>\n",
              "      <td>0.0</td>\n",
              "      <td>0.0</td>\n",
              "      <td>0.0</td>\n",
              "      <td>0.0</td>\n",
              "      <td>0.0</td>\n",
              "      <td>0.0</td>\n",
              "      <td>0.0</td>\n",
              "      <td>0.0</td>\n",
              "      <td>0.0</td>\n",
              "      <td>0.0</td>\n",
              "      <td>0.0</td>\n",
              "      <td>0.0</td>\n",
              "      <td>0.0</td>\n",
              "      <td>0.0</td>\n",
              "      <td>0.0</td>\n",
              "      <td>0.0</td>\n",
              "      <td>0.0</td>\n",
              "      <td>0.0</td>\n",
              "      <td>0.0</td>\n",
              "      <td>0.0</td>\n",
              "      <td>0.0</td>\n",
              "    </tr>\n",
              "    <tr>\n",
              "      <th>1</th>\n",
              "      <td>En panne après moins de 2 mois d'utilisation</td>\n",
              "      <td>0.0</td>\n",
              "      <td>0.0</td>\n",
              "      <td>0.0</td>\n",
              "      <td>0.0</td>\n",
              "      <td>0.0</td>\n",
              "      <td>0.0</td>\n",
              "      <td>0.0</td>\n",
              "      <td>0.0</td>\n",
              "      <td>0.000000</td>\n",
              "      <td>0.0</td>\n",
              "      <td>0.0</td>\n",
              "      <td>0.0</td>\n",
              "      <td>0.0</td>\n",
              "      <td>0.0</td>\n",
              "      <td>0.0</td>\n",
              "      <td>0.0</td>\n",
              "      <td>0.0</td>\n",
              "      <td>0.0</td>\n",
              "      <td>0.0</td>\n",
              "      <td>0.0</td>\n",
              "      <td>0.0</td>\n",
              "      <td>0.0</td>\n",
              "      <td>0.0</td>\n",
              "      <td>0.0</td>\n",
              "      <td>0.0</td>\n",
              "      <td>0.0</td>\n",
              "      <td>0.0</td>\n",
              "      <td>0.0</td>\n",
              "      <td>0.0</td>\n",
              "      <td>0.0</td>\n",
              "      <td>0.0</td>\n",
              "      <td>0.0</td>\n",
              "      <td>0.0</td>\n",
              "      <td>0.0</td>\n",
              "      <td>0.0</td>\n",
              "      <td>0.0</td>\n",
              "      <td>0.0</td>\n",
              "      <td>0.0</td>\n",
              "      <td>0.0</td>\n",
              "      <td>...</td>\n",
              "      <td>0.0</td>\n",
              "      <td>0.0</td>\n",
              "      <td>0.0</td>\n",
              "      <td>0.0</td>\n",
              "      <td>0.0</td>\n",
              "      <td>0.0</td>\n",
              "      <td>0.0</td>\n",
              "      <td>0.0000</td>\n",
              "      <td>0.0</td>\n",
              "      <td>0.0</td>\n",
              "      <td>0.0</td>\n",
              "      <td>0.0</td>\n",
              "      <td>0.0</td>\n",
              "      <td>0.0</td>\n",
              "      <td>0.0</td>\n",
              "      <td>0.0</td>\n",
              "      <td>0.0</td>\n",
              "      <td>0.0</td>\n",
              "      <td>0.0</td>\n",
              "      <td>0.0</td>\n",
              "      <td>0.0</td>\n",
              "      <td>0.0</td>\n",
              "      <td>0.0</td>\n",
              "      <td>0.0</td>\n",
              "      <td>0.0</td>\n",
              "      <td>0.0</td>\n",
              "      <td>0.0</td>\n",
              "      <td>0.0</td>\n",
              "      <td>0.0</td>\n",
              "      <td>0.0</td>\n",
              "      <td>0.0</td>\n",
              "      <td>0.0</td>\n",
              "      <td>0.0</td>\n",
              "      <td>0.0</td>\n",
              "      <td>0.0</td>\n",
              "      <td>0.0</td>\n",
              "      <td>0.0</td>\n",
              "      <td>0.0</td>\n",
              "      <td>0.0</td>\n",
              "      <td>0.0</td>\n",
              "    </tr>\n",
              "    <tr>\n",
              "      <th>2</th>\n",
              "      <td>Compatible pour Dualshock PS4</td>\n",
              "      <td>0.0</td>\n",
              "      <td>0.0</td>\n",
              "      <td>0.0</td>\n",
              "      <td>0.0</td>\n",
              "      <td>0.0</td>\n",
              "      <td>0.0</td>\n",
              "      <td>0.0</td>\n",
              "      <td>0.0</td>\n",
              "      <td>0.000000</td>\n",
              "      <td>0.0</td>\n",
              "      <td>0.0</td>\n",
              "      <td>0.0</td>\n",
              "      <td>0.0</td>\n",
              "      <td>0.0</td>\n",
              "      <td>0.0</td>\n",
              "      <td>0.0</td>\n",
              "      <td>0.0</td>\n",
              "      <td>0.0</td>\n",
              "      <td>0.0</td>\n",
              "      <td>0.0</td>\n",
              "      <td>0.0</td>\n",
              "      <td>0.0</td>\n",
              "      <td>0.0</td>\n",
              "      <td>0.0</td>\n",
              "      <td>0.0</td>\n",
              "      <td>0.0</td>\n",
              "      <td>0.0</td>\n",
              "      <td>0.0</td>\n",
              "      <td>0.0</td>\n",
              "      <td>0.0</td>\n",
              "      <td>0.0</td>\n",
              "      <td>0.0</td>\n",
              "      <td>0.0</td>\n",
              "      <td>0.0</td>\n",
              "      <td>0.0</td>\n",
              "      <td>0.0</td>\n",
              "      <td>0.0</td>\n",
              "      <td>0.0</td>\n",
              "      <td>0.0</td>\n",
              "      <td>...</td>\n",
              "      <td>0.0</td>\n",
              "      <td>0.0</td>\n",
              "      <td>0.0</td>\n",
              "      <td>0.0</td>\n",
              "      <td>0.0</td>\n",
              "      <td>0.0</td>\n",
              "      <td>0.0</td>\n",
              "      <td>0.1955</td>\n",
              "      <td>0.0</td>\n",
              "      <td>0.0</td>\n",
              "      <td>0.0</td>\n",
              "      <td>0.0</td>\n",
              "      <td>0.0</td>\n",
              "      <td>0.0</td>\n",
              "      <td>0.0</td>\n",
              "      <td>0.0</td>\n",
              "      <td>0.0</td>\n",
              "      <td>0.0</td>\n",
              "      <td>0.0</td>\n",
              "      <td>0.0</td>\n",
              "      <td>0.0</td>\n",
              "      <td>0.0</td>\n",
              "      <td>0.0</td>\n",
              "      <td>0.0</td>\n",
              "      <td>0.0</td>\n",
              "      <td>0.0</td>\n",
              "      <td>0.0</td>\n",
              "      <td>0.0</td>\n",
              "      <td>0.0</td>\n",
              "      <td>0.0</td>\n",
              "      <td>0.0</td>\n",
              "      <td>0.0</td>\n",
              "      <td>0.0</td>\n",
              "      <td>0.0</td>\n",
              "      <td>0.0</td>\n",
              "      <td>0.0</td>\n",
              "      <td>0.0</td>\n",
              "      <td>0.0</td>\n",
              "      <td>0.0</td>\n",
              "      <td>0.0</td>\n",
              "    </tr>\n",
              "    <tr>\n",
              "      <th>3</th>\n",
              "      <td>Dongle Bluetooh parfait</td>\n",
              "      <td>0.0</td>\n",
              "      <td>0.0</td>\n",
              "      <td>0.0</td>\n",
              "      <td>0.0</td>\n",
              "      <td>0.0</td>\n",
              "      <td>0.0</td>\n",
              "      <td>0.0</td>\n",
              "      <td>0.0</td>\n",
              "      <td>0.000000</td>\n",
              "      <td>0.0</td>\n",
              "      <td>0.0</td>\n",
              "      <td>0.0</td>\n",
              "      <td>0.0</td>\n",
              "      <td>0.0</td>\n",
              "      <td>0.0</td>\n",
              "      <td>0.0</td>\n",
              "      <td>0.0</td>\n",
              "      <td>0.0</td>\n",
              "      <td>0.0</td>\n",
              "      <td>0.0</td>\n",
              "      <td>0.0</td>\n",
              "      <td>0.0</td>\n",
              "      <td>0.0</td>\n",
              "      <td>0.0</td>\n",
              "      <td>0.0</td>\n",
              "      <td>0.0</td>\n",
              "      <td>0.0</td>\n",
              "      <td>0.0</td>\n",
              "      <td>0.0</td>\n",
              "      <td>0.0</td>\n",
              "      <td>0.0</td>\n",
              "      <td>0.0</td>\n",
              "      <td>0.0</td>\n",
              "      <td>0.0</td>\n",
              "      <td>0.0</td>\n",
              "      <td>0.0</td>\n",
              "      <td>0.0</td>\n",
              "      <td>0.0</td>\n",
              "      <td>0.0</td>\n",
              "      <td>...</td>\n",
              "      <td>0.0</td>\n",
              "      <td>0.0</td>\n",
              "      <td>0.0</td>\n",
              "      <td>0.0</td>\n",
              "      <td>0.0</td>\n",
              "      <td>0.0</td>\n",
              "      <td>0.0</td>\n",
              "      <td>0.0000</td>\n",
              "      <td>0.0</td>\n",
              "      <td>0.0</td>\n",
              "      <td>0.0</td>\n",
              "      <td>0.0</td>\n",
              "      <td>0.0</td>\n",
              "      <td>0.0</td>\n",
              "      <td>0.0</td>\n",
              "      <td>0.0</td>\n",
              "      <td>0.0</td>\n",
              "      <td>0.0</td>\n",
              "      <td>0.0</td>\n",
              "      <td>0.0</td>\n",
              "      <td>0.0</td>\n",
              "      <td>0.0</td>\n",
              "      <td>0.0</td>\n",
              "      <td>0.0</td>\n",
              "      <td>0.0</td>\n",
              "      <td>0.0</td>\n",
              "      <td>0.0</td>\n",
              "      <td>0.0</td>\n",
              "      <td>0.0</td>\n",
              "      <td>0.0</td>\n",
              "      <td>0.0</td>\n",
              "      <td>0.0</td>\n",
              "      <td>0.0</td>\n",
              "      <td>0.0</td>\n",
              "      <td>0.0</td>\n",
              "      <td>0.0</td>\n",
              "      <td>0.0</td>\n",
              "      <td>0.0</td>\n",
              "      <td>0.0</td>\n",
              "      <td>0.0</td>\n",
              "    </tr>\n",
              "    <tr>\n",
              "      <th>4</th>\n",
              "      <td>Impeccable</td>\n",
              "      <td>0.0</td>\n",
              "      <td>0.0</td>\n",
              "      <td>0.0</td>\n",
              "      <td>0.0</td>\n",
              "      <td>0.0</td>\n",
              "      <td>0.0</td>\n",
              "      <td>0.0</td>\n",
              "      <td>0.0</td>\n",
              "      <td>0.000000</td>\n",
              "      <td>0.0</td>\n",
              "      <td>0.0</td>\n",
              "      <td>0.0</td>\n",
              "      <td>0.0</td>\n",
              "      <td>0.0</td>\n",
              "      <td>0.0</td>\n",
              "      <td>0.0</td>\n",
              "      <td>0.0</td>\n",
              "      <td>0.0</td>\n",
              "      <td>0.0</td>\n",
              "      <td>0.0</td>\n",
              "      <td>0.0</td>\n",
              "      <td>0.0</td>\n",
              "      <td>0.0</td>\n",
              "      <td>0.0</td>\n",
              "      <td>0.0</td>\n",
              "      <td>0.0</td>\n",
              "      <td>0.0</td>\n",
              "      <td>0.0</td>\n",
              "      <td>0.0</td>\n",
              "      <td>0.0</td>\n",
              "      <td>0.0</td>\n",
              "      <td>0.0</td>\n",
              "      <td>0.0</td>\n",
              "      <td>0.0</td>\n",
              "      <td>0.0</td>\n",
              "      <td>0.0</td>\n",
              "      <td>0.0</td>\n",
              "      <td>0.0</td>\n",
              "      <td>0.0</td>\n",
              "      <td>...</td>\n",
              "      <td>0.0</td>\n",
              "      <td>0.0</td>\n",
              "      <td>0.0</td>\n",
              "      <td>0.0</td>\n",
              "      <td>0.0</td>\n",
              "      <td>0.0</td>\n",
              "      <td>0.0</td>\n",
              "      <td>0.0000</td>\n",
              "      <td>0.0</td>\n",
              "      <td>0.0</td>\n",
              "      <td>0.0</td>\n",
              "      <td>0.0</td>\n",
              "      <td>0.0</td>\n",
              "      <td>0.0</td>\n",
              "      <td>0.0</td>\n",
              "      <td>0.0</td>\n",
              "      <td>0.0</td>\n",
              "      <td>0.0</td>\n",
              "      <td>0.0</td>\n",
              "      <td>0.0</td>\n",
              "      <td>0.0</td>\n",
              "      <td>0.0</td>\n",
              "      <td>0.0</td>\n",
              "      <td>0.0</td>\n",
              "      <td>0.0</td>\n",
              "      <td>0.0</td>\n",
              "      <td>0.0</td>\n",
              "      <td>0.0</td>\n",
              "      <td>0.0</td>\n",
              "      <td>0.0</td>\n",
              "      <td>0.0</td>\n",
              "      <td>0.0</td>\n",
              "      <td>0.0</td>\n",
              "      <td>0.0</td>\n",
              "      <td>0.0</td>\n",
              "      <td>0.0</td>\n",
              "      <td>0.0</td>\n",
              "      <td>0.0</td>\n",
              "      <td>0.0</td>\n",
              "      <td>0.0</td>\n",
              "    </tr>\n",
              "    <tr>\n",
              "      <th>...</th>\n",
              "      <td>...</td>\n",
              "      <td>...</td>\n",
              "      <td>...</td>\n",
              "      <td>...</td>\n",
              "      <td>...</td>\n",
              "      <td>...</td>\n",
              "      <td>...</td>\n",
              "      <td>...</td>\n",
              "      <td>...</td>\n",
              "      <td>...</td>\n",
              "      <td>...</td>\n",
              "      <td>...</td>\n",
              "      <td>...</td>\n",
              "      <td>...</td>\n",
              "      <td>...</td>\n",
              "      <td>...</td>\n",
              "      <td>...</td>\n",
              "      <td>...</td>\n",
              "      <td>...</td>\n",
              "      <td>...</td>\n",
              "      <td>...</td>\n",
              "      <td>...</td>\n",
              "      <td>...</td>\n",
              "      <td>...</td>\n",
              "      <td>...</td>\n",
              "      <td>...</td>\n",
              "      <td>...</td>\n",
              "      <td>...</td>\n",
              "      <td>...</td>\n",
              "      <td>...</td>\n",
              "      <td>...</td>\n",
              "      <td>...</td>\n",
              "      <td>...</td>\n",
              "      <td>...</td>\n",
              "      <td>...</td>\n",
              "      <td>...</td>\n",
              "      <td>...</td>\n",
              "      <td>...</td>\n",
              "      <td>...</td>\n",
              "      <td>...</td>\n",
              "      <td>...</td>\n",
              "      <td>...</td>\n",
              "      <td>...</td>\n",
              "      <td>...</td>\n",
              "      <td>...</td>\n",
              "      <td>...</td>\n",
              "      <td>...</td>\n",
              "      <td>...</td>\n",
              "      <td>...</td>\n",
              "      <td>...</td>\n",
              "      <td>...</td>\n",
              "      <td>...</td>\n",
              "      <td>...</td>\n",
              "      <td>...</td>\n",
              "      <td>...</td>\n",
              "      <td>...</td>\n",
              "      <td>...</td>\n",
              "      <td>...</td>\n",
              "      <td>...</td>\n",
              "      <td>...</td>\n",
              "      <td>...</td>\n",
              "      <td>...</td>\n",
              "      <td>...</td>\n",
              "      <td>...</td>\n",
              "      <td>...</td>\n",
              "      <td>...</td>\n",
              "      <td>...</td>\n",
              "      <td>...</td>\n",
              "      <td>...</td>\n",
              "      <td>...</td>\n",
              "      <td>...</td>\n",
              "      <td>...</td>\n",
              "      <td>...</td>\n",
              "      <td>...</td>\n",
              "      <td>...</td>\n",
              "      <td>...</td>\n",
              "      <td>...</td>\n",
              "      <td>...</td>\n",
              "      <td>...</td>\n",
              "      <td>...</td>\n",
              "      <td>...</td>\n",
              "    </tr>\n",
              "    <tr>\n",
              "      <th>9187</th>\n",
              "      <td>Qualite</td>\n",
              "      <td>0.0</td>\n",
              "      <td>0.0</td>\n",
              "      <td>0.0</td>\n",
              "      <td>0.0</td>\n",
              "      <td>0.0</td>\n",
              "      <td>0.0</td>\n",
              "      <td>0.0</td>\n",
              "      <td>0.0</td>\n",
              "      <td>0.000000</td>\n",
              "      <td>0.0</td>\n",
              "      <td>0.0</td>\n",
              "      <td>0.0</td>\n",
              "      <td>0.0</td>\n",
              "      <td>0.0</td>\n",
              "      <td>0.0</td>\n",
              "      <td>0.0</td>\n",
              "      <td>0.0</td>\n",
              "      <td>0.0</td>\n",
              "      <td>0.0</td>\n",
              "      <td>0.0</td>\n",
              "      <td>0.0</td>\n",
              "      <td>0.0</td>\n",
              "      <td>0.0</td>\n",
              "      <td>0.0</td>\n",
              "      <td>0.0</td>\n",
              "      <td>0.0</td>\n",
              "      <td>0.0</td>\n",
              "      <td>0.0</td>\n",
              "      <td>0.0</td>\n",
              "      <td>0.0</td>\n",
              "      <td>0.0</td>\n",
              "      <td>0.0</td>\n",
              "      <td>0.0</td>\n",
              "      <td>0.0</td>\n",
              "      <td>0.0</td>\n",
              "      <td>0.0</td>\n",
              "      <td>0.0</td>\n",
              "      <td>0.0</td>\n",
              "      <td>0.0</td>\n",
              "      <td>...</td>\n",
              "      <td>0.0</td>\n",
              "      <td>0.0</td>\n",
              "      <td>0.0</td>\n",
              "      <td>0.0</td>\n",
              "      <td>0.0</td>\n",
              "      <td>0.0</td>\n",
              "      <td>0.0</td>\n",
              "      <td>0.0000</td>\n",
              "      <td>0.0</td>\n",
              "      <td>0.0</td>\n",
              "      <td>0.0</td>\n",
              "      <td>0.0</td>\n",
              "      <td>0.0</td>\n",
              "      <td>0.0</td>\n",
              "      <td>0.0</td>\n",
              "      <td>0.0</td>\n",
              "      <td>0.0</td>\n",
              "      <td>0.0</td>\n",
              "      <td>0.0</td>\n",
              "      <td>0.0</td>\n",
              "      <td>0.0</td>\n",
              "      <td>0.0</td>\n",
              "      <td>0.0</td>\n",
              "      <td>0.0</td>\n",
              "      <td>0.0</td>\n",
              "      <td>0.0</td>\n",
              "      <td>0.0</td>\n",
              "      <td>0.0</td>\n",
              "      <td>0.0</td>\n",
              "      <td>0.0</td>\n",
              "      <td>0.0</td>\n",
              "      <td>0.0</td>\n",
              "      <td>0.0</td>\n",
              "      <td>0.0</td>\n",
              "      <td>0.0</td>\n",
              "      <td>0.0</td>\n",
              "      <td>0.0</td>\n",
              "      <td>0.0</td>\n",
              "      <td>0.0</td>\n",
              "      <td>0.0</td>\n",
              "    </tr>\n",
              "    <tr>\n",
              "      <th>9188</th>\n",
              "      <td>bon calite</td>\n",
              "      <td>0.0</td>\n",
              "      <td>0.0</td>\n",
              "      <td>0.0</td>\n",
              "      <td>0.0</td>\n",
              "      <td>0.0</td>\n",
              "      <td>0.0</td>\n",
              "      <td>0.0</td>\n",
              "      <td>0.0</td>\n",
              "      <td>0.000000</td>\n",
              "      <td>0.0</td>\n",
              "      <td>0.0</td>\n",
              "      <td>0.0</td>\n",
              "      <td>0.0</td>\n",
              "      <td>0.0</td>\n",
              "      <td>0.0</td>\n",
              "      <td>0.0</td>\n",
              "      <td>0.0</td>\n",
              "      <td>0.0</td>\n",
              "      <td>0.0</td>\n",
              "      <td>0.0</td>\n",
              "      <td>0.0</td>\n",
              "      <td>0.0</td>\n",
              "      <td>0.0</td>\n",
              "      <td>0.0</td>\n",
              "      <td>0.0</td>\n",
              "      <td>0.0</td>\n",
              "      <td>0.0</td>\n",
              "      <td>0.0</td>\n",
              "      <td>0.0</td>\n",
              "      <td>0.0</td>\n",
              "      <td>0.0</td>\n",
              "      <td>0.0</td>\n",
              "      <td>0.0</td>\n",
              "      <td>0.0</td>\n",
              "      <td>0.0</td>\n",
              "      <td>0.0</td>\n",
              "      <td>0.0</td>\n",
              "      <td>0.0</td>\n",
              "      <td>0.0</td>\n",
              "      <td>...</td>\n",
              "      <td>0.0</td>\n",
              "      <td>0.0</td>\n",
              "      <td>0.0</td>\n",
              "      <td>0.0</td>\n",
              "      <td>0.0</td>\n",
              "      <td>0.0</td>\n",
              "      <td>0.0</td>\n",
              "      <td>0.0000</td>\n",
              "      <td>0.0</td>\n",
              "      <td>0.0</td>\n",
              "      <td>0.0</td>\n",
              "      <td>0.0</td>\n",
              "      <td>0.0</td>\n",
              "      <td>0.0</td>\n",
              "      <td>0.0</td>\n",
              "      <td>0.0</td>\n",
              "      <td>0.0</td>\n",
              "      <td>0.0</td>\n",
              "      <td>0.0</td>\n",
              "      <td>0.0</td>\n",
              "      <td>0.0</td>\n",
              "      <td>0.0</td>\n",
              "      <td>0.0</td>\n",
              "      <td>0.0</td>\n",
              "      <td>0.0</td>\n",
              "      <td>0.0</td>\n",
              "      <td>0.0</td>\n",
              "      <td>0.0</td>\n",
              "      <td>0.0</td>\n",
              "      <td>0.0</td>\n",
              "      <td>0.0</td>\n",
              "      <td>0.0</td>\n",
              "      <td>0.0</td>\n",
              "      <td>0.0</td>\n",
              "      <td>0.0</td>\n",
              "      <td>0.0</td>\n",
              "      <td>0.0</td>\n",
              "      <td>0.0</td>\n",
              "      <td>0.0</td>\n",
              "      <td>0.0</td>\n",
              "    </tr>\n",
              "    <tr>\n",
              "      <th>9189</th>\n",
              "      <td>Bon produit</td>\n",
              "      <td>0.0</td>\n",
              "      <td>0.0</td>\n",
              "      <td>0.0</td>\n",
              "      <td>0.0</td>\n",
              "      <td>0.0</td>\n",
              "      <td>0.0</td>\n",
              "      <td>0.0</td>\n",
              "      <td>0.0</td>\n",
              "      <td>0.000000</td>\n",
              "      <td>0.0</td>\n",
              "      <td>0.0</td>\n",
              "      <td>0.0</td>\n",
              "      <td>0.0</td>\n",
              "      <td>0.0</td>\n",
              "      <td>0.0</td>\n",
              "      <td>0.0</td>\n",
              "      <td>0.0</td>\n",
              "      <td>0.0</td>\n",
              "      <td>0.0</td>\n",
              "      <td>0.0</td>\n",
              "      <td>0.0</td>\n",
              "      <td>0.0</td>\n",
              "      <td>0.0</td>\n",
              "      <td>0.0</td>\n",
              "      <td>0.0</td>\n",
              "      <td>0.0</td>\n",
              "      <td>0.0</td>\n",
              "      <td>0.0</td>\n",
              "      <td>0.0</td>\n",
              "      <td>0.0</td>\n",
              "      <td>0.0</td>\n",
              "      <td>0.0</td>\n",
              "      <td>0.0</td>\n",
              "      <td>0.0</td>\n",
              "      <td>0.0</td>\n",
              "      <td>0.0</td>\n",
              "      <td>0.0</td>\n",
              "      <td>0.0</td>\n",
              "      <td>0.0</td>\n",
              "      <td>...</td>\n",
              "      <td>0.0</td>\n",
              "      <td>0.0</td>\n",
              "      <td>0.0</td>\n",
              "      <td>0.0</td>\n",
              "      <td>0.0</td>\n",
              "      <td>0.0</td>\n",
              "      <td>0.0</td>\n",
              "      <td>0.0000</td>\n",
              "      <td>0.0</td>\n",
              "      <td>0.0</td>\n",
              "      <td>0.0</td>\n",
              "      <td>0.0</td>\n",
              "      <td>0.0</td>\n",
              "      <td>0.0</td>\n",
              "      <td>0.0</td>\n",
              "      <td>0.0</td>\n",
              "      <td>0.0</td>\n",
              "      <td>0.0</td>\n",
              "      <td>0.0</td>\n",
              "      <td>0.0</td>\n",
              "      <td>0.0</td>\n",
              "      <td>0.0</td>\n",
              "      <td>0.0</td>\n",
              "      <td>0.0</td>\n",
              "      <td>0.0</td>\n",
              "      <td>0.0</td>\n",
              "      <td>0.0</td>\n",
              "      <td>0.0</td>\n",
              "      <td>0.0</td>\n",
              "      <td>0.0</td>\n",
              "      <td>0.0</td>\n",
              "      <td>0.0</td>\n",
              "      <td>0.0</td>\n",
              "      <td>0.0</td>\n",
              "      <td>0.0</td>\n",
              "      <td>0.0</td>\n",
              "      <td>0.0</td>\n",
              "      <td>0.0</td>\n",
              "      <td>0.0</td>\n",
              "      <td>0.0</td>\n",
              "    </tr>\n",
              "    <tr>\n",
              "      <th>9190</th>\n",
              "      <td>Roue abdo</td>\n",
              "      <td>0.0</td>\n",
              "      <td>0.0</td>\n",
              "      <td>0.0</td>\n",
              "      <td>0.0</td>\n",
              "      <td>0.0</td>\n",
              "      <td>0.0</td>\n",
              "      <td>0.0</td>\n",
              "      <td>0.0</td>\n",
              "      <td>0.000000</td>\n",
              "      <td>0.0</td>\n",
              "      <td>0.0</td>\n",
              "      <td>0.0</td>\n",
              "      <td>0.0</td>\n",
              "      <td>0.0</td>\n",
              "      <td>0.0</td>\n",
              "      <td>0.0</td>\n",
              "      <td>0.0</td>\n",
              "      <td>0.0</td>\n",
              "      <td>0.0</td>\n",
              "      <td>0.0</td>\n",
              "      <td>0.0</td>\n",
              "      <td>0.0</td>\n",
              "      <td>0.0</td>\n",
              "      <td>0.0</td>\n",
              "      <td>0.0</td>\n",
              "      <td>0.0</td>\n",
              "      <td>0.0</td>\n",
              "      <td>0.0</td>\n",
              "      <td>0.0</td>\n",
              "      <td>0.0</td>\n",
              "      <td>0.0</td>\n",
              "      <td>0.0</td>\n",
              "      <td>0.0</td>\n",
              "      <td>0.0</td>\n",
              "      <td>0.0</td>\n",
              "      <td>0.0</td>\n",
              "      <td>0.0</td>\n",
              "      <td>0.0</td>\n",
              "      <td>0.0</td>\n",
              "      <td>...</td>\n",
              "      <td>0.0</td>\n",
              "      <td>0.0</td>\n",
              "      <td>0.0</td>\n",
              "      <td>0.0</td>\n",
              "      <td>0.0</td>\n",
              "      <td>0.0</td>\n",
              "      <td>0.0</td>\n",
              "      <td>0.0000</td>\n",
              "      <td>0.0</td>\n",
              "      <td>0.0</td>\n",
              "      <td>0.0</td>\n",
              "      <td>0.0</td>\n",
              "      <td>0.0</td>\n",
              "      <td>0.0</td>\n",
              "      <td>0.0</td>\n",
              "      <td>0.0</td>\n",
              "      <td>0.0</td>\n",
              "      <td>0.0</td>\n",
              "      <td>0.0</td>\n",
              "      <td>0.0</td>\n",
              "      <td>0.0</td>\n",
              "      <td>0.0</td>\n",
              "      <td>0.0</td>\n",
              "      <td>0.0</td>\n",
              "      <td>0.0</td>\n",
              "      <td>0.0</td>\n",
              "      <td>0.0</td>\n",
              "      <td>0.0</td>\n",
              "      <td>0.0</td>\n",
              "      <td>0.0</td>\n",
              "      <td>0.0</td>\n",
              "      <td>0.0</td>\n",
              "      <td>0.0</td>\n",
              "      <td>0.0</td>\n",
              "      <td>0.0</td>\n",
              "      <td>0.0</td>\n",
              "      <td>0.0</td>\n",
              "      <td>0.0</td>\n",
              "      <td>0.0</td>\n",
              "      <td>0.0</td>\n",
              "    </tr>\n",
              "    <tr>\n",
              "      <th>9191</th>\n",
              "      <td>Roue abdominal sympathique</td>\n",
              "      <td>0.0</td>\n",
              "      <td>0.0</td>\n",
              "      <td>0.0</td>\n",
              "      <td>0.0</td>\n",
              "      <td>0.0</td>\n",
              "      <td>0.0</td>\n",
              "      <td>0.0</td>\n",
              "      <td>0.0</td>\n",
              "      <td>0.364555</td>\n",
              "      <td>0.0</td>\n",
              "      <td>0.0</td>\n",
              "      <td>0.0</td>\n",
              "      <td>0.0</td>\n",
              "      <td>0.0</td>\n",
              "      <td>0.0</td>\n",
              "      <td>0.0</td>\n",
              "      <td>0.0</td>\n",
              "      <td>0.0</td>\n",
              "      <td>0.0</td>\n",
              "      <td>0.0</td>\n",
              "      <td>0.0</td>\n",
              "      <td>0.0</td>\n",
              "      <td>0.0</td>\n",
              "      <td>0.0</td>\n",
              "      <td>0.0</td>\n",
              "      <td>0.0</td>\n",
              "      <td>0.0</td>\n",
              "      <td>0.0</td>\n",
              "      <td>0.0</td>\n",
              "      <td>0.0</td>\n",
              "      <td>0.0</td>\n",
              "      <td>0.0</td>\n",
              "      <td>0.0</td>\n",
              "      <td>0.0</td>\n",
              "      <td>0.0</td>\n",
              "      <td>0.0</td>\n",
              "      <td>0.0</td>\n",
              "      <td>0.0</td>\n",
              "      <td>0.0</td>\n",
              "      <td>...</td>\n",
              "      <td>0.0</td>\n",
              "      <td>0.0</td>\n",
              "      <td>0.0</td>\n",
              "      <td>0.0</td>\n",
              "      <td>0.0</td>\n",
              "      <td>0.0</td>\n",
              "      <td>0.0</td>\n",
              "      <td>0.0000</td>\n",
              "      <td>0.0</td>\n",
              "      <td>0.0</td>\n",
              "      <td>0.0</td>\n",
              "      <td>0.0</td>\n",
              "      <td>0.0</td>\n",
              "      <td>0.0</td>\n",
              "      <td>0.0</td>\n",
              "      <td>0.0</td>\n",
              "      <td>0.0</td>\n",
              "      <td>0.0</td>\n",
              "      <td>0.0</td>\n",
              "      <td>0.0</td>\n",
              "      <td>0.0</td>\n",
              "      <td>0.0</td>\n",
              "      <td>0.0</td>\n",
              "      <td>0.0</td>\n",
              "      <td>0.0</td>\n",
              "      <td>0.0</td>\n",
              "      <td>0.0</td>\n",
              "      <td>0.0</td>\n",
              "      <td>0.0</td>\n",
              "      <td>0.0</td>\n",
              "      <td>0.0</td>\n",
              "      <td>0.0</td>\n",
              "      <td>0.0</td>\n",
              "      <td>0.0</td>\n",
              "      <td>0.0</td>\n",
              "      <td>0.0</td>\n",
              "      <td>0.0</td>\n",
              "      <td>0.0</td>\n",
              "      <td>0.0</td>\n",
              "      <td>0.0</td>\n",
              "    </tr>\n",
              "  </tbody>\n",
              "</table>\n",
              "<p>7762 rows × 11469 columns</p>\n",
              "</div>"
            ],
            "text/plain": [
              "                                              Title   aa  ...  œuvr  μsd\n",
              "0                                         Génial !  0.0  ...   0.0  0.0\n",
              "1     En panne après moins de 2 mois d'utilisation  0.0  ...   0.0  0.0\n",
              "2                     Compatible pour Dualshock PS4  0.0  ...   0.0  0.0\n",
              "3                           Dongle Bluetooh parfait  0.0  ...   0.0  0.0\n",
              "4                                        Impeccable  0.0  ...   0.0  0.0\n",
              "...                                             ...  ...  ...   ...  ...\n",
              "9187                                        Qualite  0.0  ...   0.0  0.0\n",
              "9188                                     bon calite  0.0  ...   0.0  0.0\n",
              "9189                                    Bon produit  0.0  ...   0.0  0.0\n",
              "9190                                      Roue abdo  0.0  ...   0.0  0.0\n",
              "9191                     Roue abdominal sympathique  0.0  ...   0.0  0.0\n",
              "\n",
              "[7762 rows x 11469 columns]"
            ]
          },
          "metadata": {
            "tags": []
          },
          "execution_count": 12
        }
      ]
    },
    {
      "cell_type": "markdown",
      "metadata": {
        "id": "xu09jPJsiE_r"
      },
      "source": [
        "## Subjectivity & Polarity of reviews "
      ]
    },
    {
      "cell_type": "code",
      "metadata": {
        "id": "aoU54vjOiJqA",
        "colab": {
          "base_uri": "https://localhost:8080/",
          "height": 542
        },
        "outputId": "b9e3ea88-6f13-49fb-e96c-1c38533c2062"
      },
      "source": [
        "\n",
        "from textblob import TextBlob\n",
        "from textblob import Blobber\n",
        "from textblob_fr import PatternTagger, PatternAnalyzer\n",
        "import plotly.graph_objects as go\n",
        "import plotly.express as px\n",
        "\n",
        "\n",
        "tb = Blobber(pos_tagger=PatternTagger(), analyzer=PatternAnalyzer())\n",
        "\n",
        "# To exctract polarity from a message **msg\n",
        "def get_polarity(msg):\n",
        "  return tb(msg).sentiment[0]\n",
        "\n",
        "  \n",
        "# To exctract subjectivity from a message **msg\n",
        "def get_subjectivity(msg):\n",
        "  return tb(msg).sentiment[1]\n",
        "\n",
        "\n",
        "\n",
        "\n",
        "def encode_sentiment(sentiment):\n",
        "    if sentiment == 'Positive' : \n",
        "      return 1\n",
        "    elif sentiment == 'Negative' :\n",
        "      return -1\n",
        "    else : \n",
        "      return 0\n",
        "\n",
        "def decode_sentiment(data):\n",
        "    if data > 0 : \n",
        "      return 'Positive'\n",
        "    elif data < 0 :\n",
        "      return 'Negative'\n",
        "    else : \n",
        "      return 'Neutral'\n",
        "\n",
        "\n",
        "\n",
        "ds['Subjectivity'] = ds['Rev_Bdy'].apply(get_subjectivity)\n",
        "ds['Polarity'] = ds['Rev_Bdy'].apply(get_polarity)\n",
        "ds['Title_Polarity'] = ds['Rev_Title'].apply(get_polarity)\n",
        "ds['Sentiment'] = ds['Polarity'].apply(decode_sentiment)\n",
        "\n",
        "y = ds['Sentiment'].apply(encode_sentiment)\n",
        "\n",
        "\n",
        "sentiment_stats = pd.value_counts(ds['Sentiment'].values, sort=True)\n",
        "fig = px.histogram(ds, x=\"Sentiment\",color=\"Sentiment\")\n",
        "fig.update_layout(\n",
        "    title_text='Sentiment of reviews', # title of plot\n",
        "    xaxis_title_text='Sentiment', # xaxis label\n",
        "    yaxis_title_text='Count', # yaxis label\n",
        "    bargap=0.2, \n",
        "    bargroupgap=0.1\n",
        ")\n",
        "fig.show()\n",
        "\n",
        "\n"
      ],
      "execution_count": null,
      "outputs": [
        {
          "output_type": "display_data",
          "data": {
            "text/html": [
              "<html>\n",
              "<head><meta charset=\"utf-8\" /></head>\n",
              "<body>\n",
              "    <div>\n",
              "            <script src=\"https://cdnjs.cloudflare.com/ajax/libs/mathjax/2.7.5/MathJax.js?config=TeX-AMS-MML_SVG\"></script><script type=\"text/javascript\">if (window.MathJax) {MathJax.Hub.Config({SVG: {font: \"STIX-Web\"}});}</script>\n",
              "                <script type=\"text/javascript\">window.PlotlyConfig = {MathJaxConfig: 'local'};</script>\n",
              "        <script src=\"https://cdn.plot.ly/plotly-latest.min.js\"></script>    \n",
              "            <div id=\"1eb0a8ad-5f52-42ec-b091-635cee6e4b85\" class=\"plotly-graph-div\" style=\"height:525px; width:100%;\"></div>\n",
              "            <script type=\"text/javascript\">\n",
              "                \n",
              "                    window.PLOTLYENV=window.PLOTLYENV || {};\n",
              "                    \n",
              "                if (document.getElementById(\"1eb0a8ad-5f52-42ec-b091-635cee6e4b85\")) {\n",
              "                    Plotly.newPlot(\n",
              "                        '1eb0a8ad-5f52-42ec-b091-635cee6e4b85',\n",
              "                        [{\"alignmentgroup\": \"True\", \"bingroup\": \"x\", \"hoverlabel\": {\"namelength\": 0}, \"hovertemplate\": \"Sentiment=%{x}<br>count=%{y}\", \"legendgroup\": \"Sentiment=Positive\", \"marker\": {\"color\": \"#636efa\"}, \"name\": \"Sentiment=Positive\", \"offsetgroup\": \"Sentiment=Positive\", \"orientation\": \"v\", \"showlegend\": true, \"type\": \"histogram\", \"x\": [\"Positive\", \"Positive\", \"Positive\", \"Positive\", \"Positive\", \"Positive\", \"Positive\", \"Positive\", \"Positive\", \"Positive\", \"Positive\", \"Positive\", \"Positive\", \"Positive\", \"Positive\", \"Positive\", \"Positive\", \"Positive\", \"Positive\", \"Positive\", \"Positive\", \"Positive\", \"Positive\", \"Positive\", \"Positive\", \"Positive\", \"Positive\", \"Positive\", \"Positive\", \"Positive\", \"Positive\", \"Positive\", \"Positive\", \"Positive\", \"Positive\", \"Positive\", \"Positive\", \"Positive\", \"Positive\", \"Positive\", \"Positive\", \"Positive\", \"Positive\", \"Positive\", \"Positive\", \"Positive\", \"Positive\", \"Positive\", \"Positive\", \"Positive\", \"Positive\", \"Positive\", \"Positive\", \"Positive\", \"Positive\", \"Positive\", \"Positive\", \"Positive\", \"Positive\", \"Positive\", \"Positive\", \"Positive\", \"Positive\", \"Positive\", \"Positive\", \"Positive\", \"Positive\", \"Positive\", \"Positive\", \"Positive\", \"Positive\", \"Positive\", \"Positive\", \"Positive\", \"Positive\", \"Positive\", \"Positive\", \"Positive\", \"Positive\", \"Positive\", \"Positive\", \"Positive\", \"Positive\", \"Positive\", \"Positive\", \"Positive\", \"Positive\", \"Positive\", \"Positive\", \"Positive\", \"Positive\", \"Positive\", \"Positive\", \"Positive\", \"Positive\", \"Positive\", \"Positive\", \"Positive\", \"Positive\", \"Positive\", \"Positive\", \"Positive\", \"Positive\", \"Positive\", \"Positive\", \"Positive\", \"Positive\", \"Positive\", \"Positive\", \"Positive\", \"Positive\", \"Positive\", \"Positive\", \"Positive\", \"Positive\", \"Positive\", \"Positive\", \"Positive\", \"Positive\", \"Positive\", \"Positive\", \"Positive\", \"Positive\", \"Positive\", \"Positive\", \"Positive\", \"Positive\", \"Positive\", \"Positive\", \"Positive\", \"Positive\", \"Positive\", \"Positive\", \"Positive\", \"Positive\", \"Positive\", \"Positive\", \"Positive\", \"Positive\", \"Positive\", \"Positive\", \"Positive\", \"Positive\", \"Positive\", \"Positive\", \"Positive\", \"Positive\", \"Positive\", \"Positive\", \"Positive\", \"Positive\", \"Positive\", \"Positive\", \"Positive\", \"Positive\", \"Positive\", \"Positive\", \"Positive\", \"Positive\", \"Positive\", \"Positive\", \"Positive\", \"Positive\", \"Positive\", \"Positive\", \"Positive\", \"Positive\", \"Positive\", \"Positive\", \"Positive\", \"Positive\", \"Positive\", \"Positive\", \"Positive\", \"Positive\", \"Positive\", \"Positive\", \"Positive\", \"Positive\", \"Positive\", \"Positive\", \"Positive\", \"Positive\", \"Positive\", \"Positive\", \"Positive\", \"Positive\", \"Positive\", \"Positive\", \"Positive\", \"Positive\", \"Positive\", \"Positive\", \"Positive\", \"Positive\", \"Positive\", \"Positive\", \"Positive\", \"Positive\", \"Positive\", \"Positive\", \"Positive\", \"Positive\", \"Positive\", \"Positive\", \"Positive\", \"Positive\", \"Positive\", \"Positive\", \"Positive\", \"Positive\", \"Positive\", \"Positive\", \"Positive\", \"Positive\", \"Positive\", \"Positive\", \"Positive\", \"Positive\", \"Positive\", \"Positive\", \"Positive\", \"Positive\", \"Positive\", \"Positive\", \"Positive\", \"Positive\", \"Positive\", \"Positive\", \"Positive\", \"Positive\", \"Positive\", \"Positive\", \"Positive\", \"Positive\", \"Positive\", \"Positive\", \"Positive\", \"Positive\", \"Positive\", \"Positive\", \"Positive\", \"Positive\", \"Positive\", \"Positive\", \"Positive\", \"Positive\", \"Positive\", \"Positive\", \"Positive\", \"Positive\", \"Positive\", \"Positive\", \"Positive\", \"Positive\", \"Positive\", \"Positive\", \"Positive\", \"Positive\", \"Positive\", \"Positive\", \"Positive\", \"Positive\", \"Positive\", \"Positive\", \"Positive\", \"Positive\", \"Positive\", \"Positive\", \"Positive\", \"Positive\", \"Positive\", \"Positive\", \"Positive\", \"Positive\", \"Positive\", \"Positive\", \"Positive\", \"Positive\", \"Positive\", \"Positive\", \"Positive\", \"Positive\", \"Positive\", \"Positive\", \"Positive\", \"Positive\", \"Positive\", \"Positive\", \"Positive\", \"Positive\", \"Positive\", \"Positive\", \"Positive\", \"Positive\", \"Positive\", \"Positive\", \"Positive\", \"Positive\", \"Positive\", \"Positive\", \"Positive\", \"Positive\", \"Positive\", \"Positive\", \"Positive\", \"Positive\", \"Positive\", \"Positive\", \"Positive\", \"Positive\", \"Positive\", \"Positive\", \"Positive\", \"Positive\", \"Positive\", \"Positive\", \"Positive\", \"Positive\", \"Positive\", \"Positive\", \"Positive\", \"Positive\", \"Positive\", \"Positive\", \"Positive\", \"Positive\", \"Positive\", \"Positive\", \"Positive\", \"Positive\", \"Positive\", \"Positive\", \"Positive\", \"Positive\", \"Positive\", \"Positive\", \"Positive\", \"Positive\", \"Positive\", \"Positive\", \"Positive\", \"Positive\", \"Positive\", \"Positive\", \"Positive\", \"Positive\", \"Positive\", \"Positive\", \"Positive\", \"Positive\", \"Positive\", \"Positive\", \"Positive\", \"Positive\", \"Positive\", \"Positive\", \"Positive\", \"Positive\", \"Positive\", \"Positive\", \"Positive\", \"Positive\", \"Positive\", \"Positive\", \"Positive\", \"Positive\", \"Positive\", \"Positive\", \"Positive\", \"Positive\", \"Positive\", \"Positive\", \"Positive\", \"Positive\", \"Positive\", \"Positive\", \"Positive\", \"Positive\", \"Positive\", \"Positive\", \"Positive\", \"Positive\", \"Positive\", \"Positive\", \"Positive\", \"Positive\", \"Positive\", \"Positive\", \"Positive\", \"Positive\", \"Positive\", \"Positive\", \"Positive\", \"Positive\", \"Positive\", \"Positive\", \"Positive\", \"Positive\", \"Positive\", \"Positive\", \"Positive\", \"Positive\", \"Positive\", \"Positive\", \"Positive\", \"Positive\", \"Positive\", \"Positive\", \"Positive\", \"Positive\", \"Positive\", \"Positive\", \"Positive\", \"Positive\", \"Positive\", \"Positive\", \"Positive\", \"Positive\", \"Positive\", \"Positive\", \"Positive\", \"Positive\", \"Positive\", \"Positive\", \"Positive\", \"Positive\", \"Positive\", \"Positive\", \"Positive\", \"Positive\", \"Positive\", \"Positive\", \"Positive\", \"Positive\", \"Positive\", \"Positive\", \"Positive\", \"Positive\", \"Positive\", \"Positive\", \"Positive\", \"Positive\", \"Positive\", \"Positive\", \"Positive\", \"Positive\", \"Positive\", \"Positive\", \"Positive\", \"Positive\", \"Positive\", \"Positive\", \"Positive\", \"Positive\", \"Positive\", \"Positive\", \"Positive\", \"Positive\", \"Positive\", \"Positive\", \"Positive\", \"Positive\", \"Positive\", \"Positive\", \"Positive\", \"Positive\", \"Positive\", \"Positive\", \"Positive\", \"Positive\", \"Positive\", \"Positive\", \"Positive\", \"Positive\", \"Positive\", \"Positive\", \"Positive\", \"Positive\", \"Positive\", \"Positive\", \"Positive\", \"Positive\", \"Positive\", \"Positive\", \"Positive\", \"Positive\", \"Positive\", \"Positive\", \"Positive\", \"Positive\", \"Positive\", \"Positive\", \"Positive\", \"Positive\", \"Positive\", \"Positive\", \"Positive\", \"Positive\", \"Positive\", \"Positive\", \"Positive\", \"Positive\", \"Positive\", \"Positive\", \"Positive\", \"Positive\", \"Positive\", \"Positive\", \"Positive\", \"Positive\", \"Positive\", \"Positive\", \"Positive\", \"Positive\", \"Positive\", \"Positive\", \"Positive\", \"Positive\", \"Positive\", \"Positive\", \"Positive\", \"Positive\", \"Positive\", \"Positive\", \"Positive\", \"Positive\", \"Positive\", \"Positive\", \"Positive\", \"Positive\", \"Positive\", \"Positive\", \"Positive\", \"Positive\", \"Positive\", \"Positive\", \"Positive\", \"Positive\", \"Positive\", \"Positive\", \"Positive\", \"Positive\", \"Positive\", \"Positive\", \"Positive\", \"Positive\", \"Positive\", \"Positive\", \"Positive\", \"Positive\", \"Positive\", \"Positive\", \"Positive\", \"Positive\", \"Positive\", \"Positive\", \"Positive\", \"Positive\", \"Positive\", \"Positive\", \"Positive\", \"Positive\", \"Positive\", \"Positive\", \"Positive\", \"Positive\", \"Positive\", \"Positive\", \"Positive\", \"Positive\", \"Positive\", \"Positive\", \"Positive\", \"Positive\", \"Positive\", \"Positive\", \"Positive\", \"Positive\", \"Positive\", \"Positive\", \"Positive\", \"Positive\", \"Positive\", \"Positive\", \"Positive\", \"Positive\", \"Positive\", \"Positive\", \"Positive\", \"Positive\", \"Positive\", \"Positive\", \"Positive\", \"Positive\", \"Positive\", \"Positive\", \"Positive\", \"Positive\", \"Positive\", \"Positive\", \"Positive\", \"Positive\", \"Positive\", \"Positive\", \"Positive\", \"Positive\", \"Positive\", \"Positive\", \"Positive\", \"Positive\", \"Positive\", \"Positive\", \"Positive\", \"Positive\", \"Positive\", \"Positive\", \"Positive\", \"Positive\", \"Positive\", \"Positive\", \"Positive\", \"Positive\", \"Positive\", \"Positive\", \"Positive\", \"Positive\", \"Positive\", \"Positive\", \"Positive\", \"Positive\", \"Positive\", \"Positive\", \"Positive\", \"Positive\", \"Positive\", \"Positive\", \"Positive\", \"Positive\", \"Positive\", \"Positive\", \"Positive\", \"Positive\", \"Positive\", \"Positive\", \"Positive\", \"Positive\", \"Positive\", \"Positive\", \"Positive\", \"Positive\", \"Positive\", \"Positive\", \"Positive\", \"Positive\", \"Positive\", \"Positive\", \"Positive\", \"Positive\", \"Positive\", \"Positive\", \"Positive\", \"Positive\", \"Positive\", \"Positive\", \"Positive\", \"Positive\", \"Positive\", \"Positive\", \"Positive\", \"Positive\", \"Positive\", \"Positive\", \"Positive\", \"Positive\", \"Positive\", \"Positive\", \"Positive\", \"Positive\", \"Positive\", \"Positive\", \"Positive\", \"Positive\", \"Positive\", \"Positive\", \"Positive\", \"Positive\", \"Positive\", \"Positive\", \"Positive\", \"Positive\", \"Positive\", \"Positive\", \"Positive\", \"Positive\", \"Positive\", \"Positive\", \"Positive\", \"Positive\", \"Positive\", \"Positive\", \"Positive\", \"Positive\", \"Positive\", \"Positive\", \"Positive\", \"Positive\", \"Positive\", \"Positive\", \"Positive\", \"Positive\", \"Positive\", \"Positive\", \"Positive\", \"Positive\", \"Positive\", \"Positive\", \"Positive\", \"Positive\", \"Positive\", \"Positive\", \"Positive\", \"Positive\", \"Positive\", \"Positive\", \"Positive\", \"Positive\", \"Positive\", \"Positive\", \"Positive\", \"Positive\", \"Positive\", \"Positive\", \"Positive\", \"Positive\", \"Positive\", \"Positive\", \"Positive\", \"Positive\", \"Positive\", \"Positive\", \"Positive\", \"Positive\", \"Positive\", \"Positive\", \"Positive\", \"Positive\", \"Positive\", \"Positive\", \"Positive\", \"Positive\", \"Positive\", \"Positive\", \"Positive\", \"Positive\", \"Positive\", \"Positive\", \"Positive\", \"Positive\", \"Positive\", \"Positive\", \"Positive\", \"Positive\", \"Positive\", \"Positive\", \"Positive\", \"Positive\", \"Positive\", \"Positive\", \"Positive\", \"Positive\", \"Positive\", \"Positive\", \"Positive\", \"Positive\", \"Positive\", \"Positive\", \"Positive\", \"Positive\", \"Positive\", \"Positive\", \"Positive\", \"Positive\", \"Positive\", \"Positive\", \"Positive\", \"Positive\", \"Positive\", \"Positive\", \"Positive\", \"Positive\", \"Positive\", \"Positive\", \"Positive\", \"Positive\", \"Positive\", \"Positive\", \"Positive\", \"Positive\", \"Positive\", \"Positive\", \"Positive\", \"Positive\", \"Positive\", \"Positive\", \"Positive\", \"Positive\", \"Positive\", \"Positive\", \"Positive\", \"Positive\", \"Positive\", \"Positive\", \"Positive\", \"Positive\", \"Positive\", \"Positive\", \"Positive\", \"Positive\", \"Positive\", \"Positive\", \"Positive\", \"Positive\", \"Positive\", \"Positive\", \"Positive\", \"Positive\", \"Positive\", \"Positive\", \"Positive\", \"Positive\", \"Positive\", \"Positive\", \"Positive\", \"Positive\", \"Positive\", \"Positive\", \"Positive\", \"Positive\", \"Positive\", \"Positive\", \"Positive\", \"Positive\", \"Positive\", \"Positive\", \"Positive\", \"Positive\", \"Positive\", \"Positive\", \"Positive\", \"Positive\", \"Positive\", \"Positive\", \"Positive\", \"Positive\", \"Positive\", \"Positive\", \"Positive\", \"Positive\", \"Positive\", \"Positive\", \"Positive\", \"Positive\", \"Positive\", \"Positive\", \"Positive\", \"Positive\", \"Positive\", \"Positive\", \"Positive\", \"Positive\", \"Positive\", \"Positive\", \"Positive\", \"Positive\", \"Positive\", \"Positive\", \"Positive\", \"Positive\", \"Positive\", \"Positive\", \"Positive\", \"Positive\", \"Positive\", \"Positive\", \"Positive\", \"Positive\", \"Positive\", \"Positive\", \"Positive\", \"Positive\", \"Positive\", \"Positive\", \"Positive\", \"Positive\", \"Positive\", \"Positive\", \"Positive\", \"Positive\", \"Positive\", \"Positive\", \"Positive\", \"Positive\", \"Positive\", \"Positive\", \"Positive\", \"Positive\", \"Positive\", \"Positive\", \"Positive\", \"Positive\", \"Positive\", \"Positive\", \"Positive\", \"Positive\", \"Positive\", \"Positive\", \"Positive\", \"Positive\", \"Positive\", \"Positive\", \"Positive\", \"Positive\", \"Positive\", \"Positive\", \"Positive\", \"Positive\", \"Positive\", \"Positive\", \"Positive\", \"Positive\", \"Positive\", \"Positive\", \"Positive\", \"Positive\", \"Positive\", \"Positive\", \"Positive\", \"Positive\", \"Positive\", \"Positive\", \"Positive\", \"Positive\", \"Positive\", \"Positive\", \"Positive\", \"Positive\", \"Positive\", \"Positive\", \"Positive\", \"Positive\", \"Positive\", \"Positive\", \"Positive\", \"Positive\", \"Positive\", \"Positive\", \"Positive\", \"Positive\", \"Positive\", \"Positive\", \"Positive\", \"Positive\", \"Positive\", \"Positive\", \"Positive\", \"Positive\", \"Positive\", \"Positive\", \"Positive\", \"Positive\", \"Positive\", \"Positive\", \"Positive\", \"Positive\", \"Positive\", \"Positive\", \"Positive\", \"Positive\", \"Positive\", \"Positive\", \"Positive\", \"Positive\", \"Positive\", \"Positive\", \"Positive\", \"Positive\", \"Positive\", \"Positive\", \"Positive\", \"Positive\", \"Positive\", \"Positive\", \"Positive\", \"Positive\", \"Positive\", \"Positive\", \"Positive\", \"Positive\", \"Positive\", \"Positive\", \"Positive\", \"Positive\", \"Positive\", \"Positive\", \"Positive\", \"Positive\", \"Positive\", \"Positive\", \"Positive\", \"Positive\", \"Positive\", \"Positive\", \"Positive\", \"Positive\", \"Positive\", \"Positive\", \"Positive\", \"Positive\", \"Positive\", \"Positive\", \"Positive\", \"Positive\", \"Positive\", \"Positive\", \"Positive\", \"Positive\", \"Positive\", \"Positive\", \"Positive\", \"Positive\", \"Positive\", \"Positive\", \"Positive\", \"Positive\", \"Positive\", \"Positive\", \"Positive\", \"Positive\", \"Positive\", \"Positive\", \"Positive\", \"Positive\", \"Positive\", \"Positive\", \"Positive\", \"Positive\", \"Positive\", \"Positive\", \"Positive\", \"Positive\", \"Positive\", \"Positive\", \"Positive\", \"Positive\", \"Positive\", \"Positive\", \"Positive\", \"Positive\", \"Positive\", \"Positive\", \"Positive\", \"Positive\", \"Positive\", \"Positive\", \"Positive\", \"Positive\", \"Positive\", \"Positive\", \"Positive\", \"Positive\", \"Positive\", \"Positive\", \"Positive\", \"Positive\", \"Positive\", \"Positive\", \"Positive\", \"Positive\", \"Positive\", \"Positive\", \"Positive\", \"Positive\", \"Positive\", \"Positive\", \"Positive\", \"Positive\", \"Positive\", \"Positive\", \"Positive\", \"Positive\", \"Positive\", \"Positive\", \"Positive\", \"Positive\", \"Positive\", \"Positive\", \"Positive\", \"Positive\", \"Positive\", \"Positive\", \"Positive\", \"Positive\", \"Positive\", \"Positive\", \"Positive\", \"Positive\", \"Positive\", \"Positive\", \"Positive\", \"Positive\", \"Positive\", \"Positive\", \"Positive\", \"Positive\", \"Positive\", \"Positive\", \"Positive\", \"Positive\", \"Positive\", \"Positive\", \"Positive\", \"Positive\", \"Positive\", \"Positive\", \"Positive\", \"Positive\", \"Positive\", \"Positive\", \"Positive\", \"Positive\", \"Positive\", \"Positive\", \"Positive\", \"Positive\", \"Positive\", \"Positive\", \"Positive\", \"Positive\", \"Positive\", \"Positive\", \"Positive\", \"Positive\", \"Positive\", \"Positive\", \"Positive\", \"Positive\", \"Positive\", \"Positive\", \"Positive\", \"Positive\", \"Positive\", \"Positive\", \"Positive\", \"Positive\", \"Positive\", \"Positive\", \"Positive\", \"Positive\", \"Positive\", \"Positive\", \"Positive\", \"Positive\", \"Positive\", \"Positive\", \"Positive\", \"Positive\", \"Positive\", \"Positive\", \"Positive\", \"Positive\", \"Positive\", \"Positive\", \"Positive\", \"Positive\", \"Positive\", \"Positive\", \"Positive\", \"Positive\", \"Positive\", \"Positive\", \"Positive\", \"Positive\", \"Positive\", \"Positive\", \"Positive\", \"Positive\", \"Positive\", \"Positive\", \"Positive\", \"Positive\", \"Positive\", \"Positive\", \"Positive\", \"Positive\", \"Positive\", \"Positive\", \"Positive\", \"Positive\", \"Positive\", \"Positive\", \"Positive\", \"Positive\", \"Positive\", \"Positive\", \"Positive\", \"Positive\", \"Positive\", \"Positive\", \"Positive\", \"Positive\", \"Positive\", \"Positive\", \"Positive\", \"Positive\", \"Positive\", \"Positive\", \"Positive\", \"Positive\", \"Positive\", \"Positive\", \"Positive\", \"Positive\", \"Positive\", \"Positive\", \"Positive\", \"Positive\", \"Positive\", \"Positive\", \"Positive\", \"Positive\", \"Positive\", \"Positive\", \"Positive\", \"Positive\", \"Positive\", \"Positive\", \"Positive\", \"Positive\", \"Positive\", \"Positive\", \"Positive\", \"Positive\", \"Positive\", \"Positive\", \"Positive\", \"Positive\", \"Positive\", \"Positive\", \"Positive\", \"Positive\", \"Positive\", \"Positive\", \"Positive\", \"Positive\", \"Positive\", \"Positive\", \"Positive\", \"Positive\", \"Positive\", \"Positive\", \"Positive\", \"Positive\", \"Positive\", \"Positive\", \"Positive\", \"Positive\", \"Positive\", \"Positive\", \"Positive\", \"Positive\", \"Positive\", \"Positive\", \"Positive\", \"Positive\", \"Positive\", \"Positive\", \"Positive\", \"Positive\", \"Positive\", \"Positive\", \"Positive\", \"Positive\", \"Positive\", \"Positive\", \"Positive\", \"Positive\", \"Positive\", \"Positive\", \"Positive\", \"Positive\", \"Positive\", \"Positive\", \"Positive\", \"Positive\", \"Positive\", \"Positive\", \"Positive\", \"Positive\", \"Positive\", \"Positive\", \"Positive\", \"Positive\", \"Positive\", \"Positive\", \"Positive\", \"Positive\", \"Positive\", \"Positive\", \"Positive\", \"Positive\", \"Positive\", \"Positive\", \"Positive\", \"Positive\", \"Positive\", \"Positive\", \"Positive\", \"Positive\", \"Positive\", \"Positive\", \"Positive\", \"Positive\", \"Positive\", \"Positive\", \"Positive\", \"Positive\", \"Positive\", \"Positive\", \"Positive\", \"Positive\", \"Positive\", \"Positive\", \"Positive\", \"Positive\", \"Positive\", \"Positive\", \"Positive\", \"Positive\", \"Positive\", \"Positive\", \"Positive\", \"Positive\", \"Positive\", \"Positive\", \"Positive\", \"Positive\", \"Positive\", \"Positive\", \"Positive\", \"Positive\", \"Positive\", \"Positive\", \"Positive\", \"Positive\", \"Positive\", \"Positive\", \"Positive\", \"Positive\", \"Positive\", \"Positive\", \"Positive\", \"Positive\", \"Positive\", \"Positive\", \"Positive\", \"Positive\", \"Positive\", \"Positive\", \"Positive\", \"Positive\", \"Positive\", \"Positive\", \"Positive\", \"Positive\", \"Positive\", \"Positive\", \"Positive\", \"Positive\", \"Positive\", \"Positive\", \"Positive\", \"Positive\", \"Positive\", \"Positive\", \"Positive\", \"Positive\", \"Positive\", \"Positive\", \"Positive\", \"Positive\", \"Positive\", \"Positive\", \"Positive\", \"Positive\", \"Positive\", \"Positive\", \"Positive\", \"Positive\", \"Positive\", \"Positive\", \"Positive\", \"Positive\", \"Positive\", \"Positive\", \"Positive\", \"Positive\", \"Positive\", \"Positive\", \"Positive\", \"Positive\", \"Positive\", \"Positive\", \"Positive\", \"Positive\", \"Positive\", \"Positive\", \"Positive\", \"Positive\", \"Positive\", \"Positive\", \"Positive\", \"Positive\", \"Positive\", \"Positive\", \"Positive\", \"Positive\", \"Positive\", \"Positive\", \"Positive\", \"Positive\", \"Positive\", \"Positive\", \"Positive\", \"Positive\", \"Positive\", \"Positive\", \"Positive\", \"Positive\", \"Positive\", \"Positive\", \"Positive\", \"Positive\", \"Positive\", \"Positive\", \"Positive\", \"Positive\", \"Positive\", \"Positive\", \"Positive\", \"Positive\", \"Positive\", \"Positive\", \"Positive\", \"Positive\", \"Positive\", \"Positive\", \"Positive\", \"Positive\", \"Positive\", \"Positive\", \"Positive\", \"Positive\", \"Positive\", \"Positive\", \"Positive\", \"Positive\", \"Positive\", \"Positive\", \"Positive\", \"Positive\", \"Positive\", \"Positive\", \"Positive\", \"Positive\", \"Positive\", \"Positive\", \"Positive\", \"Positive\", \"Positive\", \"Positive\", \"Positive\", \"Positive\", \"Positive\", \"Positive\", \"Positive\", \"Positive\", \"Positive\", \"Positive\", \"Positive\", \"Positive\", \"Positive\", \"Positive\", \"Positive\", \"Positive\", \"Positive\", \"Positive\", \"Positive\", \"Positive\", \"Positive\", \"Positive\", \"Positive\", \"Positive\", \"Positive\", \"Positive\", \"Positive\", \"Positive\", \"Positive\", \"Positive\", \"Positive\", \"Positive\", \"Positive\", \"Positive\", \"Positive\", \"Positive\", \"Positive\", \"Positive\", \"Positive\", \"Positive\", \"Positive\", \"Positive\", \"Positive\", \"Positive\", \"Positive\", \"Positive\", \"Positive\", \"Positive\", \"Positive\", \"Positive\", \"Positive\", \"Positive\", \"Positive\", \"Positive\", \"Positive\", \"Positive\", \"Positive\", \"Positive\", \"Positive\", \"Positive\", \"Positive\", \"Positive\", \"Positive\", \"Positive\", \"Positive\", \"Positive\", \"Positive\", \"Positive\", \"Positive\", \"Positive\", \"Positive\", \"Positive\", \"Positive\", \"Positive\", \"Positive\", \"Positive\", \"Positive\", \"Positive\", \"Positive\", \"Positive\", \"Positive\", \"Positive\", \"Positive\", \"Positive\", \"Positive\", \"Positive\", \"Positive\", \"Positive\", \"Positive\", \"Positive\", \"Positive\", \"Positive\", \"Positive\", \"Positive\", \"Positive\", \"Positive\", \"Positive\", \"Positive\", \"Positive\", \"Positive\", \"Positive\", \"Positive\", \"Positive\", \"Positive\", \"Positive\", \"Positive\", \"Positive\", \"Positive\", \"Positive\", \"Positive\", \"Positive\", \"Positive\", \"Positive\", \"Positive\", \"Positive\", \"Positive\", \"Positive\", \"Positive\", \"Positive\", \"Positive\", \"Positive\", \"Positive\", \"Positive\", \"Positive\", \"Positive\", \"Positive\", \"Positive\", \"Positive\", \"Positive\", \"Positive\", \"Positive\", \"Positive\", \"Positive\", \"Positive\", \"Positive\", \"Positive\", \"Positive\", \"Positive\", \"Positive\", \"Positive\", \"Positive\", \"Positive\", \"Positive\", \"Positive\", \"Positive\", \"Positive\", \"Positive\", \"Positive\", \"Positive\", \"Positive\", \"Positive\", \"Positive\", \"Positive\", \"Positive\", \"Positive\", \"Positive\", \"Positive\", \"Positive\", \"Positive\", \"Positive\", \"Positive\", \"Positive\", \"Positive\", \"Positive\", \"Positive\", \"Positive\", \"Positive\", \"Positive\", \"Positive\", \"Positive\", \"Positive\", \"Positive\", \"Positive\", \"Positive\", \"Positive\", \"Positive\", \"Positive\", \"Positive\", \"Positive\", \"Positive\", \"Positive\", \"Positive\", \"Positive\", \"Positive\", \"Positive\", \"Positive\", \"Positive\", \"Positive\", \"Positive\", \"Positive\", \"Positive\", \"Positive\", \"Positive\", \"Positive\", \"Positive\", \"Positive\", \"Positive\", \"Positive\", \"Positive\", \"Positive\", \"Positive\", \"Positive\", \"Positive\", \"Positive\", \"Positive\", \"Positive\", \"Positive\", \"Positive\", \"Positive\", \"Positive\", \"Positive\", \"Positive\", \"Positive\", \"Positive\", \"Positive\", \"Positive\", \"Positive\", \"Positive\", \"Positive\", \"Positive\", \"Positive\", \"Positive\", \"Positive\", \"Positive\", \"Positive\", \"Positive\", \"Positive\", \"Positive\", \"Positive\", \"Positive\", \"Positive\", \"Positive\", \"Positive\", \"Positive\", \"Positive\", \"Positive\", \"Positive\", \"Positive\", \"Positive\", \"Positive\", \"Positive\", \"Positive\", \"Positive\", \"Positive\", \"Positive\", \"Positive\", \"Positive\", \"Positive\", \"Positive\", \"Positive\", \"Positive\", \"Positive\", \"Positive\", \"Positive\", \"Positive\", \"Positive\", \"Positive\", \"Positive\", \"Positive\", \"Positive\", \"Positive\", \"Positive\", \"Positive\", \"Positive\", \"Positive\", \"Positive\", \"Positive\", \"Positive\", \"Positive\", \"Positive\", \"Positive\", \"Positive\", \"Positive\", \"Positive\", \"Positive\", \"Positive\", \"Positive\", \"Positive\", \"Positive\", \"Positive\", \"Positive\", \"Positive\", \"Positive\", \"Positive\", \"Positive\", \"Positive\", \"Positive\", \"Positive\", \"Positive\", \"Positive\", \"Positive\", \"Positive\", \"Positive\", \"Positive\", \"Positive\", \"Positive\", \"Positive\", \"Positive\", \"Positive\", \"Positive\", \"Positive\", \"Positive\", \"Positive\", \"Positive\", \"Positive\", \"Positive\", \"Positive\", \"Positive\", \"Positive\", \"Positive\", \"Positive\", \"Positive\", \"Positive\", \"Positive\", \"Positive\", \"Positive\", \"Positive\", \"Positive\", \"Positive\", \"Positive\", \"Positive\", \"Positive\", \"Positive\", \"Positive\", \"Positive\", \"Positive\", \"Positive\", \"Positive\", \"Positive\", \"Positive\", \"Positive\", \"Positive\", \"Positive\", \"Positive\", \"Positive\", \"Positive\", \"Positive\", \"Positive\", \"Positive\", \"Positive\", \"Positive\", \"Positive\", \"Positive\", \"Positive\", \"Positive\", \"Positive\", \"Positive\", \"Positive\", \"Positive\", \"Positive\", \"Positive\", \"Positive\", \"Positive\", \"Positive\", \"Positive\", \"Positive\", \"Positive\", \"Positive\", \"Positive\", \"Positive\", \"Positive\", \"Positive\", \"Positive\", \"Positive\", \"Positive\", \"Positive\", \"Positive\", \"Positive\", \"Positive\", \"Positive\", \"Positive\", \"Positive\", \"Positive\", \"Positive\", \"Positive\", \"Positive\", \"Positive\", \"Positive\", \"Positive\", \"Positive\", \"Positive\", \"Positive\", \"Positive\", \"Positive\", \"Positive\", \"Positive\", \"Positive\", \"Positive\", \"Positive\", \"Positive\", \"Positive\", \"Positive\", \"Positive\", \"Positive\", \"Positive\", \"Positive\", \"Positive\", \"Positive\", \"Positive\", \"Positive\", \"Positive\", \"Positive\", \"Positive\", \"Positive\", \"Positive\", \"Positive\", \"Positive\", \"Positive\", \"Positive\", \"Positive\", \"Positive\", \"Positive\", \"Positive\", \"Positive\", \"Positive\", \"Positive\", \"Positive\", \"Positive\", \"Positive\", \"Positive\", \"Positive\", \"Positive\", \"Positive\", \"Positive\", \"Positive\", \"Positive\", \"Positive\", \"Positive\", \"Positive\", \"Positive\", \"Positive\", \"Positive\", \"Positive\", \"Positive\", \"Positive\", \"Positive\", \"Positive\", \"Positive\", \"Positive\", \"Positive\", \"Positive\", \"Positive\", \"Positive\", \"Positive\", \"Positive\", \"Positive\", \"Positive\", \"Positive\", \"Positive\", \"Positive\", \"Positive\", \"Positive\", \"Positive\", \"Positive\", \"Positive\", \"Positive\", \"Positive\", \"Positive\", \"Positive\", \"Positive\", \"Positive\", \"Positive\", \"Positive\", \"Positive\", \"Positive\", \"Positive\", \"Positive\", \"Positive\", \"Positive\", \"Positive\", \"Positive\", \"Positive\", \"Positive\", \"Positive\", \"Positive\", \"Positive\", \"Positive\", \"Positive\", \"Positive\", \"Positive\", \"Positive\", \"Positive\", \"Positive\", \"Positive\", \"Positive\", \"Positive\", \"Positive\", \"Positive\", \"Positive\", \"Positive\", \"Positive\", \"Positive\", \"Positive\", \"Positive\", \"Positive\", \"Positive\", \"Positive\", \"Positive\", \"Positive\", \"Positive\", \"Positive\", \"Positive\", \"Positive\", \"Positive\", \"Positive\", \"Positive\", \"Positive\", \"Positive\", \"Positive\", \"Positive\", \"Positive\", \"Positive\", \"Positive\", \"Positive\", \"Positive\", \"Positive\", \"Positive\", \"Positive\", \"Positive\", \"Positive\", \"Positive\", \"Positive\", \"Positive\", \"Positive\", \"Positive\", \"Positive\", \"Positive\", \"Positive\", \"Positive\", \"Positive\", \"Positive\", \"Positive\", \"Positive\", \"Positive\", \"Positive\", \"Positive\", \"Positive\", \"Positive\", \"Positive\", \"Positive\", \"Positive\", \"Positive\", \"Positive\", \"Positive\", \"Positive\", \"Positive\", \"Positive\", \"Positive\", \"Positive\", \"Positive\", \"Positive\", \"Positive\", \"Positive\", \"Positive\", \"Positive\", \"Positive\", \"Positive\", \"Positive\", \"Positive\", \"Positive\", \"Positive\", \"Positive\", \"Positive\", \"Positive\", \"Positive\", \"Positive\", \"Positive\", \"Positive\", \"Positive\", \"Positive\", \"Positive\", \"Positive\", \"Positive\", \"Positive\", \"Positive\", \"Positive\", \"Positive\", \"Positive\", \"Positive\", \"Positive\", \"Positive\", \"Positive\", \"Positive\", \"Positive\", \"Positive\", \"Positive\", \"Positive\", \"Positive\", \"Positive\", \"Positive\", \"Positive\", \"Positive\", \"Positive\", \"Positive\", \"Positive\", \"Positive\", \"Positive\", \"Positive\", \"Positive\", \"Positive\", \"Positive\", \"Positive\", \"Positive\", \"Positive\", \"Positive\", \"Positive\", \"Positive\", \"Positive\", \"Positive\", \"Positive\", \"Positive\", \"Positive\", \"Positive\", \"Positive\", \"Positive\", \"Positive\", \"Positive\", \"Positive\", \"Positive\", \"Positive\", \"Positive\", \"Positive\", \"Positive\", \"Positive\", \"Positive\", \"Positive\", \"Positive\", \"Positive\", \"Positive\", \"Positive\", \"Positive\", \"Positive\", \"Positive\", \"Positive\", \"Positive\", \"Positive\", \"Positive\", \"Positive\", \"Positive\", \"Positive\", \"Positive\", \"Positive\", \"Positive\", \"Positive\", \"Positive\", \"Positive\", \"Positive\", \"Positive\", \"Positive\", \"Positive\", \"Positive\", \"Positive\", \"Positive\", \"Positive\", \"Positive\", \"Positive\", \"Positive\", \"Positive\", \"Positive\", \"Positive\", \"Positive\", \"Positive\", \"Positive\", \"Positive\", \"Positive\", \"Positive\", \"Positive\", \"Positive\", \"Positive\", \"Positive\", \"Positive\", \"Positive\", \"Positive\", \"Positive\", \"Positive\", \"Positive\", \"Positive\", \"Positive\", \"Positive\", \"Positive\", \"Positive\", \"Positive\", \"Positive\", \"Positive\", \"Positive\", \"Positive\", \"Positive\", \"Positive\", \"Positive\", \"Positive\", \"Positive\", \"Positive\", \"Positive\", \"Positive\", \"Positive\", \"Positive\", \"Positive\", \"Positive\", \"Positive\", \"Positive\", \"Positive\", \"Positive\", \"Positive\", \"Positive\", \"Positive\", \"Positive\", \"Positive\", \"Positive\", \"Positive\", \"Positive\", \"Positive\", \"Positive\", \"Positive\", \"Positive\", \"Positive\", \"Positive\", \"Positive\", \"Positive\", \"Positive\", \"Positive\", \"Positive\", \"Positive\", \"Positive\", \"Positive\", \"Positive\", \"Positive\", \"Positive\", \"Positive\", \"Positive\", \"Positive\", \"Positive\", \"Positive\", \"Positive\", \"Positive\", \"Positive\", \"Positive\", \"Positive\", \"Positive\", \"Positive\", \"Positive\", \"Positive\", \"Positive\", \"Positive\", \"Positive\", \"Positive\", \"Positive\", \"Positive\", \"Positive\", \"Positive\", \"Positive\", \"Positive\", \"Positive\", \"Positive\", \"Positive\", \"Positive\", \"Positive\", \"Positive\", \"Positive\", \"Positive\", \"Positive\", \"Positive\", \"Positive\", \"Positive\", \"Positive\", \"Positive\", \"Positive\", \"Positive\", \"Positive\", \"Positive\", \"Positive\", \"Positive\", \"Positive\", \"Positive\", \"Positive\", \"Positive\", \"Positive\", \"Positive\", \"Positive\", \"Positive\", \"Positive\", \"Positive\", \"Positive\", \"Positive\", \"Positive\", \"Positive\", \"Positive\", \"Positive\", \"Positive\", \"Positive\", \"Positive\", \"Positive\", \"Positive\", \"Positive\", \"Positive\", \"Positive\", \"Positive\", \"Positive\", \"Positive\", \"Positive\", \"Positive\", \"Positive\", \"Positive\", \"Positive\", \"Positive\", \"Positive\", \"Positive\", \"Positive\", \"Positive\", \"Positive\", \"Positive\", \"Positive\", \"Positive\", \"Positive\", \"Positive\", \"Positive\", \"Positive\", \"Positive\", \"Positive\", \"Positive\", \"Positive\", \"Positive\", \"Positive\", \"Positive\", \"Positive\", \"Positive\", \"Positive\", \"Positive\", \"Positive\", \"Positive\", \"Positive\", \"Positive\", \"Positive\", \"Positive\", \"Positive\", \"Positive\", \"Positive\", \"Positive\", \"Positive\", \"Positive\", \"Positive\", \"Positive\", \"Positive\", \"Positive\", \"Positive\", \"Positive\", \"Positive\", \"Positive\", \"Positive\", \"Positive\", \"Positive\", \"Positive\", \"Positive\", \"Positive\", \"Positive\", \"Positive\", \"Positive\", \"Positive\", \"Positive\", \"Positive\", \"Positive\", \"Positive\", \"Positive\", \"Positive\", \"Positive\", \"Positive\", \"Positive\", \"Positive\", \"Positive\", \"Positive\", \"Positive\", \"Positive\", \"Positive\", \"Positive\", \"Positive\", \"Positive\", \"Positive\", \"Positive\", \"Positive\", \"Positive\", \"Positive\", \"Positive\", \"Positive\", \"Positive\", \"Positive\", \"Positive\", \"Positive\", \"Positive\", \"Positive\", \"Positive\", \"Positive\", \"Positive\", \"Positive\", \"Positive\", \"Positive\", \"Positive\", \"Positive\", \"Positive\", \"Positive\", \"Positive\", \"Positive\", \"Positive\", \"Positive\", \"Positive\", \"Positive\", \"Positive\", \"Positive\", \"Positive\", \"Positive\", \"Positive\", \"Positive\", \"Positive\", \"Positive\", \"Positive\", \"Positive\", \"Positive\", \"Positive\", \"Positive\", \"Positive\", \"Positive\", \"Positive\", \"Positive\", \"Positive\", \"Positive\", \"Positive\", \"Positive\", \"Positive\", \"Positive\", \"Positive\", \"Positive\", \"Positive\", \"Positive\", \"Positive\", \"Positive\", \"Positive\", \"Positive\", \"Positive\", \"Positive\", \"Positive\", \"Positive\", \"Positive\", \"Positive\", \"Positive\", \"Positive\", \"Positive\", \"Positive\", \"Positive\", \"Positive\", \"Positive\", \"Positive\", \"Positive\", \"Positive\", \"Positive\", \"Positive\", \"Positive\", \"Positive\", \"Positive\", \"Positive\", \"Positive\", \"Positive\", \"Positive\", \"Positive\", \"Positive\", \"Positive\", \"Positive\", \"Positive\", \"Positive\", \"Positive\", \"Positive\", \"Positive\", \"Positive\", \"Positive\", \"Positive\", \"Positive\", \"Positive\", \"Positive\", \"Positive\", \"Positive\", \"Positive\", \"Positive\", \"Positive\", \"Positive\", \"Positive\", \"Positive\", \"Positive\", \"Positive\", \"Positive\", \"Positive\", \"Positive\", \"Positive\", \"Positive\", \"Positive\", \"Positive\", \"Positive\", \"Positive\", \"Positive\", \"Positive\", \"Positive\", \"Positive\", \"Positive\", \"Positive\", \"Positive\", \"Positive\", \"Positive\", \"Positive\", \"Positive\", \"Positive\", \"Positive\", \"Positive\", \"Positive\", \"Positive\", \"Positive\", \"Positive\", \"Positive\", \"Positive\", \"Positive\", \"Positive\", \"Positive\", \"Positive\", \"Positive\", \"Positive\", \"Positive\", \"Positive\", \"Positive\", \"Positive\", \"Positive\", \"Positive\", \"Positive\", \"Positive\", \"Positive\", \"Positive\", \"Positive\", \"Positive\", \"Positive\", \"Positive\", \"Positive\", \"Positive\", \"Positive\", \"Positive\", \"Positive\", \"Positive\", \"Positive\", \"Positive\", \"Positive\", \"Positive\", \"Positive\", \"Positive\", \"Positive\", \"Positive\", \"Positive\", \"Positive\", \"Positive\", \"Positive\", \"Positive\", \"Positive\", \"Positive\", \"Positive\", \"Positive\", \"Positive\", \"Positive\", \"Positive\", \"Positive\", \"Positive\", \"Positive\", \"Positive\", \"Positive\", \"Positive\", \"Positive\", \"Positive\", \"Positive\", \"Positive\", \"Positive\", \"Positive\", \"Positive\", \"Positive\", \"Positive\", \"Positive\", \"Positive\", \"Positive\", \"Positive\", \"Positive\", \"Positive\", \"Positive\", \"Positive\", \"Positive\", \"Positive\", \"Positive\", \"Positive\", \"Positive\", \"Positive\", \"Positive\", \"Positive\", \"Positive\", \"Positive\", \"Positive\", \"Positive\", \"Positive\", \"Positive\", \"Positive\", \"Positive\", \"Positive\", \"Positive\", \"Positive\", \"Positive\", \"Positive\", \"Positive\", \"Positive\", \"Positive\", \"Positive\", \"Positive\", \"Positive\", \"Positive\", \"Positive\", \"Positive\", \"Positive\", \"Positive\", \"Positive\", \"Positive\", \"Positive\", \"Positive\", \"Positive\", \"Positive\", \"Positive\", \"Positive\", \"Positive\", \"Positive\", \"Positive\", \"Positive\", \"Positive\", \"Positive\", \"Positive\", \"Positive\", \"Positive\", \"Positive\", \"Positive\", \"Positive\", \"Positive\", \"Positive\", \"Positive\", \"Positive\", \"Positive\", \"Positive\", \"Positive\", \"Positive\", \"Positive\", \"Positive\", \"Positive\", \"Positive\", \"Positive\", \"Positive\", \"Positive\", \"Positive\", \"Positive\", \"Positive\", \"Positive\", \"Positive\", \"Positive\", \"Positive\", \"Positive\", \"Positive\", \"Positive\", \"Positive\", \"Positive\", \"Positive\", \"Positive\", \"Positive\", \"Positive\", \"Positive\", \"Positive\", \"Positive\", \"Positive\", \"Positive\", \"Positive\", \"Positive\", \"Positive\", \"Positive\", \"Positive\", \"Positive\", \"Positive\", \"Positive\", \"Positive\", \"Positive\", \"Positive\", \"Positive\", \"Positive\", \"Positive\", \"Positive\", \"Positive\", \"Positive\", \"Positive\", \"Positive\", \"Positive\", \"Positive\", \"Positive\", \"Positive\", \"Positive\", \"Positive\", \"Positive\", \"Positive\", \"Positive\", \"Positive\", \"Positive\", \"Positive\", \"Positive\", \"Positive\", \"Positive\", \"Positive\", \"Positive\", \"Positive\", \"Positive\", \"Positive\", \"Positive\", \"Positive\", \"Positive\", \"Positive\", \"Positive\", \"Positive\", \"Positive\", \"Positive\", \"Positive\", \"Positive\", \"Positive\", \"Positive\", \"Positive\", \"Positive\", \"Positive\", \"Positive\", \"Positive\", \"Positive\", \"Positive\", \"Positive\", \"Positive\", \"Positive\", \"Positive\", \"Positive\", \"Positive\", \"Positive\", \"Positive\", \"Positive\", \"Positive\", \"Positive\", \"Positive\", \"Positive\", \"Positive\", \"Positive\", \"Positive\", \"Positive\", \"Positive\", \"Positive\", \"Positive\", \"Positive\", \"Positive\", \"Positive\", \"Positive\", \"Positive\", \"Positive\", \"Positive\", \"Positive\", \"Positive\", \"Positive\", \"Positive\", \"Positive\", \"Positive\", \"Positive\", \"Positive\", \"Positive\", \"Positive\", \"Positive\", \"Positive\", \"Positive\", \"Positive\", \"Positive\", \"Positive\", \"Positive\", \"Positive\", \"Positive\", \"Positive\", \"Positive\", \"Positive\", \"Positive\", \"Positive\", \"Positive\", \"Positive\", \"Positive\", \"Positive\", \"Positive\", \"Positive\", \"Positive\", \"Positive\", \"Positive\", \"Positive\", \"Positive\", \"Positive\", \"Positive\", \"Positive\", \"Positive\", \"Positive\", \"Positive\", \"Positive\", \"Positive\", \"Positive\", \"Positive\", \"Positive\", \"Positive\", \"Positive\", \"Positive\", \"Positive\", \"Positive\", \"Positive\", \"Positive\", \"Positive\", \"Positive\", \"Positive\", \"Positive\", \"Positive\", \"Positive\", \"Positive\", \"Positive\", \"Positive\", \"Positive\", \"Positive\", \"Positive\", \"Positive\", \"Positive\", \"Positive\", \"Positive\", \"Positive\", \"Positive\", \"Positive\", \"Positive\", \"Positive\", \"Positive\", \"Positive\", \"Positive\", \"Positive\", \"Positive\", \"Positive\", \"Positive\", \"Positive\", \"Positive\", \"Positive\", \"Positive\", \"Positive\", \"Positive\", \"Positive\", \"Positive\", \"Positive\", \"Positive\", \"Positive\", \"Positive\", \"Positive\", \"Positive\", \"Positive\", \"Positive\", \"Positive\", \"Positive\", \"Positive\", \"Positive\", \"Positive\", \"Positive\", \"Positive\", \"Positive\", \"Positive\", \"Positive\", \"Positive\", \"Positive\", \"Positive\", \"Positive\", \"Positive\", \"Positive\", \"Positive\", \"Positive\", \"Positive\", \"Positive\", \"Positive\", \"Positive\", \"Positive\", \"Positive\", \"Positive\", \"Positive\", \"Positive\", \"Positive\", \"Positive\", \"Positive\", \"Positive\", \"Positive\", \"Positive\", \"Positive\", \"Positive\", \"Positive\", \"Positive\", \"Positive\", \"Positive\", \"Positive\", \"Positive\", \"Positive\", \"Positive\", \"Positive\", \"Positive\", \"Positive\", \"Positive\", \"Positive\", \"Positive\", \"Positive\", \"Positive\", \"Positive\", \"Positive\", \"Positive\", \"Positive\", \"Positive\", \"Positive\", \"Positive\", \"Positive\", \"Positive\", \"Positive\", \"Positive\", \"Positive\", \"Positive\", \"Positive\", \"Positive\", \"Positive\", \"Positive\", \"Positive\", \"Positive\", \"Positive\", \"Positive\", \"Positive\", \"Positive\", \"Positive\", \"Positive\", \"Positive\", \"Positive\", \"Positive\", \"Positive\", \"Positive\", \"Positive\", \"Positive\", \"Positive\", \"Positive\", \"Positive\", \"Positive\", \"Positive\", \"Positive\", \"Positive\", \"Positive\", \"Positive\", \"Positive\", \"Positive\", \"Positive\", \"Positive\", \"Positive\", \"Positive\", \"Positive\", \"Positive\", \"Positive\", \"Positive\", \"Positive\", \"Positive\", \"Positive\", \"Positive\", \"Positive\", \"Positive\", \"Positive\", \"Positive\", \"Positive\", \"Positive\", \"Positive\", \"Positive\", \"Positive\", \"Positive\", \"Positive\", \"Positive\", \"Positive\", \"Positive\", \"Positive\", \"Positive\", \"Positive\", \"Positive\", \"Positive\", \"Positive\", \"Positive\", \"Positive\", \"Positive\", \"Positive\", \"Positive\", \"Positive\", \"Positive\", \"Positive\", \"Positive\", \"Positive\", \"Positive\", \"Positive\", \"Positive\", \"Positive\", \"Positive\", \"Positive\", \"Positive\", \"Positive\", \"Positive\", \"Positive\", \"Positive\", \"Positive\", \"Positive\", \"Positive\", \"Positive\", \"Positive\", \"Positive\", \"Positive\", \"Positive\", \"Positive\", \"Positive\", \"Positive\", \"Positive\", \"Positive\", \"Positive\", \"Positive\", \"Positive\", \"Positive\", \"Positive\", \"Positive\", \"Positive\", \"Positive\", \"Positive\", \"Positive\", \"Positive\", \"Positive\", \"Positive\", \"Positive\", \"Positive\", \"Positive\", \"Positive\", \"Positive\", \"Positive\", \"Positive\", \"Positive\", \"Positive\", \"Positive\", \"Positive\", \"Positive\", \"Positive\", \"Positive\", \"Positive\", \"Positive\", \"Positive\", \"Positive\", \"Positive\", \"Positive\", \"Positive\", \"Positive\", \"Positive\", \"Positive\", \"Positive\", \"Positive\", \"Positive\", \"Positive\", \"Positive\", \"Positive\", \"Positive\", \"Positive\", \"Positive\", \"Positive\", \"Positive\", \"Positive\", \"Positive\", \"Positive\", \"Positive\", \"Positive\", \"Positive\", \"Positive\", \"Positive\", \"Positive\", \"Positive\", \"Positive\", \"Positive\", \"Positive\", \"Positive\", \"Positive\", \"Positive\", \"Positive\", \"Positive\", \"Positive\", \"Positive\", \"Positive\", \"Positive\", \"Positive\", \"Positive\", \"Positive\", \"Positive\", \"Positive\", \"Positive\", \"Positive\", \"Positive\", \"Positive\", \"Positive\", \"Positive\", \"Positive\", \"Positive\", \"Positive\", \"Positive\", \"Positive\", \"Positive\", \"Positive\", \"Positive\", \"Positive\", \"Positive\", \"Positive\", \"Positive\", \"Positive\", \"Positive\", \"Positive\", \"Positive\", \"Positive\", \"Positive\", \"Positive\", \"Positive\", \"Positive\", \"Positive\", \"Positive\", \"Positive\", \"Positive\", \"Positive\", \"Positive\", \"Positive\", \"Positive\", \"Positive\", \"Positive\", \"Positive\", \"Positive\", \"Positive\", \"Positive\", \"Positive\", \"Positive\", \"Positive\", \"Positive\", \"Positive\", \"Positive\", \"Positive\", \"Positive\", \"Positive\", \"Positive\", \"Positive\", \"Positive\", \"Positive\", \"Positive\", \"Positive\", \"Positive\", \"Positive\", \"Positive\", \"Positive\", \"Positive\", \"Positive\", \"Positive\", \"Positive\", \"Positive\", \"Positive\", \"Positive\", \"Positive\", \"Positive\", \"Positive\", \"Positive\", \"Positive\", \"Positive\", \"Positive\", \"Positive\", \"Positive\", \"Positive\", \"Positive\", \"Positive\", \"Positive\", \"Positive\", \"Positive\", \"Positive\", \"Positive\", \"Positive\", \"Positive\", \"Positive\", \"Positive\", \"Positive\", \"Positive\", \"Positive\", \"Positive\", \"Positive\", \"Positive\", \"Positive\", \"Positive\", \"Positive\", \"Positive\", \"Positive\", \"Positive\", \"Positive\", \"Positive\", \"Positive\", \"Positive\", \"Positive\", \"Positive\", \"Positive\", \"Positive\", \"Positive\", \"Positive\", \"Positive\", \"Positive\", \"Positive\", \"Positive\", \"Positive\", \"Positive\", \"Positive\", \"Positive\", \"Positive\", \"Positive\", \"Positive\", \"Positive\", \"Positive\", \"Positive\", \"Positive\", \"Positive\", \"Positive\", \"Positive\", \"Positive\", \"Positive\", \"Positive\", \"Positive\", \"Positive\", \"Positive\", \"Positive\", \"Positive\", \"Positive\", \"Positive\", \"Positive\", \"Positive\", \"Positive\", \"Positive\", \"Positive\", \"Positive\", \"Positive\", \"Positive\", \"Positive\", \"Positive\", \"Positive\", \"Positive\", \"Positive\", \"Positive\", \"Positive\", \"Positive\", \"Positive\", \"Positive\", \"Positive\", \"Positive\", \"Positive\", \"Positive\", \"Positive\", \"Positive\", \"Positive\", \"Positive\", \"Positive\", \"Positive\", \"Positive\", \"Positive\", \"Positive\", \"Positive\", \"Positive\", \"Positive\", \"Positive\", \"Positive\", \"Positive\", \"Positive\", \"Positive\", \"Positive\", \"Positive\", \"Positive\", \"Positive\", \"Positive\", \"Positive\", \"Positive\", \"Positive\", \"Positive\", \"Positive\", \"Positive\", \"Positive\", \"Positive\", \"Positive\", \"Positive\", \"Positive\", \"Positive\", \"Positive\", \"Positive\", \"Positive\", \"Positive\", \"Positive\", \"Positive\", \"Positive\", \"Positive\", \"Positive\", \"Positive\", \"Positive\", \"Positive\", \"Positive\", \"Positive\", \"Positive\", \"Positive\", \"Positive\", \"Positive\", \"Positive\", \"Positive\", \"Positive\", \"Positive\", \"Positive\", \"Positive\", \"Positive\", \"Positive\", \"Positive\", \"Positive\", \"Positive\", \"Positive\", \"Positive\", \"Positive\", \"Positive\", \"Positive\", \"Positive\", \"Positive\", \"Positive\", \"Positive\", \"Positive\", \"Positive\", \"Positive\", \"Positive\", \"Positive\", \"Positive\", \"Positive\", \"Positive\", \"Positive\", \"Positive\", \"Positive\", \"Positive\", \"Positive\", \"Positive\", \"Positive\", \"Positive\", \"Positive\", \"Positive\", \"Positive\", \"Positive\", \"Positive\", \"Positive\", \"Positive\", \"Positive\", \"Positive\", \"Positive\", \"Positive\", \"Positive\", \"Positive\", \"Positive\", \"Positive\", \"Positive\", \"Positive\", \"Positive\", \"Positive\", \"Positive\", \"Positive\", \"Positive\", \"Positive\", \"Positive\", \"Positive\", \"Positive\", \"Positive\", \"Positive\", \"Positive\", \"Positive\", \"Positive\", \"Positive\", \"Positive\", \"Positive\", \"Positive\", \"Positive\", \"Positive\", \"Positive\", \"Positive\", \"Positive\", \"Positive\", \"Positive\", \"Positive\", \"Positive\", \"Positive\", \"Positive\", \"Positive\", \"Positive\", \"Positive\", \"Positive\", \"Positive\", \"Positive\", \"Positive\", \"Positive\", \"Positive\", \"Positive\", \"Positive\", \"Positive\", \"Positive\", \"Positive\", \"Positive\", \"Positive\", \"Positive\", \"Positive\", \"Positive\", \"Positive\", \"Positive\", \"Positive\", \"Positive\", \"Positive\", \"Positive\", \"Positive\", \"Positive\", \"Positive\", \"Positive\", \"Positive\", \"Positive\", \"Positive\", \"Positive\", \"Positive\", \"Positive\", \"Positive\", \"Positive\", \"Positive\", \"Positive\", \"Positive\", \"Positive\", \"Positive\", \"Positive\", \"Positive\", \"Positive\", \"Positive\", \"Positive\", \"Positive\", \"Positive\", \"Positive\", \"Positive\", \"Positive\", \"Positive\", \"Positive\", \"Positive\", \"Positive\", \"Positive\", \"Positive\", \"Positive\", \"Positive\", \"Positive\", \"Positive\", \"Positive\", \"Positive\", \"Positive\", \"Positive\", \"Positive\", \"Positive\", \"Positive\", \"Positive\", \"Positive\", \"Positive\", \"Positive\", \"Positive\", \"Positive\", \"Positive\", \"Positive\", \"Positive\", \"Positive\", \"Positive\", \"Positive\", \"Positive\", \"Positive\", \"Positive\", \"Positive\", \"Positive\", \"Positive\", \"Positive\", \"Positive\", \"Positive\", \"Positive\", \"Positive\", \"Positive\", \"Positive\", \"Positive\", \"Positive\", \"Positive\", \"Positive\", \"Positive\", \"Positive\", \"Positive\", \"Positive\", \"Positive\", \"Positive\", \"Positive\", \"Positive\", \"Positive\", \"Positive\", \"Positive\", \"Positive\", \"Positive\", \"Positive\", \"Positive\", \"Positive\", \"Positive\", \"Positive\", \"Positive\", \"Positive\", \"Positive\", \"Positive\", \"Positive\", \"Positive\", \"Positive\", \"Positive\", \"Positive\", \"Positive\", \"Positive\", \"Positive\", \"Positive\", \"Positive\", \"Positive\", \"Positive\", \"Positive\", \"Positive\", \"Positive\", \"Positive\", \"Positive\", \"Positive\", \"Positive\", \"Positive\", \"Positive\", \"Positive\", \"Positive\", \"Positive\", \"Positive\", \"Positive\", \"Positive\", \"Positive\", \"Positive\", \"Positive\", \"Positive\", \"Positive\", \"Positive\", \"Positive\", \"Positive\", \"Positive\", \"Positive\", \"Positive\", \"Positive\", \"Positive\", \"Positive\", \"Positive\", \"Positive\", \"Positive\", \"Positive\", \"Positive\", \"Positive\", \"Positive\", \"Positive\", \"Positive\", \"Positive\", \"Positive\", \"Positive\", \"Positive\", \"Positive\", \"Positive\", \"Positive\", \"Positive\", \"Positive\", \"Positive\", \"Positive\", \"Positive\", \"Positive\", \"Positive\", \"Positive\", \"Positive\", \"Positive\", \"Positive\", \"Positive\", \"Positive\", \"Positive\", \"Positive\", \"Positive\", \"Positive\", \"Positive\", \"Positive\", \"Positive\", \"Positive\", \"Positive\", \"Positive\", \"Positive\", \"Positive\", \"Positive\", \"Positive\", \"Positive\", \"Positive\", \"Positive\", \"Positive\", \"Positive\", \"Positive\", \"Positive\", \"Positive\", \"Positive\", \"Positive\", \"Positive\", \"Positive\", \"Positive\", \"Positive\", \"Positive\", \"Positive\", \"Positive\", \"Positive\", \"Positive\", \"Positive\", \"Positive\", \"Positive\", \"Positive\", \"Positive\", \"Positive\", \"Positive\", \"Positive\", \"Positive\", \"Positive\", \"Positive\", \"Positive\", \"Positive\", \"Positive\", \"Positive\", \"Positive\", \"Positive\", \"Positive\", \"Positive\", \"Positive\", \"Positive\", \"Positive\", \"Positive\", \"Positive\", \"Positive\", \"Positive\", \"Positive\", \"Positive\", \"Positive\", \"Positive\", \"Positive\", \"Positive\", \"Positive\", \"Positive\", \"Positive\", \"Positive\", \"Positive\", \"Positive\", \"Positive\", \"Positive\", \"Positive\", \"Positive\", \"Positive\", \"Positive\", \"Positive\", \"Positive\", \"Positive\", \"Positive\", \"Positive\", \"Positive\", \"Positive\", \"Positive\", \"Positive\", \"Positive\", \"Positive\", \"Positive\", \"Positive\", \"Positive\", \"Positive\", \"Positive\", \"Positive\", \"Positive\", \"Positive\", \"Positive\", \"Positive\", \"Positive\", \"Positive\", \"Positive\", \"Positive\", \"Positive\", \"Positive\", \"Positive\", \"Positive\", \"Positive\", \"Positive\", \"Positive\", \"Positive\", \"Positive\", \"Positive\", \"Positive\", \"Positive\", \"Positive\", \"Positive\", \"Positive\", \"Positive\", \"Positive\", \"Positive\", \"Positive\", \"Positive\", \"Positive\", \"Positive\", \"Positive\", \"Positive\", \"Positive\", \"Positive\", \"Positive\", \"Positive\", \"Positive\", \"Positive\", \"Positive\", \"Positive\", \"Positive\", \"Positive\", \"Positive\", \"Positive\", \"Positive\", \"Positive\", \"Positive\", \"Positive\", \"Positive\", \"Positive\", \"Positive\", \"Positive\", \"Positive\", \"Positive\", \"Positive\", \"Positive\", \"Positive\", \"Positive\", \"Positive\", \"Positive\", \"Positive\", \"Positive\", \"Positive\", \"Positive\", \"Positive\", \"Positive\", \"Positive\", \"Positive\", \"Positive\", \"Positive\", \"Positive\", \"Positive\", \"Positive\", \"Positive\", \"Positive\", \"Positive\", \"Positive\", \"Positive\", \"Positive\", \"Positive\", \"Positive\", \"Positive\", \"Positive\", \"Positive\", \"Positive\", \"Positive\", \"Positive\", \"Positive\", \"Positive\", \"Positive\", \"Positive\", \"Positive\", \"Positive\", \"Positive\", \"Positive\", \"Positive\", \"Positive\", \"Positive\", \"Positive\", \"Positive\", \"Positive\", \"Positive\", \"Positive\", \"Positive\", \"Positive\", \"Positive\", \"Positive\", \"Positive\", \"Positive\", \"Positive\", \"Positive\", \"Positive\", \"Positive\", \"Positive\", \"Positive\", \"Positive\", \"Positive\", \"Positive\", \"Positive\", \"Positive\", \"Positive\", \"Positive\", \"Positive\", \"Positive\", \"Positive\", \"Positive\", \"Positive\", \"Positive\", \"Positive\", \"Positive\", \"Positive\", \"Positive\", \"Positive\", \"Positive\", \"Positive\", \"Positive\", \"Positive\", \"Positive\", \"Positive\", \"Positive\", \"Positive\", \"Positive\", \"Positive\", \"Positive\", \"Positive\", \"Positive\", \"Positive\", \"Positive\", \"Positive\", \"Positive\", \"Positive\", \"Positive\", \"Positive\", \"Positive\", \"Positive\", \"Positive\", \"Positive\", \"Positive\", \"Positive\", \"Positive\", \"Positive\", \"Positive\", \"Positive\", \"Positive\", \"Positive\", \"Positive\", \"Positive\", \"Positive\", \"Positive\", \"Positive\", \"Positive\", \"Positive\", \"Positive\", \"Positive\", \"Positive\", \"Positive\", \"Positive\", \"Positive\", \"Positive\", \"Positive\", \"Positive\", \"Positive\", \"Positive\", \"Positive\", \"Positive\", \"Positive\", \"Positive\", \"Positive\", \"Positive\", \"Positive\", \"Positive\", \"Positive\", \"Positive\", \"Positive\", \"Positive\", \"Positive\", \"Positive\", \"Positive\", \"Positive\", \"Positive\", \"Positive\", \"Positive\", \"Positive\", \"Positive\", \"Positive\", \"Positive\", \"Positive\", \"Positive\", \"Positive\", \"Positive\", \"Positive\", \"Positive\", \"Positive\", \"Positive\", \"Positive\", \"Positive\", \"Positive\", \"Positive\", \"Positive\", \"Positive\", \"Positive\", \"Positive\", \"Positive\", \"Positive\", \"Positive\", \"Positive\", \"Positive\", \"Positive\", \"Positive\", \"Positive\", \"Positive\", \"Positive\", \"Positive\", \"Positive\", \"Positive\", \"Positive\", \"Positive\", \"Positive\", \"Positive\", \"Positive\", \"Positive\", \"Positive\", \"Positive\", \"Positive\", \"Positive\", \"Positive\", \"Positive\", \"Positive\", \"Positive\", \"Positive\", \"Positive\", \"Positive\", \"Positive\", \"Positive\", \"Positive\", \"Positive\", \"Positive\", \"Positive\", \"Positive\", \"Positive\", \"Positive\", \"Positive\", \"Positive\", \"Positive\", \"Positive\", \"Positive\", \"Positive\", \"Positive\", \"Positive\", \"Positive\", \"Positive\", \"Positive\", \"Positive\", \"Positive\", \"Positive\", \"Positive\", \"Positive\", \"Positive\", \"Positive\", \"Positive\", \"Positive\", \"Positive\", \"Positive\", \"Positive\", \"Positive\", \"Positive\", \"Positive\", \"Positive\", \"Positive\", \"Positive\", \"Positive\", \"Positive\", \"Positive\", \"Positive\", \"Positive\", \"Positive\", \"Positive\", \"Positive\", \"Positive\", \"Positive\", \"Positive\", \"Positive\", \"Positive\", \"Positive\", \"Positive\", \"Positive\", \"Positive\", \"Positive\", \"Positive\", \"Positive\", \"Positive\", \"Positive\", \"Positive\", \"Positive\", \"Positive\", \"Positive\", \"Positive\", \"Positive\", \"Positive\", \"Positive\", \"Positive\", \"Positive\", \"Positive\", \"Positive\", \"Positive\", \"Positive\", \"Positive\", \"Positive\", \"Positive\", \"Positive\", \"Positive\", \"Positive\", \"Positive\", \"Positive\", \"Positive\", \"Positive\", \"Positive\", \"Positive\", \"Positive\", \"Positive\", \"Positive\", \"Positive\", \"Positive\", \"Positive\", \"Positive\", \"Positive\", \"Positive\", \"Positive\", \"Positive\", \"Positive\", \"Positive\", \"Positive\", \"Positive\", \"Positive\", \"Positive\", \"Positive\", \"Positive\", \"Positive\", \"Positive\", \"Positive\", \"Positive\", \"Positive\", \"Positive\", \"Positive\", \"Positive\", \"Positive\", \"Positive\", \"Positive\", \"Positive\", \"Positive\", \"Positive\", \"Positive\", \"Positive\", \"Positive\", \"Positive\", \"Positive\", \"Positive\", \"Positive\", \"Positive\", \"Positive\", \"Positive\", \"Positive\", \"Positive\", \"Positive\", \"Positive\", \"Positive\", \"Positive\", \"Positive\", \"Positive\", \"Positive\", \"Positive\", \"Positive\", \"Positive\", \"Positive\", \"Positive\", \"Positive\", \"Positive\", \"Positive\", \"Positive\", \"Positive\", \"Positive\", \"Positive\", \"Positive\", \"Positive\", \"Positive\", \"Positive\", \"Positive\", \"Positive\", \"Positive\", \"Positive\", \"Positive\", \"Positive\", \"Positive\", \"Positive\", \"Positive\", \"Positive\", \"Positive\", \"Positive\", \"Positive\", \"Positive\", \"Positive\", \"Positive\", \"Positive\", \"Positive\", \"Positive\", \"Positive\", \"Positive\", \"Positive\", \"Positive\", \"Positive\", \"Positive\", \"Positive\", \"Positive\", \"Positive\", \"Positive\", \"Positive\", \"Positive\", \"Positive\", \"Positive\", \"Positive\", \"Positive\", \"Positive\", \"Positive\", \"Positive\", \"Positive\", \"Positive\", \"Positive\", \"Positive\", \"Positive\", \"Positive\", \"Positive\", \"Positive\", \"Positive\", \"Positive\", \"Positive\", \"Positive\", \"Positive\", \"Positive\", \"Positive\", \"Positive\", \"Positive\", \"Positive\", \"Positive\", \"Positive\", \"Positive\", \"Positive\", \"Positive\", \"Positive\", \"Positive\", \"Positive\", \"Positive\", \"Positive\", \"Positive\", \"Positive\", \"Positive\", \"Positive\", \"Positive\", \"Positive\", \"Positive\", \"Positive\", \"Positive\", \"Positive\", \"Positive\", \"Positive\", \"Positive\", \"Positive\", \"Positive\", \"Positive\", \"Positive\", \"Positive\", \"Positive\", \"Positive\", \"Positive\", \"Positive\", \"Positive\", \"Positive\", \"Positive\", \"Positive\", \"Positive\", \"Positive\", \"Positive\", \"Positive\", \"Positive\", \"Positive\", \"Positive\", \"Positive\", \"Positive\", \"Positive\", \"Positive\", \"Positive\", \"Positive\", \"Positive\", \"Positive\", \"Positive\", \"Positive\", \"Positive\", \"Positive\", \"Positive\", \"Positive\", \"Positive\", \"Positive\", \"Positive\", \"Positive\", \"Positive\", \"Positive\", \"Positive\", \"Positive\", \"Positive\", \"Positive\", \"Positive\", \"Positive\", \"Positive\", \"Positive\", \"Positive\", \"Positive\", \"Positive\", \"Positive\", \"Positive\", \"Positive\", \"Positive\", \"Positive\", \"Positive\", \"Positive\", \"Positive\", \"Positive\", \"Positive\", \"Positive\", \"Positive\", \"Positive\", \"Positive\", \"Positive\", \"Positive\", \"Positive\", \"Positive\", \"Positive\", \"Positive\", \"Positive\", \"Positive\", \"Positive\", \"Positive\", \"Positive\", \"Positive\", \"Positive\", \"Positive\", \"Positive\", \"Positive\", \"Positive\", \"Positive\", \"Positive\", \"Positive\", \"Positive\", \"Positive\", \"Positive\", \"Positive\", \"Positive\", \"Positive\", \"Positive\", \"Positive\", \"Positive\", \"Positive\", \"Positive\", \"Positive\", \"Positive\", \"Positive\", \"Positive\", \"Positive\", \"Positive\", \"Positive\", \"Positive\", \"Positive\", \"Positive\", \"Positive\", \"Positive\", \"Positive\", \"Positive\", \"Positive\", \"Positive\", \"Positive\", \"Positive\", \"Positive\", \"Positive\", \"Positive\", \"Positive\", \"Positive\", \"Positive\", \"Positive\", \"Positive\", \"Positive\", \"Positive\", \"Positive\", \"Positive\", \"Positive\", \"Positive\", \"Positive\", \"Positive\", \"Positive\", \"Positive\", \"Positive\", \"Positive\", \"Positive\", \"Positive\", \"Positive\", \"Positive\", \"Positive\", \"Positive\", \"Positive\", \"Positive\", \"Positive\", \"Positive\", \"Positive\", \"Positive\", \"Positive\", \"Positive\", \"Positive\", \"Positive\", \"Positive\", \"Positive\", \"Positive\", \"Positive\", \"Positive\", \"Positive\", \"Positive\", \"Positive\", \"Positive\", \"Positive\", \"Positive\", \"Positive\", \"Positive\", \"Positive\", \"Positive\", \"Positive\", \"Positive\", \"Positive\", \"Positive\", \"Positive\", \"Positive\", \"Positive\", \"Positive\", \"Positive\", \"Positive\", \"Positive\", \"Positive\", \"Positive\", \"Positive\", \"Positive\", \"Positive\", \"Positive\", \"Positive\", \"Positive\", \"Positive\", \"Positive\", \"Positive\", \"Positive\", \"Positive\", \"Positive\", \"Positive\", \"Positive\", \"Positive\", \"Positive\", \"Positive\", \"Positive\", \"Positive\", \"Positive\", \"Positive\", \"Positive\", \"Positive\", \"Positive\", \"Positive\", \"Positive\", \"Positive\", \"Positive\", \"Positive\", \"Positive\", \"Positive\", \"Positive\", \"Positive\", \"Positive\", \"Positive\", \"Positive\", \"Positive\", \"Positive\", \"Positive\", \"Positive\", \"Positive\", \"Positive\", \"Positive\", \"Positive\", \"Positive\", \"Positive\", \"Positive\", \"Positive\", \"Positive\", \"Positive\", \"Positive\", \"Positive\", \"Positive\", \"Positive\", \"Positive\", \"Positive\", \"Positive\", \"Positive\", \"Positive\", \"Positive\", \"Positive\", \"Positive\", \"Positive\", \"Positive\", \"Positive\", \"Positive\", \"Positive\", \"Positive\", \"Positive\", \"Positive\", \"Positive\", \"Positive\", \"Positive\", \"Positive\", \"Positive\", \"Positive\", \"Positive\", \"Positive\", \"Positive\", \"Positive\", \"Positive\", \"Positive\", \"Positive\", \"Positive\", \"Positive\", \"Positive\", \"Positive\", \"Positive\", \"Positive\", \"Positive\", \"Positive\", \"Positive\", \"Positive\", \"Positive\", \"Positive\", \"Positive\", \"Positive\", \"Positive\", \"Positive\", \"Positive\", \"Positive\", \"Positive\", \"Positive\", \"Positive\", \"Positive\", \"Positive\", \"Positive\", \"Positive\", \"Positive\", \"Positive\", \"Positive\", \"Positive\", \"Positive\", \"Positive\", \"Positive\", \"Positive\", \"Positive\", \"Positive\", \"Positive\", \"Positive\", \"Positive\", \"Positive\", \"Positive\", \"Positive\", \"Positive\", \"Positive\", \"Positive\", \"Positive\", \"Positive\", \"Positive\", \"Positive\", \"Positive\", \"Positive\", \"Positive\", \"Positive\", \"Positive\", \"Positive\", \"Positive\", \"Positive\", \"Positive\", \"Positive\", \"Positive\", \"Positive\", \"Positive\", \"Positive\", \"Positive\", \"Positive\", \"Positive\", \"Positive\", \"Positive\", \"Positive\", \"Positive\", \"Positive\", \"Positive\", \"Positive\", \"Positive\", \"Positive\", \"Positive\", \"Positive\", \"Positive\", \"Positive\", \"Positive\", \"Positive\", \"Positive\", \"Positive\", \"Positive\", \"Positive\", \"Positive\", \"Positive\", \"Positive\", \"Positive\", \"Positive\", \"Positive\", \"Positive\", \"Positive\", \"Positive\", \"Positive\", \"Positive\", \"Positive\", \"Positive\", \"Positive\", \"Positive\", \"Positive\", \"Positive\", \"Positive\", \"Positive\", \"Positive\", \"Positive\", \"Positive\", \"Positive\", \"Positive\", \"Positive\", \"Positive\", \"Positive\", \"Positive\", \"Positive\", \"Positive\", \"Positive\", \"Positive\", \"Positive\", \"Positive\", \"Positive\", \"Positive\", \"Positive\", \"Positive\", \"Positive\", \"Positive\", \"Positive\", \"Positive\", \"Positive\", \"Positive\", \"Positive\", \"Positive\", \"Positive\", \"Positive\", \"Positive\", \"Positive\", \"Positive\", \"Positive\", \"Positive\", \"Positive\", \"Positive\", \"Positive\", \"Positive\", \"Positive\", \"Positive\", \"Positive\", \"Positive\", \"Positive\", \"Positive\", \"Positive\", \"Positive\", \"Positive\", \"Positive\", \"Positive\", \"Positive\", \"Positive\", \"Positive\", \"Positive\", \"Positive\", \"Positive\", \"Positive\", \"Positive\", \"Positive\", \"Positive\", \"Positive\", \"Positive\", \"Positive\", \"Positive\", \"Positive\", \"Positive\", \"Positive\", \"Positive\", \"Positive\", \"Positive\", \"Positive\", \"Positive\", \"Positive\", \"Positive\", \"Positive\", \"Positive\", \"Positive\", \"Positive\", \"Positive\", \"Positive\", \"Positive\", \"Positive\", \"Positive\", \"Positive\", \"Positive\", \"Positive\", \"Positive\", \"Positive\", \"Positive\", \"Positive\", \"Positive\", \"Positive\", \"Positive\", \"Positive\", \"Positive\", \"Positive\", \"Positive\", \"Positive\", \"Positive\", \"Positive\", \"Positive\", \"Positive\", \"Positive\", \"Positive\", \"Positive\", \"Positive\", \"Positive\", \"Positive\", \"Positive\", \"Positive\", \"Positive\", \"Positive\", \"Positive\", \"Positive\", \"Positive\", \"Positive\", \"Positive\", \"Positive\", \"Positive\", \"Positive\", \"Positive\", \"Positive\", \"Positive\", \"Positive\", \"Positive\", \"Positive\", \"Positive\", \"Positive\", \"Positive\", \"Positive\", \"Positive\", \"Positive\", \"Positive\", \"Positive\", \"Positive\", \"Positive\", \"Positive\", \"Positive\", \"Positive\", \"Positive\", \"Positive\", \"Positive\", \"Positive\", \"Positive\", \"Positive\", \"Positive\", \"Positive\", \"Positive\", \"Positive\", \"Positive\", \"Positive\", \"Positive\", \"Positive\", \"Positive\", \"Positive\", \"Positive\", \"Positive\", \"Positive\", \"Positive\", \"Positive\", \"Positive\", \"Positive\", \"Positive\", \"Positive\", \"Positive\", \"Positive\", \"Positive\", \"Positive\", \"Positive\", \"Positive\", \"Positive\", \"Positive\", \"Positive\", \"Positive\", \"Positive\", \"Positive\", \"Positive\", \"Positive\", \"Positive\", \"Positive\", \"Positive\", \"Positive\", \"Positive\", \"Positive\", \"Positive\", \"Positive\", \"Positive\", \"Positive\", \"Positive\", \"Positive\", \"Positive\", \"Positive\", \"Positive\", \"Positive\", \"Positive\", \"Positive\", \"Positive\", \"Positive\", \"Positive\", \"Positive\", \"Positive\", \"Positive\", \"Positive\", \"Positive\", \"Positive\", \"Positive\", \"Positive\", \"Positive\", \"Positive\", \"Positive\", \"Positive\", \"Positive\", \"Positive\", \"Positive\", \"Positive\", \"Positive\", \"Positive\", \"Positive\", \"Positive\", \"Positive\", \"Positive\", \"Positive\", \"Positive\", \"Positive\", \"Positive\", \"Positive\", \"Positive\", \"Positive\", \"Positive\", \"Positive\", \"Positive\", \"Positive\", \"Positive\", \"Positive\", \"Positive\", \"Positive\", \"Positive\", \"Positive\", \"Positive\", \"Positive\", \"Positive\", \"Positive\", \"Positive\", \"Positive\", \"Positive\", \"Positive\", \"Positive\", \"Positive\", \"Positive\", \"Positive\", \"Positive\", \"Positive\", \"Positive\", \"Positive\", \"Positive\", \"Positive\", \"Positive\", \"Positive\", \"Positive\", \"Positive\", \"Positive\", \"Positive\", \"Positive\", \"Positive\", \"Positive\", \"Positive\", \"Positive\", \"Positive\", \"Positive\", \"Positive\", \"Positive\", \"Positive\", \"Positive\", \"Positive\", \"Positive\", \"Positive\", \"Positive\", \"Positive\", \"Positive\", \"Positive\", \"Positive\", \"Positive\", \"Positive\", \"Positive\", \"Positive\", \"Positive\", \"Positive\", \"Positive\", \"Positive\", \"Positive\", \"Positive\", \"Positive\", \"Positive\", \"Positive\", \"Positive\", \"Positive\", \"Positive\", \"Positive\", \"Positive\", \"Positive\", \"Positive\", \"Positive\", \"Positive\", \"Positive\", \"Positive\", \"Positive\", \"Positive\", \"Positive\", \"Positive\", \"Positive\", \"Positive\", \"Positive\", \"Positive\", \"Positive\", \"Positive\", \"Positive\", \"Positive\", \"Positive\", \"Positive\", \"Positive\", \"Positive\", \"Positive\", \"Positive\", \"Positive\", \"Positive\", \"Positive\", \"Positive\", \"Positive\", \"Positive\", \"Positive\", \"Positive\", \"Positive\", \"Positive\", \"Positive\", \"Positive\", \"Positive\", \"Positive\", \"Positive\", \"Positive\", \"Positive\", \"Positive\", \"Positive\", \"Positive\", \"Positive\", \"Positive\", \"Positive\", \"Positive\", \"Positive\", \"Positive\", \"Positive\", \"Positive\", \"Positive\", \"Positive\", \"Positive\", \"Positive\", \"Positive\", \"Positive\", \"Positive\", \"Positive\", \"Positive\", \"Positive\", \"Positive\", \"Positive\", \"Positive\", \"Positive\", \"Positive\", \"Positive\", \"Positive\", \"Positive\", \"Positive\", \"Positive\", \"Positive\", \"Positive\", \"Positive\", \"Positive\", \"Positive\", \"Positive\", \"Positive\", \"Positive\", \"Positive\", \"Positive\", \"Positive\", \"Positive\", \"Positive\", \"Positive\", \"Positive\", \"Positive\", \"Positive\", \"Positive\", \"Positive\", \"Positive\", \"Positive\", \"Positive\", \"Positive\", \"Positive\", \"Positive\", \"Positive\", \"Positive\", \"Positive\", \"Positive\", \"Positive\", \"Positive\", \"Positive\", \"Positive\", \"Positive\", \"Positive\", \"Positive\", \"Positive\", \"Positive\", \"Positive\", \"Positive\", \"Positive\", \"Positive\", \"Positive\", \"Positive\", \"Positive\", \"Positive\", \"Positive\", \"Positive\", \"Positive\", \"Positive\", \"Positive\", \"Positive\", \"Positive\", \"Positive\", \"Positive\", \"Positive\", \"Positive\", \"Positive\", \"Positive\", \"Positive\", \"Positive\", \"Positive\", \"Positive\", \"Positive\", \"Positive\", \"Positive\", \"Positive\", \"Positive\", \"Positive\", \"Positive\", \"Positive\", \"Positive\", \"Positive\", \"Positive\", \"Positive\", \"Positive\", \"Positive\", \"Positive\", \"Positive\", \"Positive\", \"Positive\", \"Positive\", \"Positive\", \"Positive\", \"Positive\", \"Positive\", \"Positive\", \"Positive\", \"Positive\", \"Positive\", \"Positive\", \"Positive\", \"Positive\", \"Positive\", \"Positive\", \"Positive\", \"Positive\", \"Positive\", \"Positive\", \"Positive\", \"Positive\", \"Positive\", \"Positive\", \"Positive\", \"Positive\", \"Positive\", \"Positive\", \"Positive\", \"Positive\", \"Positive\", \"Positive\", \"Positive\", \"Positive\", \"Positive\", \"Positive\", \"Positive\", \"Positive\", \"Positive\", \"Positive\", \"Positive\", \"Positive\", \"Positive\", \"Positive\", \"Positive\", \"Positive\", \"Positive\", \"Positive\", \"Positive\", \"Positive\", \"Positive\", \"Positive\", \"Positive\", \"Positive\", \"Positive\", \"Positive\", \"Positive\", \"Positive\", \"Positive\", \"Positive\", \"Positive\", \"Positive\", \"Positive\", \"Positive\", \"Positive\", \"Positive\", \"Positive\", \"Positive\", \"Positive\", \"Positive\", \"Positive\", \"Positive\", \"Positive\", \"Positive\", \"Positive\", \"Positive\", \"Positive\", \"Positive\", \"Positive\", \"Positive\", \"Positive\", \"Positive\", \"Positive\", \"Positive\", \"Positive\", \"Positive\", \"Positive\", \"Positive\", \"Positive\", \"Positive\", \"Positive\", \"Positive\", \"Positive\", \"Positive\", \"Positive\", \"Positive\", \"Positive\", \"Positive\", \"Positive\", \"Positive\", \"Positive\", \"Positive\", \"Positive\", \"Positive\", \"Positive\", \"Positive\", \"Positive\", \"Positive\", \"Positive\", \"Positive\", \"Positive\", \"Positive\", \"Positive\", \"Positive\", \"Positive\", \"Positive\", \"Positive\", \"Positive\", \"Positive\", \"Positive\", \"Positive\", \"Positive\", \"Positive\", \"Positive\", \"Positive\", \"Positive\", \"Positive\", \"Positive\", \"Positive\", \"Positive\", \"Positive\", \"Positive\", \"Positive\", \"Positive\", \"Positive\", \"Positive\", \"Positive\", \"Positive\", \"Positive\", \"Positive\", \"Positive\", \"Positive\", \"Positive\", \"Positive\", \"Positive\", \"Positive\", \"Positive\", \"Positive\", \"Positive\", \"Positive\", \"Positive\", \"Positive\", \"Positive\", \"Positive\", \"Positive\", \"Positive\", \"Positive\", \"Positive\", \"Positive\", \"Positive\", \"Positive\", \"Positive\", \"Positive\", \"Positive\", \"Positive\", \"Positive\", \"Positive\", \"Positive\", \"Positive\", \"Positive\", \"Positive\", \"Positive\", \"Positive\", \"Positive\", \"Positive\", \"Positive\", \"Positive\", \"Positive\", \"Positive\", \"Positive\", \"Positive\", \"Positive\", \"Positive\", \"Positive\", \"Positive\", \"Positive\", \"Positive\", \"Positive\", \"Positive\", \"Positive\", \"Positive\", \"Positive\", \"Positive\", \"Positive\", \"Positive\", \"Positive\", \"Positive\", \"Positive\", \"Positive\", \"Positive\", \"Positive\", \"Positive\", \"Positive\", \"Positive\", \"Positive\", \"Positive\", \"Positive\", \"Positive\", \"Positive\", \"Positive\", \"Positive\", \"Positive\", \"Positive\", \"Positive\", \"Positive\", \"Positive\", \"Positive\", \"Positive\", \"Positive\", \"Positive\", \"Positive\", \"Positive\", \"Positive\", \"Positive\", \"Positive\", \"Positive\", \"Positive\", \"Positive\", \"Positive\", \"Positive\", \"Positive\", \"Positive\", \"Positive\", \"Positive\", \"Positive\", \"Positive\", \"Positive\", \"Positive\", \"Positive\", \"Positive\", \"Positive\", \"Positive\", \"Positive\", \"Positive\", \"Positive\", \"Positive\", \"Positive\", \"Positive\", \"Positive\", \"Positive\", \"Positive\", \"Positive\", \"Positive\", \"Positive\", \"Positive\", \"Positive\", \"Positive\", \"Positive\", \"Positive\", \"Positive\", \"Positive\", \"Positive\", \"Positive\", \"Positive\", \"Positive\", \"Positive\", \"Positive\", \"Positive\", \"Positive\", \"Positive\", \"Positive\", \"Positive\", \"Positive\", \"Positive\", \"Positive\", \"Positive\", \"Positive\", \"Positive\", \"Positive\", \"Positive\", \"Positive\", \"Positive\", \"Positive\", \"Positive\", \"Positive\", \"Positive\", \"Positive\", \"Positive\", \"Positive\", \"Positive\", \"Positive\", \"Positive\", \"Positive\", \"Positive\", \"Positive\", \"Positive\", \"Positive\", \"Positive\", \"Positive\", \"Positive\", \"Positive\", \"Positive\", \"Positive\", \"Positive\", \"Positive\", \"Positive\", \"Positive\", \"Positive\", \"Positive\", \"Positive\", \"Positive\", \"Positive\", \"Positive\", \"Positive\", \"Positive\", \"Positive\", \"Positive\", \"Positive\", \"Positive\", \"Positive\", \"Positive\", \"Positive\", \"Positive\", \"Positive\", \"Positive\", \"Positive\", \"Positive\", \"Positive\", \"Positive\", \"Positive\", \"Positive\", \"Positive\", \"Positive\", \"Positive\", \"Positive\", \"Positive\", \"Positive\", \"Positive\", \"Positive\", \"Positive\", \"Positive\", \"Positive\", \"Positive\", \"Positive\", \"Positive\", \"Positive\", \"Positive\", \"Positive\", \"Positive\", \"Positive\", \"Positive\", \"Positive\", \"Positive\", \"Positive\", \"Positive\", \"Positive\", \"Positive\", \"Positive\", \"Positive\", \"Positive\", \"Positive\", \"Positive\", \"Positive\", \"Positive\", \"Positive\", \"Positive\", \"Positive\", \"Positive\", \"Positive\", \"Positive\", \"Positive\", \"Positive\", \"Positive\", \"Positive\", \"Positive\", \"Positive\", \"Positive\", \"Positive\", \"Positive\", \"Positive\", \"Positive\", \"Positive\", \"Positive\", \"Positive\", \"Positive\", \"Positive\", \"Positive\", \"Positive\", \"Positive\", \"Positive\", \"Positive\", \"Positive\", \"Positive\", \"Positive\", \"Positive\", \"Positive\", \"Positive\", \"Positive\", \"Positive\", \"Positive\", \"Positive\", \"Positive\", \"Positive\", \"Positive\", \"Positive\", \"Positive\", \"Positive\", \"Positive\", \"Positive\", \"Positive\", \"Positive\", \"Positive\", \"Positive\", \"Positive\", \"Positive\", \"Positive\", \"Positive\", \"Positive\", \"Positive\", \"Positive\", \"Positive\", \"Positive\", \"Positive\", \"Positive\", \"Positive\", \"Positive\", \"Positive\", \"Positive\", \"Positive\", \"Positive\", \"Positive\", \"Positive\", \"Positive\", \"Positive\", \"Positive\", \"Positive\", \"Positive\", \"Positive\", \"Positive\", \"Positive\", \"Positive\", \"Positive\", \"Positive\", \"Positive\", \"Positive\", \"Positive\", \"Positive\", \"Positive\", \"Positive\", \"Positive\", \"Positive\", \"Positive\", \"Positive\", \"Positive\", \"Positive\", \"Positive\", \"Positive\", \"Positive\", \"Positive\", \"Positive\", \"Positive\", \"Positive\", \"Positive\", \"Positive\", \"Positive\", \"Positive\", \"Positive\", \"Positive\", \"Positive\", \"Positive\", \"Positive\", \"Positive\", \"Positive\", \"Positive\", \"Positive\", \"Positive\", \"Positive\", \"Positive\", \"Positive\", \"Positive\", \"Positive\", \"Positive\", \"Positive\", \"Positive\", \"Positive\", \"Positive\", \"Positive\", \"Positive\", \"Positive\", \"Positive\", \"Positive\", \"Positive\", \"Positive\", \"Positive\", \"Positive\", \"Positive\", \"Positive\", \"Positive\", \"Positive\", \"Positive\", \"Positive\", \"Positive\", \"Positive\", \"Positive\", \"Positive\", \"Positive\", \"Positive\", \"Positive\", \"Positive\", \"Positive\", \"Positive\", \"Positive\", \"Positive\", \"Positive\", \"Positive\", \"Positive\", \"Positive\", \"Positive\", \"Positive\", \"Positive\", \"Positive\", \"Positive\", \"Positive\", \"Positive\", \"Positive\", \"Positive\", \"Positive\", \"Positive\", \"Positive\", \"Positive\", \"Positive\", \"Positive\", \"Positive\", \"Positive\", \"Positive\", \"Positive\", \"Positive\", \"Positive\", \"Positive\", \"Positive\", \"Positive\", \"Positive\", \"Positive\", \"Positive\", \"Positive\", \"Positive\", \"Positive\", \"Positive\", \"Positive\", \"Positive\", \"Positive\", \"Positive\", \"Positive\", \"Positive\", \"Positive\", \"Positive\", \"Positive\", \"Positive\", \"Positive\", \"Positive\", \"Positive\", \"Positive\", \"Positive\", \"Positive\", \"Positive\", \"Positive\", \"Positive\", \"Positive\", \"Positive\", \"Positive\", \"Positive\", \"Positive\", \"Positive\", \"Positive\", \"Positive\", \"Positive\", \"Positive\", \"Positive\", \"Positive\", \"Positive\", \"Positive\", \"Positive\", \"Positive\", \"Positive\", \"Positive\", \"Positive\", \"Positive\", \"Positive\", \"Positive\", \"Positive\", \"Positive\", \"Positive\", \"Positive\", \"Positive\", \"Positive\", \"Positive\", \"Positive\", \"Positive\", \"Positive\", \"Positive\", \"Positive\", \"Positive\", \"Positive\", \"Positive\", \"Positive\", \"Positive\", \"Positive\", \"Positive\", \"Positive\", \"Positive\", \"Positive\", \"Positive\", \"Positive\", \"Positive\", \"Positive\", \"Positive\", \"Positive\", \"Positive\", \"Positive\", \"Positive\", \"Positive\", \"Positive\", \"Positive\", \"Positive\", \"Positive\", \"Positive\", \"Positive\", \"Positive\", \"Positive\", \"Positive\", \"Positive\", \"Positive\", \"Positive\", \"Positive\", \"Positive\", \"Positive\", \"Positive\", \"Positive\", \"Positive\", \"Positive\", \"Positive\", \"Positive\", \"Positive\", \"Positive\", \"Positive\", \"Positive\", \"Positive\", \"Positive\", \"Positive\", \"Positive\", \"Positive\", \"Positive\", \"Positive\", \"Positive\", \"Positive\", \"Positive\", \"Positive\", \"Positive\", \"Positive\", \"Positive\", \"Positive\", \"Positive\", \"Positive\", \"Positive\", \"Positive\", \"Positive\", \"Positive\", \"Positive\", \"Positive\", \"Positive\", \"Positive\", \"Positive\", \"Positive\", \"Positive\", \"Positive\", \"Positive\", \"Positive\", \"Positive\", \"Positive\", \"Positive\", \"Positive\", \"Positive\", \"Positive\", \"Positive\", \"Positive\", \"Positive\", \"Positive\", \"Positive\", \"Positive\", \"Positive\", \"Positive\", \"Positive\", \"Positive\", \"Positive\", \"Positive\", \"Positive\", \"Positive\", \"Positive\", \"Positive\", \"Positive\", \"Positive\", \"Positive\", \"Positive\", \"Positive\", \"Positive\", \"Positive\", \"Positive\", \"Positive\", \"Positive\", \"Positive\", \"Positive\", \"Positive\", \"Positive\", \"Positive\", \"Positive\", \"Positive\", \"Positive\", \"Positive\", \"Positive\", \"Positive\", \"Positive\", \"Positive\", \"Positive\", \"Positive\", \"Positive\", \"Positive\", \"Positive\", \"Positive\", \"Positive\", \"Positive\", \"Positive\", \"Positive\", \"Positive\", \"Positive\", \"Positive\", \"Positive\", \"Positive\", \"Positive\", \"Positive\", \"Positive\", \"Positive\", \"Positive\", \"Positive\", \"Positive\", \"Positive\", \"Positive\", \"Positive\", \"Positive\", \"Positive\", \"Positive\", \"Positive\", \"Positive\", \"Positive\", \"Positive\", \"Positive\", \"Positive\", \"Positive\", \"Positive\", \"Positive\", \"Positive\", \"Positive\", \"Positive\", \"Positive\", \"Positive\", \"Positive\", \"Positive\", \"Positive\", \"Positive\", \"Positive\", \"Positive\", \"Positive\", \"Positive\", \"Positive\", \"Positive\", \"Positive\", \"Positive\", \"Positive\", \"Positive\", \"Positive\", \"Positive\", \"Positive\", \"Positive\", \"Positive\", \"Positive\", \"Positive\", \"Positive\", \"Positive\", \"Positive\", \"Positive\", \"Positive\", \"Positive\", \"Positive\", \"Positive\", \"Positive\", \"Positive\", \"Positive\", \"Positive\", \"Positive\", \"Positive\", \"Positive\", \"Positive\", \"Positive\", \"Positive\", \"Positive\", \"Positive\", \"Positive\", \"Positive\", \"Positive\", \"Positive\", \"Positive\", \"Positive\", \"Positive\", \"Positive\", \"Positive\", \"Positive\", \"Positive\", \"Positive\", \"Positive\", \"Positive\", \"Positive\", \"Positive\", \"Positive\", \"Positive\", \"Positive\", \"Positive\", \"Positive\", \"Positive\", \"Positive\", \"Positive\", \"Positive\", \"Positive\", \"Positive\", \"Positive\", \"Positive\", \"Positive\", \"Positive\", \"Positive\", \"Positive\", \"Positive\", \"Positive\", \"Positive\", \"Positive\", \"Positive\", \"Positive\", \"Positive\", \"Positive\", \"Positive\", \"Positive\", \"Positive\", \"Positive\", \"Positive\", \"Positive\", \"Positive\", \"Positive\", \"Positive\", \"Positive\", \"Positive\", \"Positive\", \"Positive\", \"Positive\", \"Positive\", \"Positive\", \"Positive\", \"Positive\", \"Positive\", \"Positive\", \"Positive\", \"Positive\", \"Positive\", \"Positive\", \"Positive\", \"Positive\", \"Positive\", \"Positive\", \"Positive\", \"Positive\", \"Positive\", \"Positive\", \"Positive\", \"Positive\", \"Positive\", \"Positive\", \"Positive\", \"Positive\", \"Positive\", \"Positive\", \"Positive\", \"Positive\", \"Positive\", \"Positive\", \"Positive\", \"Positive\", \"Positive\", \"Positive\", \"Positive\", \"Positive\", \"Positive\", \"Positive\", \"Positive\", \"Positive\", \"Positive\", \"Positive\", \"Positive\", \"Positive\", \"Positive\", \"Positive\", \"Positive\", \"Positive\", \"Positive\", \"Positive\", \"Positive\", \"Positive\", \"Positive\", \"Positive\", \"Positive\", \"Positive\", \"Positive\", \"Positive\", \"Positive\", \"Positive\", \"Positive\", \"Positive\", \"Positive\", \"Positive\", \"Positive\", \"Positive\", \"Positive\", \"Positive\", \"Positive\", \"Positive\", \"Positive\", \"Positive\", \"Positive\", \"Positive\", \"Positive\", \"Positive\", \"Positive\", \"Positive\", \"Positive\", \"Positive\", \"Positive\", \"Positive\", \"Positive\", \"Positive\", \"Positive\", \"Positive\", \"Positive\", \"Positive\", \"Positive\", \"Positive\", \"Positive\", \"Positive\", \"Positive\", \"Positive\", \"Positive\", \"Positive\", \"Positive\", \"Positive\", \"Positive\", \"Positive\", \"Positive\", \"Positive\", \"Positive\", \"Positive\", \"Positive\", \"Positive\", \"Positive\", \"Positive\", \"Positive\", \"Positive\", \"Positive\", \"Positive\", \"Positive\", \"Positive\", \"Positive\", \"Positive\", \"Positive\", \"Positive\", \"Positive\", \"Positive\", \"Positive\", \"Positive\", \"Positive\", \"Positive\", \"Positive\", \"Positive\", \"Positive\", \"Positive\", \"Positive\", \"Positive\", \"Positive\", \"Positive\", \"Positive\", \"Positive\", \"Positive\", \"Positive\", \"Positive\", \"Positive\", \"Positive\", \"Positive\", \"Positive\", \"Positive\", \"Positive\", \"Positive\", \"Positive\", \"Positive\", \"Positive\", \"Positive\", \"Positive\", \"Positive\", \"Positive\", \"Positive\", \"Positive\", \"Positive\", \"Positive\", \"Positive\", \"Positive\", \"Positive\", \"Positive\", \"Positive\", \"Positive\", \"Positive\", \"Positive\", \"Positive\", \"Positive\", \"Positive\", \"Positive\", \"Positive\", \"Positive\", \"Positive\", \"Positive\", \"Positive\", \"Positive\", \"Positive\", \"Positive\", \"Positive\", \"Positive\", \"Positive\", \"Positive\", \"Positive\", \"Positive\", \"Positive\", \"Positive\", \"Positive\", \"Positive\", \"Positive\", \"Positive\", \"Positive\", \"Positive\", \"Positive\", \"Positive\", \"Positive\", \"Positive\", \"Positive\", \"Positive\", \"Positive\", \"Positive\", \"Positive\", \"Positive\", \"Positive\", \"Positive\", \"Positive\", \"Positive\", \"Positive\", \"Positive\", \"Positive\", \"Positive\", \"Positive\", \"Positive\", \"Positive\", \"Positive\", \"Positive\", \"Positive\", \"Positive\", \"Positive\", \"Positive\", \"Positive\", \"Positive\", \"Positive\", \"Positive\", \"Positive\", \"Positive\", \"Positive\", \"Positive\", \"Positive\", \"Positive\", \"Positive\", \"Positive\", \"Positive\", \"Positive\", \"Positive\", \"Positive\", \"Positive\", \"Positive\", \"Positive\", \"Positive\", \"Positive\", \"Positive\", \"Positive\", \"Positive\", \"Positive\", \"Positive\", \"Positive\", \"Positive\", \"Positive\", \"Positive\", \"Positive\", \"Positive\", \"Positive\", \"Positive\", \"Positive\", \"Positive\", \"Positive\", \"Positive\", \"Positive\"], \"xaxis\": \"x\", \"yaxis\": \"y\"}, {\"alignmentgroup\": \"True\", \"bingroup\": \"x\", \"hoverlabel\": {\"namelength\": 0}, \"hovertemplate\": \"Sentiment=%{x}<br>count=%{y}\", \"legendgroup\": \"Sentiment=Negative\", \"marker\": {\"color\": \"#EF553B\"}, \"name\": \"Sentiment=Negative\", \"offsetgroup\": \"Sentiment=Negative\", \"orientation\": \"v\", \"showlegend\": true, \"type\": \"histogram\", \"x\": [\"Negative\", \"Negative\", \"Negative\", \"Negative\", \"Negative\", \"Negative\", \"Negative\", \"Negative\", \"Negative\", \"Negative\", \"Negative\", \"Negative\", \"Negative\", \"Negative\", \"Negative\", \"Negative\", \"Negative\", \"Negative\", \"Negative\", \"Negative\", \"Negative\", \"Negative\", \"Negative\", \"Negative\", \"Negative\", \"Negative\", \"Negative\", \"Negative\", \"Negative\", \"Negative\", \"Negative\", \"Negative\", \"Negative\", \"Negative\", \"Negative\", \"Negative\", \"Negative\", \"Negative\", \"Negative\", \"Negative\", \"Negative\", \"Negative\", \"Negative\", \"Negative\", \"Negative\", \"Negative\", \"Negative\", \"Negative\", \"Negative\", \"Negative\", \"Negative\", \"Negative\", \"Negative\", \"Negative\", \"Negative\", \"Negative\", \"Negative\", \"Negative\", \"Negative\", \"Negative\", \"Negative\", \"Negative\", \"Negative\", \"Negative\", \"Negative\", \"Negative\", \"Negative\", \"Negative\", \"Negative\", \"Negative\", \"Negative\", \"Negative\", \"Negative\", \"Negative\", \"Negative\", \"Negative\", \"Negative\", \"Negative\", \"Negative\", \"Negative\", \"Negative\", \"Negative\", \"Negative\", \"Negative\", \"Negative\", \"Negative\", \"Negative\", \"Negative\", \"Negative\", \"Negative\", \"Negative\", \"Negative\", \"Negative\", \"Negative\", \"Negative\", \"Negative\", \"Negative\", \"Negative\", \"Negative\", \"Negative\", \"Negative\", \"Negative\", \"Negative\", \"Negative\", \"Negative\", \"Negative\", \"Negative\", \"Negative\", \"Negative\", \"Negative\", \"Negative\", \"Negative\", \"Negative\", \"Negative\", \"Negative\", \"Negative\", \"Negative\", \"Negative\", \"Negative\", \"Negative\", \"Negative\", \"Negative\", \"Negative\", \"Negative\", \"Negative\", \"Negative\", \"Negative\", \"Negative\", \"Negative\", \"Negative\", \"Negative\", \"Negative\", \"Negative\", \"Negative\", \"Negative\", \"Negative\", \"Negative\", \"Negative\", \"Negative\", \"Negative\", \"Negative\", \"Negative\", \"Negative\", \"Negative\", \"Negative\", \"Negative\", \"Negative\", \"Negative\", \"Negative\", \"Negative\", \"Negative\", \"Negative\", \"Negative\", \"Negative\", \"Negative\", \"Negative\", \"Negative\", \"Negative\", \"Negative\", \"Negative\", \"Negative\", \"Negative\", \"Negative\", \"Negative\", \"Negative\", \"Negative\", \"Negative\", \"Negative\", \"Negative\", \"Negative\", \"Negative\", \"Negative\", \"Negative\", \"Negative\", \"Negative\", \"Negative\", \"Negative\", \"Negative\", \"Negative\", \"Negative\", \"Negative\", \"Negative\", \"Negative\", \"Negative\", \"Negative\", \"Negative\", \"Negative\", \"Negative\", \"Negative\", \"Negative\", \"Negative\", \"Negative\", \"Negative\", \"Negative\", \"Negative\", \"Negative\", \"Negative\", \"Negative\", \"Negative\", \"Negative\", \"Negative\", \"Negative\", \"Negative\", \"Negative\", \"Negative\", \"Negative\", \"Negative\", \"Negative\", \"Negative\", \"Negative\", \"Negative\", \"Negative\", \"Negative\", \"Negative\", \"Negative\", \"Negative\", \"Negative\", \"Negative\", \"Negative\", \"Negative\", \"Negative\", \"Negative\", \"Negative\", \"Negative\", \"Negative\", \"Negative\", \"Negative\", \"Negative\", \"Negative\", \"Negative\", \"Negative\", \"Negative\", \"Negative\", \"Negative\", \"Negative\", \"Negative\", \"Negative\", \"Negative\", \"Negative\", \"Negative\", \"Negative\", \"Negative\", \"Negative\", \"Negative\", \"Negative\", \"Negative\", \"Negative\", \"Negative\", \"Negative\", \"Negative\", \"Negative\", \"Negative\", \"Negative\", \"Negative\", \"Negative\", \"Negative\", \"Negative\", \"Negative\", \"Negative\", \"Negative\", \"Negative\", \"Negative\", \"Negative\", \"Negative\", \"Negative\", \"Negative\", \"Negative\", \"Negative\", \"Negative\", \"Negative\", \"Negative\", \"Negative\", \"Negative\", \"Negative\", \"Negative\", \"Negative\", \"Negative\", \"Negative\", \"Negative\", \"Negative\", \"Negative\", \"Negative\", \"Negative\", \"Negative\", \"Negative\", \"Negative\", \"Negative\", \"Negative\", \"Negative\", \"Negative\", \"Negative\", \"Negative\", \"Negative\", \"Negative\", \"Negative\", \"Negative\", \"Negative\", \"Negative\", \"Negative\", \"Negative\", \"Negative\", \"Negative\", \"Negative\", \"Negative\", \"Negative\", \"Negative\", \"Negative\", \"Negative\", \"Negative\", \"Negative\", \"Negative\", \"Negative\", \"Negative\", \"Negative\", \"Negative\", \"Negative\", \"Negative\", \"Negative\", \"Negative\", \"Negative\", \"Negative\", \"Negative\", \"Negative\", \"Negative\", \"Negative\", \"Negative\", \"Negative\", \"Negative\", \"Negative\", \"Negative\", \"Negative\", \"Negative\", \"Negative\", \"Negative\", \"Negative\", \"Negative\", \"Negative\", \"Negative\", \"Negative\", \"Negative\", \"Negative\", \"Negative\", \"Negative\", \"Negative\", \"Negative\", \"Negative\", \"Negative\", \"Negative\", \"Negative\", \"Negative\", \"Negative\", \"Negative\", \"Negative\", \"Negative\", \"Negative\", \"Negative\", \"Negative\", \"Negative\", \"Negative\", \"Negative\", \"Negative\", \"Negative\", \"Negative\", \"Negative\", \"Negative\", \"Negative\", \"Negative\", \"Negative\", \"Negative\", \"Negative\", \"Negative\", \"Negative\", \"Negative\", \"Negative\", \"Negative\", \"Negative\", \"Negative\", \"Negative\", \"Negative\", \"Negative\", \"Negative\", \"Negative\", \"Negative\", \"Negative\", \"Negative\", \"Negative\", \"Negative\", \"Negative\", \"Negative\", \"Negative\", \"Negative\", \"Negative\", \"Negative\", \"Negative\", \"Negative\", \"Negative\", \"Negative\", \"Negative\", \"Negative\", \"Negative\", \"Negative\", \"Negative\", \"Negative\", \"Negative\", \"Negative\", \"Negative\", \"Negative\", \"Negative\", \"Negative\", \"Negative\", \"Negative\", \"Negative\", \"Negative\", \"Negative\", \"Negative\", \"Negative\", \"Negative\", \"Negative\", \"Negative\", \"Negative\", \"Negative\", \"Negative\", \"Negative\", \"Negative\", \"Negative\", \"Negative\", \"Negative\", \"Negative\", \"Negative\", \"Negative\", \"Negative\", \"Negative\", \"Negative\", \"Negative\", \"Negative\", \"Negative\", \"Negative\", \"Negative\", \"Negative\", \"Negative\", \"Negative\", \"Negative\", \"Negative\", \"Negative\", \"Negative\", \"Negative\", \"Negative\", \"Negative\", \"Negative\", \"Negative\", \"Negative\", \"Negative\", \"Negative\", \"Negative\", \"Negative\", \"Negative\", \"Negative\", \"Negative\", \"Negative\", \"Negative\", \"Negative\", \"Negative\", \"Negative\", \"Negative\", \"Negative\", \"Negative\", \"Negative\", \"Negative\", \"Negative\", \"Negative\", \"Negative\", \"Negative\", \"Negative\", \"Negative\", \"Negative\", \"Negative\", \"Negative\", \"Negative\", \"Negative\", \"Negative\", \"Negative\", \"Negative\", \"Negative\", \"Negative\", \"Negative\", \"Negative\", \"Negative\", \"Negative\", \"Negative\", \"Negative\", \"Negative\", \"Negative\", \"Negative\", \"Negative\", \"Negative\", \"Negative\", \"Negative\", \"Negative\", \"Negative\", \"Negative\", \"Negative\", \"Negative\", \"Negative\", \"Negative\", \"Negative\", \"Negative\", \"Negative\", \"Negative\", \"Negative\", \"Negative\", \"Negative\", \"Negative\", \"Negative\", \"Negative\", \"Negative\", \"Negative\", \"Negative\", \"Negative\", \"Negative\", \"Negative\", \"Negative\", \"Negative\", \"Negative\", \"Negative\", \"Negative\", \"Negative\", \"Negative\", \"Negative\", \"Negative\", \"Negative\", \"Negative\", \"Negative\", \"Negative\", \"Negative\", \"Negative\", \"Negative\", \"Negative\", \"Negative\", \"Negative\", \"Negative\", \"Negative\", \"Negative\", \"Negative\", \"Negative\", \"Negative\", \"Negative\", \"Negative\", \"Negative\", \"Negative\", \"Negative\", \"Negative\", \"Negative\", \"Negative\", \"Negative\", \"Negative\", \"Negative\", \"Negative\", \"Negative\", \"Negative\", \"Negative\", \"Negative\", \"Negative\", \"Negative\", \"Negative\", \"Negative\", \"Negative\", \"Negative\", \"Negative\", \"Negative\", \"Negative\", \"Negative\", \"Negative\", \"Negative\", \"Negative\", \"Negative\", \"Negative\", \"Negative\", \"Negative\", \"Negative\", \"Negative\", \"Negative\", \"Negative\", \"Negative\", \"Negative\", \"Negative\", \"Negative\", \"Negative\", \"Negative\", \"Negative\", \"Negative\", \"Negative\", \"Negative\", \"Negative\", \"Negative\", \"Negative\", \"Negative\", \"Negative\", \"Negative\", \"Negative\", \"Negative\", \"Negative\", \"Negative\", \"Negative\", \"Negative\", \"Negative\", \"Negative\", \"Negative\", \"Negative\", \"Negative\", \"Negative\", \"Negative\", \"Negative\", \"Negative\", \"Negative\", \"Negative\", \"Negative\", \"Negative\", \"Negative\", \"Negative\", \"Negative\", \"Negative\", \"Negative\", \"Negative\", \"Negative\", \"Negative\", \"Negative\", \"Negative\", \"Negative\", \"Negative\", \"Negative\", \"Negative\", \"Negative\", \"Negative\", \"Negative\", \"Negative\", \"Negative\", \"Negative\", \"Negative\", \"Negative\", \"Negative\", \"Negative\", \"Negative\", \"Negative\", \"Negative\", \"Negative\", \"Negative\", \"Negative\", \"Negative\", \"Negative\", \"Negative\", \"Negative\", \"Negative\", \"Negative\", \"Negative\", \"Negative\", \"Negative\", \"Negative\", \"Negative\", \"Negative\", \"Negative\", \"Negative\", \"Negative\", \"Negative\", \"Negative\", \"Negative\", \"Negative\", \"Negative\", \"Negative\", \"Negative\", \"Negative\", \"Negative\", \"Negative\", \"Negative\", \"Negative\", \"Negative\", \"Negative\", \"Negative\", \"Negative\", \"Negative\", \"Negative\", \"Negative\", \"Negative\", \"Negative\", \"Negative\", \"Negative\", \"Negative\", \"Negative\", \"Negative\", \"Negative\", \"Negative\", \"Negative\", \"Negative\", \"Negative\", \"Negative\", \"Negative\", \"Negative\", \"Negative\", \"Negative\", \"Negative\", \"Negative\", \"Negative\", \"Negative\", \"Negative\", \"Negative\", \"Negative\", \"Negative\", \"Negative\", \"Negative\", \"Negative\", \"Negative\", \"Negative\", \"Negative\", \"Negative\", \"Negative\", \"Negative\", \"Negative\", \"Negative\", \"Negative\", \"Negative\", \"Negative\", \"Negative\", \"Negative\", \"Negative\", \"Negative\", \"Negative\", \"Negative\", \"Negative\", \"Negative\", \"Negative\", \"Negative\", \"Negative\", \"Negative\", \"Negative\", \"Negative\", \"Negative\", \"Negative\", \"Negative\", \"Negative\", \"Negative\", \"Negative\", \"Negative\", \"Negative\", \"Negative\", \"Negative\", \"Negative\", \"Negative\", \"Negative\", \"Negative\", \"Negative\", \"Negative\", \"Negative\", \"Negative\", \"Negative\", \"Negative\", \"Negative\", \"Negative\", \"Negative\", \"Negative\", \"Negative\", \"Negative\", \"Negative\", \"Negative\", \"Negative\", \"Negative\", \"Negative\", \"Negative\", \"Negative\", \"Negative\", \"Negative\", \"Negative\", \"Negative\", \"Negative\", \"Negative\", \"Negative\", \"Negative\", \"Negative\", \"Negative\", \"Negative\", \"Negative\", \"Negative\", \"Negative\", \"Negative\", \"Negative\", \"Negative\", \"Negative\", \"Negative\", \"Negative\", \"Negative\", \"Negative\"], \"xaxis\": \"x\", \"yaxis\": \"y\"}, {\"alignmentgroup\": \"True\", \"bingroup\": \"x\", \"hoverlabel\": {\"namelength\": 0}, \"hovertemplate\": \"Sentiment=%{x}<br>count=%{y}\", \"legendgroup\": \"Sentiment=Neutral\", \"marker\": {\"color\": \"#00cc96\"}, \"name\": \"Sentiment=Neutral\", \"offsetgroup\": \"Sentiment=Neutral\", \"orientation\": \"v\", \"showlegend\": true, \"type\": \"histogram\", \"x\": [\"Neutral\", \"Neutral\", \"Neutral\", \"Neutral\", \"Neutral\", \"Neutral\", \"Neutral\", \"Neutral\", \"Neutral\", \"Neutral\", \"Neutral\", \"Neutral\", \"Neutral\", \"Neutral\", \"Neutral\", \"Neutral\", \"Neutral\", \"Neutral\", \"Neutral\", \"Neutral\", \"Neutral\", \"Neutral\", \"Neutral\", \"Neutral\", \"Neutral\", \"Neutral\", \"Neutral\", \"Neutral\", \"Neutral\", \"Neutral\", \"Neutral\", \"Neutral\", \"Neutral\", \"Neutral\", \"Neutral\", \"Neutral\", \"Neutral\", \"Neutral\", \"Neutral\", \"Neutral\", \"Neutral\", \"Neutral\", \"Neutral\", \"Neutral\", \"Neutral\", \"Neutral\", \"Neutral\", \"Neutral\", \"Neutral\", \"Neutral\", \"Neutral\", \"Neutral\", \"Neutral\", \"Neutral\", \"Neutral\", \"Neutral\", \"Neutral\", \"Neutral\", \"Neutral\", \"Neutral\", \"Neutral\", \"Neutral\", \"Neutral\", \"Neutral\", \"Neutral\", \"Neutral\", \"Neutral\", \"Neutral\", \"Neutral\", \"Neutral\", \"Neutral\", \"Neutral\", \"Neutral\", \"Neutral\", \"Neutral\", \"Neutral\", \"Neutral\", \"Neutral\", \"Neutral\", \"Neutral\", \"Neutral\", \"Neutral\", \"Neutral\", \"Neutral\", \"Neutral\", \"Neutral\", \"Neutral\", \"Neutral\", \"Neutral\", \"Neutral\", \"Neutral\", \"Neutral\", \"Neutral\", \"Neutral\", \"Neutral\", \"Neutral\", \"Neutral\", \"Neutral\", \"Neutral\", \"Neutral\", \"Neutral\", \"Neutral\", \"Neutral\", \"Neutral\", \"Neutral\", \"Neutral\", \"Neutral\", \"Neutral\", \"Neutral\", \"Neutral\", \"Neutral\", \"Neutral\", \"Neutral\", \"Neutral\", \"Neutral\", \"Neutral\", \"Neutral\", \"Neutral\", \"Neutral\", \"Neutral\", \"Neutral\", \"Neutral\", \"Neutral\", \"Neutral\", \"Neutral\", \"Neutral\", \"Neutral\", \"Neutral\", \"Neutral\", \"Neutral\", \"Neutral\", \"Neutral\", \"Neutral\", \"Neutral\", \"Neutral\", \"Neutral\", \"Neutral\", \"Neutral\", \"Neutral\", \"Neutral\", \"Neutral\", \"Neutral\", \"Neutral\", \"Neutral\", \"Neutral\", \"Neutral\", \"Neutral\", \"Neutral\", \"Neutral\", \"Neutral\", \"Neutral\", \"Neutral\", \"Neutral\", \"Neutral\", \"Neutral\", \"Neutral\", \"Neutral\", \"Neutral\", \"Neutral\", \"Neutral\", \"Neutral\", \"Neutral\", \"Neutral\", \"Neutral\", \"Neutral\", \"Neutral\", \"Neutral\", \"Neutral\", \"Neutral\", \"Neutral\", \"Neutral\", \"Neutral\", \"Neutral\", \"Neutral\", \"Neutral\", \"Neutral\", \"Neutral\", \"Neutral\", \"Neutral\", \"Neutral\", \"Neutral\", \"Neutral\", \"Neutral\", \"Neutral\", \"Neutral\", \"Neutral\", \"Neutral\", \"Neutral\", \"Neutral\", \"Neutral\", \"Neutral\", \"Neutral\", \"Neutral\", \"Neutral\", \"Neutral\", \"Neutral\", \"Neutral\", \"Neutral\", \"Neutral\", \"Neutral\", \"Neutral\", \"Neutral\", \"Neutral\", \"Neutral\", \"Neutral\", \"Neutral\", \"Neutral\", \"Neutral\", \"Neutral\", \"Neutral\", \"Neutral\", \"Neutral\", \"Neutral\", \"Neutral\", \"Neutral\", \"Neutral\", \"Neutral\", \"Neutral\", \"Neutral\", \"Neutral\", \"Neutral\", \"Neutral\", \"Neutral\", \"Neutral\", \"Neutral\", \"Neutral\", \"Neutral\", \"Neutral\", \"Neutral\", \"Neutral\", \"Neutral\", \"Neutral\", \"Neutral\", \"Neutral\", \"Neutral\", \"Neutral\", \"Neutral\", \"Neutral\", \"Neutral\", \"Neutral\", \"Neutral\", \"Neutral\", \"Neutral\", \"Neutral\", \"Neutral\", \"Neutral\", \"Neutral\", \"Neutral\", \"Neutral\", \"Neutral\", \"Neutral\", \"Neutral\", \"Neutral\", \"Neutral\", \"Neutral\", \"Neutral\", \"Neutral\", \"Neutral\", \"Neutral\", \"Neutral\", \"Neutral\", \"Neutral\", \"Neutral\", \"Neutral\", \"Neutral\", \"Neutral\", \"Neutral\", \"Neutral\", \"Neutral\", \"Neutral\", \"Neutral\", \"Neutral\", \"Neutral\", \"Neutral\", \"Neutral\", \"Neutral\", \"Neutral\", \"Neutral\", \"Neutral\", \"Neutral\", \"Neutral\", \"Neutral\", \"Neutral\", \"Neutral\", \"Neutral\", \"Neutral\", \"Neutral\", \"Neutral\", \"Neutral\", \"Neutral\", \"Neutral\", \"Neutral\", \"Neutral\", \"Neutral\", \"Neutral\", \"Neutral\", \"Neutral\", \"Neutral\", \"Neutral\", \"Neutral\", \"Neutral\", \"Neutral\", \"Neutral\", \"Neutral\", \"Neutral\", \"Neutral\", \"Neutral\", \"Neutral\", \"Neutral\", \"Neutral\", \"Neutral\", \"Neutral\", \"Neutral\", \"Neutral\", \"Neutral\", \"Neutral\", \"Neutral\", \"Neutral\", \"Neutral\", \"Neutral\", \"Neutral\", \"Neutral\", \"Neutral\", \"Neutral\", \"Neutral\", \"Neutral\", \"Neutral\", \"Neutral\", \"Neutral\", \"Neutral\", \"Neutral\", \"Neutral\", \"Neutral\", \"Neutral\", \"Neutral\", \"Neutral\", \"Neutral\", \"Neutral\", \"Neutral\", \"Neutral\", \"Neutral\", \"Neutral\", \"Neutral\", \"Neutral\", \"Neutral\", \"Neutral\", \"Neutral\", \"Neutral\", \"Neutral\", \"Neutral\", \"Neutral\", \"Neutral\", \"Neutral\", \"Neutral\", \"Neutral\", \"Neutral\", \"Neutral\", \"Neutral\", \"Neutral\", \"Neutral\", \"Neutral\", \"Neutral\", \"Neutral\", \"Neutral\", \"Neutral\", \"Neutral\", \"Neutral\", \"Neutral\", \"Neutral\", \"Neutral\", \"Neutral\", \"Neutral\", \"Neutral\", \"Neutral\", \"Neutral\", \"Neutral\", \"Neutral\", \"Neutral\", \"Neutral\", \"Neutral\", \"Neutral\", \"Neutral\", \"Neutral\", \"Neutral\", \"Neutral\", \"Neutral\", \"Neutral\", \"Neutral\", \"Neutral\", \"Neutral\", \"Neutral\", \"Neutral\", \"Neutral\", \"Neutral\", \"Neutral\", \"Neutral\", \"Neutral\", \"Neutral\", \"Neutral\", \"Neutral\", \"Neutral\", \"Neutral\", \"Neutral\", \"Neutral\", \"Neutral\", \"Neutral\", \"Neutral\", \"Neutral\", \"Neutral\", \"Neutral\", \"Neutral\", \"Neutral\", \"Neutral\", \"Neutral\", \"Neutral\", \"Neutral\", \"Neutral\", \"Neutral\", \"Neutral\", \"Neutral\", \"Neutral\", \"Neutral\", \"Neutral\", \"Neutral\", \"Neutral\", \"Neutral\", \"Neutral\", \"Neutral\", \"Neutral\", \"Neutral\", \"Neutral\", \"Neutral\", \"Neutral\", \"Neutral\", \"Neutral\", \"Neutral\", \"Neutral\", \"Neutral\", \"Neutral\", \"Neutral\", \"Neutral\", \"Neutral\", \"Neutral\", \"Neutral\", \"Neutral\", \"Neutral\", \"Neutral\", \"Neutral\", \"Neutral\", \"Neutral\", \"Neutral\", \"Neutral\", \"Neutral\", \"Neutral\", \"Neutral\", \"Neutral\", \"Neutral\", \"Neutral\", \"Neutral\", \"Neutral\", \"Neutral\", \"Neutral\", \"Neutral\", \"Neutral\", \"Neutral\", \"Neutral\", \"Neutral\", \"Neutral\", \"Neutral\", \"Neutral\", \"Neutral\", \"Neutral\", \"Neutral\", \"Neutral\", \"Neutral\", \"Neutral\", \"Neutral\", \"Neutral\", \"Neutral\", \"Neutral\", \"Neutral\", \"Neutral\", \"Neutral\", \"Neutral\", \"Neutral\", \"Neutral\", \"Neutral\", \"Neutral\", \"Neutral\", \"Neutral\", \"Neutral\", \"Neutral\", \"Neutral\", \"Neutral\", \"Neutral\", \"Neutral\", \"Neutral\", \"Neutral\", \"Neutral\", \"Neutral\", \"Neutral\", \"Neutral\", \"Neutral\", \"Neutral\", \"Neutral\", \"Neutral\", \"Neutral\", \"Neutral\", \"Neutral\", \"Neutral\", \"Neutral\", \"Neutral\", \"Neutral\", \"Neutral\", \"Neutral\", \"Neutral\", \"Neutral\", \"Neutral\", \"Neutral\", \"Neutral\", \"Neutral\", \"Neutral\", \"Neutral\", \"Neutral\", \"Neutral\", \"Neutral\", \"Neutral\", \"Neutral\", \"Neutral\", \"Neutral\", \"Neutral\", \"Neutral\", \"Neutral\", \"Neutral\", \"Neutral\", \"Neutral\", \"Neutral\", \"Neutral\", \"Neutral\", \"Neutral\", \"Neutral\", \"Neutral\", \"Neutral\", \"Neutral\", \"Neutral\", \"Neutral\", \"Neutral\", \"Neutral\", \"Neutral\", \"Neutral\", \"Neutral\", \"Neutral\", \"Neutral\", \"Neutral\", \"Neutral\", \"Neutral\", \"Neutral\", \"Neutral\", \"Neutral\", \"Neutral\", \"Neutral\", \"Neutral\", \"Neutral\", \"Neutral\", \"Neutral\", \"Neutral\", \"Neutral\", \"Neutral\", \"Neutral\", \"Neutral\", \"Neutral\", \"Neutral\", \"Neutral\", \"Neutral\", \"Neutral\", \"Neutral\", \"Neutral\", \"Neutral\", \"Neutral\", \"Neutral\", \"Neutral\", \"Neutral\", \"Neutral\", \"Neutral\", \"Neutral\", \"Neutral\", \"Neutral\", \"Neutral\", \"Neutral\", \"Neutral\", \"Neutral\", \"Neutral\", \"Neutral\", \"Neutral\", \"Neutral\", \"Neutral\", \"Neutral\", \"Neutral\", \"Neutral\", \"Neutral\", \"Neutral\", \"Neutral\", \"Neutral\", \"Neutral\", \"Neutral\", \"Neutral\", \"Neutral\", \"Neutral\", \"Neutral\", \"Neutral\", \"Neutral\", \"Neutral\", \"Neutral\", \"Neutral\", \"Neutral\", \"Neutral\", \"Neutral\", \"Neutral\", \"Neutral\", \"Neutral\", \"Neutral\", \"Neutral\", \"Neutral\", \"Neutral\", \"Neutral\", \"Neutral\", \"Neutral\", \"Neutral\", \"Neutral\", \"Neutral\", \"Neutral\", \"Neutral\", \"Neutral\", \"Neutral\", \"Neutral\", \"Neutral\", \"Neutral\", \"Neutral\", \"Neutral\", \"Neutral\", \"Neutral\", \"Neutral\", \"Neutral\", \"Neutral\", \"Neutral\", \"Neutral\", \"Neutral\", \"Neutral\", \"Neutral\", \"Neutral\", \"Neutral\", \"Neutral\", \"Neutral\", \"Neutral\", \"Neutral\", \"Neutral\", \"Neutral\", \"Neutral\", \"Neutral\", \"Neutral\", \"Neutral\", \"Neutral\", \"Neutral\", \"Neutral\", \"Neutral\", \"Neutral\", \"Neutral\", \"Neutral\", \"Neutral\", \"Neutral\", \"Neutral\", \"Neutral\", \"Neutral\", \"Neutral\", \"Neutral\", \"Neutral\", \"Neutral\", \"Neutral\", \"Neutral\", \"Neutral\", \"Neutral\", \"Neutral\", \"Neutral\", \"Neutral\", \"Neutral\", \"Neutral\", \"Neutral\", \"Neutral\", \"Neutral\", \"Neutral\", \"Neutral\", \"Neutral\", \"Neutral\", \"Neutral\", \"Neutral\", \"Neutral\", \"Neutral\", \"Neutral\", \"Neutral\", \"Neutral\", \"Neutral\", \"Neutral\", \"Neutral\", \"Neutral\", \"Neutral\", \"Neutral\", \"Neutral\", \"Neutral\", \"Neutral\", \"Neutral\", \"Neutral\", \"Neutral\", \"Neutral\", \"Neutral\", \"Neutral\", \"Neutral\", \"Neutral\", \"Neutral\", \"Neutral\", \"Neutral\", \"Neutral\", \"Neutral\", \"Neutral\", \"Neutral\", \"Neutral\", \"Neutral\", \"Neutral\", \"Neutral\", \"Neutral\", \"Neutral\", \"Neutral\", \"Neutral\", \"Neutral\", \"Neutral\", \"Neutral\", \"Neutral\", \"Neutral\", \"Neutral\", \"Neutral\", \"Neutral\", \"Neutral\", \"Neutral\", \"Neutral\", \"Neutral\", \"Neutral\", \"Neutral\", \"Neutral\", \"Neutral\", \"Neutral\", \"Neutral\", \"Neutral\", \"Neutral\", \"Neutral\", \"Neutral\", \"Neutral\", \"Neutral\", \"Neutral\", \"Neutral\", \"Neutral\", \"Neutral\", \"Neutral\", \"Neutral\", \"Neutral\", \"Neutral\", \"Neutral\", \"Neutral\", \"Neutral\", \"Neutral\", \"Neutral\", \"Neutral\", \"Neutral\", \"Neutral\", \"Neutral\", \"Neutral\", \"Neutral\", \"Neutral\", \"Neutral\", \"Neutral\", \"Neutral\", \"Neutral\", \"Neutral\", \"Neutral\", \"Neutral\", \"Neutral\", \"Neutral\", \"Neutral\", \"Neutral\", \"Neutral\", \"Neutral\", \"Neutral\", \"Neutral\", \"Neutral\", \"Neutral\", \"Neutral\", \"Neutral\", \"Neutral\", \"Neutral\", \"Neutral\", \"Neutral\", \"Neutral\", \"Neutral\", \"Neutral\", \"Neutral\", \"Neutral\", \"Neutral\", \"Neutral\", \"Neutral\", \"Neutral\", \"Neutral\", \"Neutral\", \"Neutral\", \"Neutral\", \"Neutral\", \"Neutral\", \"Neutral\", \"Neutral\", \"Neutral\", \"Neutral\", \"Neutral\", \"Neutral\", \"Neutral\", \"Neutral\", \"Neutral\", \"Neutral\", \"Neutral\", \"Neutral\", \"Neutral\", \"Neutral\", \"Neutral\", \"Neutral\", \"Neutral\", \"Neutral\", \"Neutral\", \"Neutral\", \"Neutral\", \"Neutral\", \"Neutral\", \"Neutral\", \"Neutral\", \"Neutral\", \"Neutral\", \"Neutral\", \"Neutral\", \"Neutral\", \"Neutral\", \"Neutral\", \"Neutral\", \"Neutral\", \"Neutral\", \"Neutral\", \"Neutral\", \"Neutral\", \"Neutral\", \"Neutral\", \"Neutral\", \"Neutral\", \"Neutral\", \"Neutral\", \"Neutral\", \"Neutral\", \"Neutral\", \"Neutral\", \"Neutral\", \"Neutral\", \"Neutral\", \"Neutral\", \"Neutral\", \"Neutral\", \"Neutral\", \"Neutral\", \"Neutral\", \"Neutral\", \"Neutral\", \"Neutral\", \"Neutral\", \"Neutral\", \"Neutral\", \"Neutral\", \"Neutral\", \"Neutral\", \"Neutral\", \"Neutral\", \"Neutral\", \"Neutral\", \"Neutral\", \"Neutral\", \"Neutral\", \"Neutral\", \"Neutral\", \"Neutral\", \"Neutral\", \"Neutral\", \"Neutral\", \"Neutral\", \"Neutral\", \"Neutral\", \"Neutral\", \"Neutral\", \"Neutral\", \"Neutral\", \"Neutral\", \"Neutral\", \"Neutral\", \"Neutral\", \"Neutral\", \"Neutral\", \"Neutral\", \"Neutral\", \"Neutral\", \"Neutral\", \"Neutral\", \"Neutral\", \"Neutral\", \"Neutral\", \"Neutral\"], \"xaxis\": \"x\", \"yaxis\": \"y\"}],\n",
              "                        {\"bargap\": 0.2, \"bargroupgap\": 0.1, \"barmode\": \"relative\", \"legend\": {\"tracegroupgap\": 0}, \"margin\": {\"t\": 60}, \"template\": {\"data\": {\"bar\": [{\"error_x\": {\"color\": \"#2a3f5f\"}, \"error_y\": {\"color\": \"#2a3f5f\"}, \"marker\": {\"line\": {\"color\": \"#E5ECF6\", \"width\": 0.5}}, \"type\": \"bar\"}], \"barpolar\": [{\"marker\": {\"line\": {\"color\": \"#E5ECF6\", \"width\": 0.5}}, \"type\": \"barpolar\"}], \"carpet\": [{\"aaxis\": {\"endlinecolor\": \"#2a3f5f\", \"gridcolor\": \"white\", \"linecolor\": \"white\", \"minorgridcolor\": \"white\", \"startlinecolor\": \"#2a3f5f\"}, \"baxis\": {\"endlinecolor\": \"#2a3f5f\", \"gridcolor\": \"white\", \"linecolor\": \"white\", \"minorgridcolor\": \"white\", \"startlinecolor\": \"#2a3f5f\"}, \"type\": \"carpet\"}], \"choropleth\": [{\"colorbar\": {\"outlinewidth\": 0, \"ticks\": \"\"}, \"type\": \"choropleth\"}], \"contour\": [{\"colorbar\": {\"outlinewidth\": 0, \"ticks\": \"\"}, \"colorscale\": [[0.0, \"#0d0887\"], [0.1111111111111111, \"#46039f\"], [0.2222222222222222, \"#7201a8\"], [0.3333333333333333, \"#9c179e\"], [0.4444444444444444, \"#bd3786\"], [0.5555555555555556, \"#d8576b\"], [0.6666666666666666, \"#ed7953\"], [0.7777777777777778, \"#fb9f3a\"], [0.8888888888888888, \"#fdca26\"], [1.0, \"#f0f921\"]], \"type\": \"contour\"}], \"contourcarpet\": [{\"colorbar\": {\"outlinewidth\": 0, \"ticks\": \"\"}, \"type\": \"contourcarpet\"}], \"heatmap\": [{\"colorbar\": {\"outlinewidth\": 0, \"ticks\": \"\"}, \"colorscale\": [[0.0, \"#0d0887\"], [0.1111111111111111, \"#46039f\"], [0.2222222222222222, \"#7201a8\"], [0.3333333333333333, \"#9c179e\"], [0.4444444444444444, \"#bd3786\"], [0.5555555555555556, \"#d8576b\"], [0.6666666666666666, \"#ed7953\"], [0.7777777777777778, \"#fb9f3a\"], [0.8888888888888888, \"#fdca26\"], [1.0, \"#f0f921\"]], \"type\": \"heatmap\"}], \"heatmapgl\": [{\"colorbar\": {\"outlinewidth\": 0, \"ticks\": \"\"}, \"colorscale\": [[0.0, \"#0d0887\"], [0.1111111111111111, \"#46039f\"], [0.2222222222222222, \"#7201a8\"], [0.3333333333333333, \"#9c179e\"], [0.4444444444444444, \"#bd3786\"], [0.5555555555555556, \"#d8576b\"], [0.6666666666666666, \"#ed7953\"], [0.7777777777777778, \"#fb9f3a\"], [0.8888888888888888, \"#fdca26\"], [1.0, \"#f0f921\"]], \"type\": \"heatmapgl\"}], \"histogram\": [{\"marker\": {\"colorbar\": {\"outlinewidth\": 0, \"ticks\": \"\"}}, \"type\": \"histogram\"}], \"histogram2d\": [{\"colorbar\": {\"outlinewidth\": 0, \"ticks\": \"\"}, \"colorscale\": [[0.0, \"#0d0887\"], [0.1111111111111111, \"#46039f\"], [0.2222222222222222, \"#7201a8\"], [0.3333333333333333, \"#9c179e\"], [0.4444444444444444, \"#bd3786\"], [0.5555555555555556, \"#d8576b\"], [0.6666666666666666, \"#ed7953\"], [0.7777777777777778, \"#fb9f3a\"], [0.8888888888888888, \"#fdca26\"], [1.0, \"#f0f921\"]], \"type\": \"histogram2d\"}], \"histogram2dcontour\": [{\"colorbar\": {\"outlinewidth\": 0, \"ticks\": \"\"}, \"colorscale\": [[0.0, \"#0d0887\"], [0.1111111111111111, \"#46039f\"], [0.2222222222222222, \"#7201a8\"], [0.3333333333333333, \"#9c179e\"], [0.4444444444444444, \"#bd3786\"], [0.5555555555555556, \"#d8576b\"], [0.6666666666666666, \"#ed7953\"], [0.7777777777777778, \"#fb9f3a\"], [0.8888888888888888, \"#fdca26\"], [1.0, \"#f0f921\"]], \"type\": \"histogram2dcontour\"}], \"mesh3d\": [{\"colorbar\": {\"outlinewidth\": 0, \"ticks\": \"\"}, \"type\": \"mesh3d\"}], \"parcoords\": [{\"line\": {\"colorbar\": {\"outlinewidth\": 0, \"ticks\": \"\"}}, \"type\": \"parcoords\"}], \"pie\": [{\"automargin\": true, \"type\": \"pie\"}], \"scatter\": [{\"marker\": {\"colorbar\": {\"outlinewidth\": 0, \"ticks\": \"\"}}, \"type\": \"scatter\"}], \"scatter3d\": [{\"line\": {\"colorbar\": {\"outlinewidth\": 0, \"ticks\": \"\"}}, \"marker\": {\"colorbar\": {\"outlinewidth\": 0, \"ticks\": \"\"}}, \"type\": \"scatter3d\"}], \"scattercarpet\": [{\"marker\": {\"colorbar\": {\"outlinewidth\": 0, \"ticks\": \"\"}}, \"type\": \"scattercarpet\"}], \"scattergeo\": [{\"marker\": {\"colorbar\": {\"outlinewidth\": 0, \"ticks\": \"\"}}, \"type\": \"scattergeo\"}], \"scattergl\": [{\"marker\": {\"colorbar\": {\"outlinewidth\": 0, \"ticks\": \"\"}}, \"type\": \"scattergl\"}], \"scattermapbox\": [{\"marker\": {\"colorbar\": {\"outlinewidth\": 0, \"ticks\": \"\"}}, \"type\": \"scattermapbox\"}], \"scatterpolar\": [{\"marker\": {\"colorbar\": {\"outlinewidth\": 0, \"ticks\": \"\"}}, \"type\": \"scatterpolar\"}], \"scatterpolargl\": [{\"marker\": {\"colorbar\": {\"outlinewidth\": 0, \"ticks\": \"\"}}, \"type\": \"scatterpolargl\"}], \"scatterternary\": [{\"marker\": {\"colorbar\": {\"outlinewidth\": 0, \"ticks\": \"\"}}, \"type\": \"scatterternary\"}], \"surface\": [{\"colorbar\": {\"outlinewidth\": 0, \"ticks\": \"\"}, \"colorscale\": [[0.0, \"#0d0887\"], [0.1111111111111111, \"#46039f\"], [0.2222222222222222, \"#7201a8\"], [0.3333333333333333, \"#9c179e\"], [0.4444444444444444, \"#bd3786\"], [0.5555555555555556, \"#d8576b\"], [0.6666666666666666, \"#ed7953\"], [0.7777777777777778, \"#fb9f3a\"], [0.8888888888888888, \"#fdca26\"], [1.0, \"#f0f921\"]], \"type\": \"surface\"}], \"table\": [{\"cells\": {\"fill\": {\"color\": \"#EBF0F8\"}, \"line\": {\"color\": \"white\"}}, \"header\": {\"fill\": {\"color\": \"#C8D4E3\"}, \"line\": {\"color\": \"white\"}}, \"type\": \"table\"}]}, \"layout\": {\"annotationdefaults\": {\"arrowcolor\": \"#2a3f5f\", \"arrowhead\": 0, \"arrowwidth\": 1}, \"coloraxis\": {\"colorbar\": {\"outlinewidth\": 0, \"ticks\": \"\"}}, \"colorscale\": {\"diverging\": [[0, \"#8e0152\"], [0.1, \"#c51b7d\"], [0.2, \"#de77ae\"], [0.3, \"#f1b6da\"], [0.4, \"#fde0ef\"], [0.5, \"#f7f7f7\"], [0.6, \"#e6f5d0\"], [0.7, \"#b8e186\"], [0.8, \"#7fbc41\"], [0.9, \"#4d9221\"], [1, \"#276419\"]], \"sequential\": [[0.0, \"#0d0887\"], [0.1111111111111111, \"#46039f\"], [0.2222222222222222, \"#7201a8\"], [0.3333333333333333, \"#9c179e\"], [0.4444444444444444, \"#bd3786\"], [0.5555555555555556, \"#d8576b\"], [0.6666666666666666, \"#ed7953\"], [0.7777777777777778, \"#fb9f3a\"], [0.8888888888888888, \"#fdca26\"], [1.0, \"#f0f921\"]], \"sequentialminus\": [[0.0, \"#0d0887\"], [0.1111111111111111, \"#46039f\"], [0.2222222222222222, \"#7201a8\"], [0.3333333333333333, \"#9c179e\"], [0.4444444444444444, \"#bd3786\"], [0.5555555555555556, \"#d8576b\"], [0.6666666666666666, \"#ed7953\"], [0.7777777777777778, \"#fb9f3a\"], [0.8888888888888888, \"#fdca26\"], [1.0, \"#f0f921\"]]}, \"colorway\": [\"#636efa\", \"#EF553B\", \"#00cc96\", \"#ab63fa\", \"#FFA15A\", \"#19d3f3\", \"#FF6692\", \"#B6E880\", \"#FF97FF\", \"#FECB52\"], \"font\": {\"color\": \"#2a3f5f\"}, \"geo\": {\"bgcolor\": \"white\", \"lakecolor\": \"white\", \"landcolor\": \"#E5ECF6\", \"showlakes\": true, \"showland\": true, \"subunitcolor\": \"white\"}, \"hoverlabel\": {\"align\": \"left\"}, \"hovermode\": \"closest\", \"mapbox\": {\"style\": \"light\"}, \"paper_bgcolor\": \"white\", \"plot_bgcolor\": \"#E5ECF6\", \"polar\": {\"angularaxis\": {\"gridcolor\": \"white\", \"linecolor\": \"white\", \"ticks\": \"\"}, \"bgcolor\": \"#E5ECF6\", \"radialaxis\": {\"gridcolor\": \"white\", \"linecolor\": \"white\", \"ticks\": \"\"}}, \"scene\": {\"xaxis\": {\"backgroundcolor\": \"#E5ECF6\", \"gridcolor\": \"white\", \"gridwidth\": 2, \"linecolor\": \"white\", \"showbackground\": true, \"ticks\": \"\", \"zerolinecolor\": \"white\"}, \"yaxis\": {\"backgroundcolor\": \"#E5ECF6\", \"gridcolor\": \"white\", \"gridwidth\": 2, \"linecolor\": \"white\", \"showbackground\": true, \"ticks\": \"\", \"zerolinecolor\": \"white\"}, \"zaxis\": {\"backgroundcolor\": \"#E5ECF6\", \"gridcolor\": \"white\", \"gridwidth\": 2, \"linecolor\": \"white\", \"showbackground\": true, \"ticks\": \"\", \"zerolinecolor\": \"white\"}}, \"shapedefaults\": {\"line\": {\"color\": \"#2a3f5f\"}}, \"ternary\": {\"aaxis\": {\"gridcolor\": \"white\", \"linecolor\": \"white\", \"ticks\": \"\"}, \"baxis\": {\"gridcolor\": \"white\", \"linecolor\": \"white\", \"ticks\": \"\"}, \"bgcolor\": \"#E5ECF6\", \"caxis\": {\"gridcolor\": \"white\", \"linecolor\": \"white\", \"ticks\": \"\"}}, \"title\": {\"x\": 0.05}, \"xaxis\": {\"automargin\": true, \"gridcolor\": \"white\", \"linecolor\": \"white\", \"ticks\": \"\", \"title\": {\"standoff\": 15}, \"zerolinecolor\": \"white\", \"zerolinewidth\": 2}, \"yaxis\": {\"automargin\": true, \"gridcolor\": \"white\", \"linecolor\": \"white\", \"ticks\": \"\", \"title\": {\"standoff\": 15}, \"zerolinecolor\": \"white\", \"zerolinewidth\": 2}}}, \"title\": {\"text\": \"Sentiment of reviews\"}, \"xaxis\": {\"anchor\": \"y\", \"categoryarray\": [\"Positive\", \"Negative\", \"Neutral\"], \"categoryorder\": \"array\", \"domain\": [0.0, 1.0], \"title\": {\"text\": \"Sentiment\"}}, \"yaxis\": {\"anchor\": \"x\", \"domain\": [0.0, 1.0], \"title\": {\"text\": \"Count\"}}},\n",
              "                        {\"responsive\": true}\n",
              "                    ).then(function(){\n",
              "                            \n",
              "var gd = document.getElementById('1eb0a8ad-5f52-42ec-b091-635cee6e4b85');\n",
              "var x = new MutationObserver(function (mutations, observer) {{\n",
              "        var display = window.getComputedStyle(gd).display;\n",
              "        if (!display || display === 'none') {{\n",
              "            console.log([gd, 'removed!']);\n",
              "            Plotly.purge(gd);\n",
              "            observer.disconnect();\n",
              "        }}\n",
              "}});\n",
              "\n",
              "// Listen for the removal of the full notebook cells\n",
              "var notebookContainer = gd.closest('#notebook-container');\n",
              "if (notebookContainer) {{\n",
              "    x.observe(notebookContainer, {childList: true});\n",
              "}}\n",
              "\n",
              "// Listen for the clearing of the current output cell\n",
              "var outputEl = gd.closest('.output');\n",
              "if (outputEl) {{\n",
              "    x.observe(outputEl, {childList: true});\n",
              "}}\n",
              "\n",
              "                        })\n",
              "                };\n",
              "                \n",
              "            </script>\n",
              "        </div>\n",
              "</body>\n",
              "</html>"
            ]
          },
          "metadata": {
            "tags": []
          }
        }
      ]
    },
    {
      "cell_type": "markdown",
      "metadata": {
        "id": "Gi2GOvhGq6gu"
      },
      "source": [
        "## Visualize DataSet"
      ]
    },
    {
      "cell_type": "code",
      "metadata": {
        "id": "E2Oeste5q_9f",
        "colab": {
          "base_uri": "https://localhost:8080/",
          "height": 295
        },
        "outputId": "7b01fd25-fea4-4bf4-8697-1193a83f99c0"
      },
      "source": [
        "def visualize_data():\n",
        "  col = np.where(ds['Sentiment'] == 'Positive','g',np.where(ds['Sentiment'] == 'Negative','r','b'))\n",
        "  fig, ax = plt.subplots()\n",
        "  scatter = ax.scatter(ds['Polarity'],ds['Subjectivity'], c = col)\n",
        "  \n",
        "  ax.set_title('Sentiment Analysis')\n",
        "  ax.set_xlabel('Polarity')\n",
        "  ax.set_ylabel('Subjectivity')\n",
        "\n",
        "\n",
        "visualize_data()\n",
        "\n"
      ],
      "execution_count": null,
      "outputs": [
        {
          "output_type": "display_data",
          "data": {
            "image/png": "[encoded data removed]",
            "text/plain": [
              "<Figure size 432x288 with 1 Axes>"
            ]
          },
          "metadata": {
            "tags": [],
            "needs_background": "light"
          }
        }
      ]
    },
    {
      "cell_type": "markdown",
      "metadata": {
        "id": "chIqTm11yksu"
      },
      "source": [
        "# Part 04 : Build ML-Models "
      ]
    },
    {
      "cell_type": "code",
      "metadata": {
        "id": "jmrABMHtytjc",
        "colab": {
          "base_uri": "https://localhost:8080/"
        },
        "outputId": "29fe885c-2480-4863-9e6e-51d95856a256"
      },
      "source": [
        "from sklearn.model_selection import train_test_split,cross_val_score\n",
        "from sklearn.svm import SVC\n",
        "from sklearn.model_selection import GridSearchCV\n",
        "from sklearn.pipeline import make_pipeline\n",
        "from sklearn.metrics import accuracy_score, confusion_matrix\n",
        "\n",
        "\n",
        "df = mx_rev.drop('Title',axis = 1) \n",
        "X_train , X_test , y_train , y_test = train_test_split(df,y,test_size = 0.2)\n",
        "\n",
        "\n",
        "params = {\n",
        "    'kernel' : ['poly','rbf'],\n",
        "    'C' : [1,2,5,10,20,50,100,200,1000,2000,5000],\n",
        "    'gamma' : [1e-1,1e-2,1e-3, 1e-4,1e-5],\n",
        "    'degree' : [2,3],\n",
        "    'decision_function_shape' : ['ovo','ovr'],\n",
        "\n",
        "}\n",
        "\n",
        "params = {\n",
        "    'kernel' : ['rbf'],\n",
        "    'C' : [1000,2000,5000],\n",
        "    'gamma' : [1e-1,1e-2,1e-3, 1e-4,1e-5],\n",
        "    'decision_function_shape' : ['ovo','ovr'],\n",
        "}\n",
        "\n",
        "params = {\n",
        "    'kernel' : ['rbf'],\n",
        "    'C' : [1000,2000,5000],\n",
        "    'gamma' : [1e-3, 1e-4],\n",
        "    'decision_function_shape' : ['ovo','ovr'],\n",
        "}\n",
        "\n",
        "svm = SVC()\n",
        "grid = GridSearchCV(svm,param_grid = params)\n",
        "\n",
        "svm = SVC(kernel='rbf', gamma= 0.001 , decision_function_shape='ovo', C= 1000)\n",
        "svm.fit(X_train,y_train)\n",
        "\n",
        "\n",
        "\n"
      ],
      "execution_count": null,
      "outputs": [
        {
          "output_type": "execute_result",
          "data": {
            "text/plain": [
              "SVC(C=1000, break_ties=False, cache_size=200, class_weight=None, coef0=0.0,\n",
              "    decision_function_shape='ovo', degree=3, gamma=0.001, kernel='rbf',\n",
              "    max_iter=-1, probability=False, random_state=None, shrinking=True,\n",
              "    tol=0.001, verbose=False)"
            ]
          },
          "metadata": {
            "tags": []
          },
          "execution_count": 55
        }
      ]
    },
    {
      "cell_type": "code",
      "metadata": {
        "id": "XoFTwYkP16Gm",
        "colab": {
          "base_uri": "https://localhost:8080/"
        },
        "outputId": "f03d2b2f-97af-44af-896c-a894f2bf8211"
      },
      "source": [
        "y_pred = svm.predict(X_test)\n",
        "\n",
        "print('accuracy %s' % accuracy_score(y_pred, y_test))\n",
        "print(classification_report(y_test, y_pred))"
      ],
      "execution_count": null,
      "outputs": [
        {
          "output_type": "stream",
          "text": [
            "accuracy 0.8673535093367676\n",
            "              precision    recall  f1-score   support\n",
            "\n",
            "          -1       0.64      0.42      0.51       171\n",
            "           0       0.77      0.70      0.73       173\n",
            "           1       0.90      0.95      0.93      1209\n",
            "\n",
            "    accuracy                           0.87      1553\n",
            "   macro avg       0.77      0.69      0.72      1553\n",
            "weighted avg       0.86      0.87      0.86      1553\n",
            "\n"
          ],
          "name": "stdout"
        }
      ]
    },
    {
      "cell_type": "markdown",
      "metadata": {
        "id": "GJzxA708mgT_"
      },
      "source": [
        "# KNN Model \n"
      ]
    },
    {
      "cell_type": "code",
      "metadata": {
        "id": "cUfiSjRvm8or",
        "colab": {
          "base_uri": "https://localhost:8080/"
        },
        "outputId": "bcdeae87-5cea-47e3-ce9b-b80a000f011f"
      },
      "source": [
        "from sklearn.neighbors import KNeighborsClassifier\n",
        "\n",
        "\n",
        "knn = KNeighborsClassifier(n_neighbors=3)\n",
        "knn.fit(X_train,y_train)"
      ],
      "execution_count": null,
      "outputs": [
        {
          "output_type": "execute_result",
          "data": {
            "text/plain": [
              "KNeighborsClassifier(algorithm='auto', leaf_size=30, metric='minkowski',\n",
              "                     metric_params=None, n_jobs=None, n_neighbors=3, p=2,\n",
              "                     weights='uniform')"
            ]
          },
          "metadata": {
            "tags": []
          },
          "execution_count": 17
        }
      ]
    },
    {
      "cell_type": "code",
      "metadata": {
        "id": "PUIGAh4EnRW7",
        "colab": {
          "base_uri": "https://localhost:8080/"
        },
        "outputId": "11a150a1-b802-432b-f3e9-4928563205b7"
      },
      "source": [
        "knn.score(X_test,y_test)"
      ],
      "execution_count": null,
      "outputs": [
        {
          "output_type": "execute_result",
          "data": {
            "text/plain": [
              "0.7160334835801674"
            ]
          },
          "metadata": {
            "tags": []
          },
          "execution_count": 18
        }
      ]
    },
    {
      "cell_type": "markdown",
      "metadata": {
        "id": "FgSgzXtnqzP1"
      },
      "source": [
        "# Logistic Regression Model\n"
      ]
    },
    {
      "cell_type": "code",
      "metadata": {
        "id": "bo61qs9Tq4ZQ",
        "colab": {
          "base_uri": "https://localhost:8080/"
        },
        "outputId": "3c2f647e-802e-4764-bcba-e42de188a3aa"
      },
      "source": [
        "from sklearn.linear_model import LogisticRegression\n",
        "\n",
        "model_log_regression = LogisticRegression(multi_class='multinomial', solver='lbfgs', penalty='l2', C=1.0)\n",
        "model_log_regression.fit(X_train,y_train)\n"
      ],
      "execution_count": null,
      "outputs": [
        {
          "output_type": "execute_result",
          "data": {
            "text/plain": [
              "LogisticRegression(C=1.0, class_weight=None, dual=False, fit_intercept=True,\n",
              "                   intercept_scaling=1, l1_ratio=None, max_iter=100,\n",
              "                   multi_class='multinomial', n_jobs=None, penalty='l2',\n",
              "                   random_state=None, solver='lbfgs', tol=0.0001, verbose=0,\n",
              "                   warm_start=False)"
            ]
          },
          "metadata": {
            "tags": []
          },
          "execution_count": 19
        }
      ]
    },
    {
      "cell_type": "code",
      "metadata": {
        "id": "aicweK0prQGu",
        "colab": {
          "base_uri": "https://localhost:8080/"
        },
        "outputId": "4e10ff5a-0b26-40a3-82e5-8c0220b37b40"
      },
      "source": [
        "model_log_regression.score(X_test,y_test)"
      ],
      "execution_count": null,
      "outputs": [
        {
          "output_type": "execute_result",
          "data": {
            "text/plain": [
              "0.8589826142949131"
            ]
          },
          "metadata": {
            "tags": []
          },
          "execution_count": 20
        }
      ]
    },
    {
      "cell_type": "markdown",
      "metadata": {
        "id": "29nPXoFfrjle"
      },
      "source": [
        "# Naive Bayes Classifier"
      ]
    },
    {
      "cell_type": "code",
      "metadata": {
        "id": "eYybGZJ6rmN8",
        "colab": {
          "base_uri": "https://localhost:8080/"
        },
        "outputId": "7ac3fa7b-b785-491b-dec8-0fa93e543b09"
      },
      "source": [
        "from sklearn.naive_bayes import MultinomialNB\n",
        "\n",
        "nb = MultinomialNB()\n",
        "nb.fit(X_train, y_train)"
      ],
      "execution_count": null,
      "outputs": [
        {
          "output_type": "execute_result",
          "data": {
            "text/plain": [
              "MultinomialNB(alpha=1.0, class_prior=None, fit_prior=True)"
            ]
          },
          "metadata": {
            "tags": []
          },
          "execution_count": 21
        }
      ]
    },
    {
      "cell_type": "code",
      "metadata": {
        "id": "hp460k-MsD76",
        "colab": {
          "base_uri": "https://localhost:8080/"
        },
        "outputId": "7f95c3d6-30bc-48bd-feb4-715341369c94"
      },
      "source": [
        "from sklearn.metrics import classification_report\n",
        "\n",
        "\n",
        "y_pred = nb.predict(X_test)\n",
        "\n",
        "print('accuracy %s' % accuracy_score(y_pred, y_test))\n",
        "print(classification_report(y_test, y_pred))"
      ],
      "execution_count": null,
      "outputs": [
        {
          "output_type": "stream",
          "text": [
            "accuracy 0.7392144236960722\n",
            "              precision    recall  f1-score   support\n",
            "\n",
            "          -1       0.00      0.00      0.00        80\n",
            "           0       0.73      1.00      0.84      1097\n",
            "           1       1.00      0.14      0.24       376\n",
            "\n",
            "    accuracy                           0.74      1553\n",
            "   macro avg       0.58      0.38      0.36      1553\n",
            "weighted avg       0.76      0.74      0.65      1553\n",
            "\n"
          ],
          "name": "stdout"
        },
        {
          "output_type": "stream",
          "text": [
            "/usr/local/lib/python3.7/dist-packages/sklearn/metrics/_classification.py:1272: UndefinedMetricWarning: Precision and F-score are ill-defined and being set to 0.0 in labels with no predicted samples. Use `zero_division` parameter to control this behavior.\n",
            "  _warn_prf(average, modifier, msg_start, len(result))\n"
          ],
          "name": "stderr"
        }
      ]
    }
  ]
}