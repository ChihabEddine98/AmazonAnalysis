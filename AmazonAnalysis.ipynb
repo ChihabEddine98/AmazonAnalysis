{
 "cells": [
  {
   "cell_type": "code",
   "execution_count": 229,
   "metadata": {},
   "outputs": [
    {
     "output_type": "stream",
     "name": "stdout",
     "text": [
      "Requirement already satisfied: webdriver_manager in /Users/chihab_eddine98/Desktop/github/ML_Go/venv/lib/python3.9/site-packages (3.3.0)\n",
      "Requirement already satisfied: crayons in /Users/chihab_eddine98/Desktop/github/ML_Go/venv/lib/python3.9/site-packages (from webdriver_manager) (0.4.0)\n",
      "Requirement already satisfied: requests in /Users/chihab_eddine98/Desktop/github/ML_Go/venv/lib/python3.9/site-packages (from webdriver_manager) (2.25.1)\n",
      "Requirement already satisfied: configparser in /Users/chihab_eddine98/Desktop/github/ML_Go/venv/lib/python3.9/site-packages (from webdriver_manager) (5.0.2)\n",
      "Requirement already satisfied: colorama in /Users/chihab_eddine98/Desktop/github/ML_Go/venv/lib/python3.9/site-packages (from crayons->webdriver_manager) (0.4.4)\n",
      "Requirement already satisfied: chardet<5,>=3.0.2 in /Users/chihab_eddine98/Desktop/github/ML_Go/venv/lib/python3.9/site-packages (from requests->webdriver_manager) (4.0.0)\n",
      "Requirement already satisfied: urllib3<1.27,>=1.21.1 in /Users/chihab_eddine98/Desktop/github/ML_Go/venv/lib/python3.9/site-packages (from requests->webdriver_manager) (1.26.4)\n",
      "Requirement already satisfied: certifi>=2017.4.17 in /Users/chihab_eddine98/Desktop/github/ML_Go/venv/lib/python3.9/site-packages (from requests->webdriver_manager) (2020.12.5)\n",
      "Requirement already satisfied: idna<3,>=2.5 in /Users/chihab_eddine98/Desktop/github/ML_Go/venv/lib/python3.9/site-packages (from requests->webdriver_manager) (2.10)\n"
     ]
    }
   ],
   "source": [
    "!pip install webdriver_manager"
   ]
  },
  {
   "cell_type": "code",
   "execution_count": 230,
   "metadata": {
    "collapsed": true
   },
   "outputs": [],
   "source": [
    "# imports\n",
    "import requests as rq\n",
    "import numpy as np\n",
    "import pandas as pd \n",
    "import matplotlib.pyplot as plt\n",
    "from bs4 import BeautifulSoup\n",
    "from selenium import webdriver\n",
    "import os\n",
    "from webdriver_manager.chrome import ChromeDriverManager\n",
    "import unicodedata\n",
    "# end imports"
   ]
  },
  {
   "cell_type": "markdown",
   "source": [
    "# Part 01  : Data Gathering"
   ],
   "metadata": {
    "collapsed": false,
    "pycharm": {
     "name": "#%% md\n"
    }
   }
  },
  {
   "cell_type": "code",
   "execution_count": 231,
   "metadata": {},
   "outputs": [],
   "source": [
    "# Settings \n",
    "chrome_driver_path = '/Users/chihab_eddine98/.wdm/drivers/chromedriver/mac64/89.0.4389.23/chromedriver'\n",
    "\n",
    "reviews_div_cls = 'review'\n",
    "\n",
    "prod_url = 'https://www.amazon.fr/Microsoft-Surface-Pro-Hybride-stockage/dp/B07X8NL7MW/ref=sr_1_7?__mk_fr_FR=%C3%85M%C3%85%C5%BD%C3%95%C3%91&dchild=1&keywords=Microsoft+Surface&qid=1616930888&s=computers&sr=1-7'\n",
    "\n",
    "prod_urls = {'informatique':[\n",
    "    {\n",
    "        'prod_url':\n",
    "        'https://www.amazon.fr/Microsoft-Surface-Pro-Hybride-stockage/dp/B07X8NL7MW/ref=sr_1_7? __mk_fr_FR=%C3%85M%C3%85%C5%BD%C3%95%C3%91&dchild=1&keywords=Microsoft+Surface&qid=1616930888&  s=computers&sr=1-7',\n",
    "    'rev_url': 'https://www.amazon.fr/Microsoft-Surface-Pro-Hybride-stockage/product-reviews/B07X8NL7MW/ref=cm_cr_dp_d_show_all_btm?ie=UTF8&reviewerType=all_reviews'\n",
    "    \n",
    "    }\n",
    "    ]\n",
    "}\n",
    "\n",
    "ds_cols = ['Rev_Title','Rev_Rate','Rev_Bdy','Rev_Hlp','Prod_Title','Prod_Brnd','Prod_Rate','Prod_Eval','Prod_Price','Category']\n",
    "\n",
    "\n",
    "# End Settings"
   ]
  },
  {
   "source": [
    "# Scrapping Product Information"
   ],
   "cell_type": "markdown",
   "metadata": {}
  },
  {
   "cell_type": "code",
   "execution_count": 232,
   "metadata": {},
   "outputs": [],
   "source": [
    "\n",
    "# Scrapping Product Data \n",
    "def product_scrapper(driver,prod_category,prod_url):\n",
    "    driver.get(prod_url)\n",
    "    prod_soup = BeautifulSoup(driver.page_source,'html.parser')\n",
    "\n",
    "    # Product Info\n",
    "    prod_title = prod_soup.find('span',{'id' : 'productTitle' }).text\n",
    "    prod_brand = prod_soup.find('a',{'id' : 'bylineInfo' }).text\n",
    "    prod_rate = prod_soup.find('span',{'class' : 'a-icon-alt' }).text\n",
    "    prod_eval = prod_soup.find('span',{'id' : 'acrCustomerReviewText' }).text\n",
    "    prod_price = prod_soup.find('span',{'id' : 'priceblock_ourprice' }).text\n",
    "\n",
    "\n",
    "    result = tuple(map(lambda x : unicodedata.normalize(\"NFKD\",x.strip()),[prod_title,prod_brand,       prod_rate,prod_eval,prod_price,prod_category]))\n",
    "    return result\n",
    "\n"
   ]
  },
  {
   "source": [
    "## Test Product Scrapping"
   ],
   "cell_type": "markdown",
   "metadata": {}
  },
  {
   "cell_type": "code",
   "execution_count": 233,
   "metadata": {},
   "outputs": [
    {
     "output_type": "stream",
     "name": "stdout",
     "text": [
      "('Microsoft Surface Pro 7 PC portable (Windows 10, Écran Tactile 12.3\", Intel Core i5, 8Go RAM, 128Go SSD, Platine)', 'Marque : Microsoft Surface', '4,6 sur 5 étoiles', '3 105 évaluations', '855,20 €', 'informatique')\n"
     ]
    }
   ],
   "source": [
    "driver = webdriver.Chrome(chrome_driver_path)\n",
    "\n",
    "for category,products in prod_urls.items():\n",
    "    for prod in products:\n",
    "        product = product_scrapper(driver,category,prod['prod_url'])\n",
    "        print(product)"
   ]
  },
  {
   "source": [
    "# Scrapping Reviews Data"
   ],
   "cell_type": "markdown",
   "metadata": {}
  },
  {
   "cell_type": "code",
   "execution_count": 234,
   "outputs": [],
   "source": [
    "# Scrapping Reviews Data\n",
    "def reviews_scrapper(driver,prod,rev_url,ds):\n",
    "    driver.get(rev_url)\n",
    "    rev_soup = BeautifulSoup(driver.page_source,'html.parser')\n",
    "    reviews_div = rev_soup.find_all('div',{'class':reviews_div_cls})\n",
    "\n",
    "    for review in reviews_div:\n",
    "        review_title = review.find('a',{'data-hook' : 'review-title'}).text\n",
    "        review_rate = review.find('i',{'data-hook' : 'review-star-rating'}).text\n",
    "        review_body = review.find('span',{'data-hook' : 'review-body'}).text\n",
    "        review_help = review.find('span',{'data-hook' : 'helpful-vote-statement'}).text\n",
    "        rev_result = tuple(map(lambda x : unicodedata.normalize(\"NFKD\",x.strip()),[review_title,review_rate,review_body,review_help]))\n",
    "        ds.append(rev_result+prod)\n",
    "\n",
    "    return ds"
   ],
   "metadata": {
    "collapsed": false,
    "pycharm": {
     "name": "#%%\n"
    },
    "tags": []
   }
  },
  {
   "source": [
    "## Test Reviews Scrapping"
   ],
   "cell_type": "markdown",
   "metadata": {}
  },
  {
   "cell_type": "code",
   "execution_count": 235,
   "metadata": {},
   "outputs": [
    {
     "output_type": "execute_result",
     "data": {
      "text/plain": [
       "                                           Rev_Title            Rev_Rate  \\\n",
       "0                     Surface Pro 7ème génération  4,0 sur 5 étoiles   \n",
       "1                 Du reconditionné au prix du neuf!  1,0 sur 5 étoiles   \n",
       "2                                          THROTTING  2,0 sur 5 étoiles   \n",
       "3                      ATTENTION AU TITRE TROMPEUR !  2,0 sur 5 étoiles   \n",
       "4                          C'est bien une version i7  5,0 sur 5 étoiles   \n",
       "5                                 Un excellent choix  5,0 sur 5 étoiles   \n",
       "6       Plus pertinent qu'une tablette sous Android.  5,0 sur 5 étoiles   \n",
       "7  Eclan bleu systématique au démarrage ou dans...  1,0 sur 5 étoiles   \n",
       "8                                         Incroyable  4,0 sur 5 étoiles   \n",
       "9                           Tablette fonctionne bien  1,0 sur 5 étoiles   \n",
       "\n",
       "                                             Rev_Bdy  \\\n",
       "0  Je possède la Surface Pro 6 (soit la généra...   \n",
       "1  Produit bien reçu.Par contre on achète au pr...   \n",
       "2  POUR LA VERSION I5 SEULEMENT : PHENOMENE DE TH...   \n",
       "3  Le titre fait référence à un Surface Pro 7 ...   \n",
       "4  Contrairement au commentaire disant que c'est ...   \n",
       "5  Pour faire court, sans aucun doute mon \"pc por...   \n",
       "6  Belle bête ! J'essaie pour la 1ere fois Windo...   \n",
       "7  Sans qu'aucun logiciel n'ai été installé, j...   \n",
       "8  Cette tablette est incroyable et presque parfa...   \n",
       "9  UPDATE: La durée de vie de la batterie est de...   \n",
       "\n",
       "                                Rev_Hlp  \\\n",
       "0  155 personnes ont trouvé cela utile   \n",
       "1  107 personnes ont trouvé cela utile   \n",
       "2   71 personnes ont trouvé cela utile   \n",
       "3   98 personnes ont trouvé cela utile   \n",
       "4   44 personnes ont trouvé cela utile   \n",
       "5   23 personnes ont trouvé cela utile   \n",
       "6   22 personnes ont trouvé cela utile   \n",
       "7   10 personnes ont trouvé cela utile   \n",
       "8     Une personne a trouvé cela utile   \n",
       "9    4 personnes ont trouvé cela utile   \n",
       "\n",
       "                                          Prod_Title  \\\n",
       "0  Microsoft Surface Pro 7 PC portable (Windows 1...   \n",
       "1  Microsoft Surface Pro 7 PC portable (Windows 1...   \n",
       "2  Microsoft Surface Pro 7 PC portable (Windows 1...   \n",
       "3  Microsoft Surface Pro 7 PC portable (Windows 1...   \n",
       "4  Microsoft Surface Pro 7 PC portable (Windows 1...   \n",
       "5  Microsoft Surface Pro 7 PC portable (Windows 1...   \n",
       "6  Microsoft Surface Pro 7 PC portable (Windows 1...   \n",
       "7  Microsoft Surface Pro 7 PC portable (Windows 1...   \n",
       "8  Microsoft Surface Pro 7 PC portable (Windows 1...   \n",
       "9  Microsoft Surface Pro 7 PC portable (Windows 1...   \n",
       "\n",
       "                    Prod_Brnd           Prod_Rate           Prod_Eval  \\\n",
       "0  Marque : Microsoft Surface  4,6 sur 5 étoiles  3 105 évaluations   \n",
       "1  Marque : Microsoft Surface  4,6 sur 5 étoiles  3 105 évaluations   \n",
       "2  Marque : Microsoft Surface  4,6 sur 5 étoiles  3 105 évaluations   \n",
       "3  Marque : Microsoft Surface  4,6 sur 5 étoiles  3 105 évaluations   \n",
       "4  Marque : Microsoft Surface  4,6 sur 5 étoiles  3 105 évaluations   \n",
       "5  Marque : Microsoft Surface  4,6 sur 5 étoiles  3 105 évaluations   \n",
       "6  Marque : Microsoft Surface  4,6 sur 5 étoiles  3 105 évaluations   \n",
       "7  Marque : Microsoft Surface  4,6 sur 5 étoiles  3 105 évaluations   \n",
       "8  Marque : Microsoft Surface  4,6 sur 5 étoiles  3 105 évaluations   \n",
       "9  Marque : Microsoft Surface  4,6 sur 5 étoiles  3 105 évaluations   \n",
       "\n",
       "  Prod_Price      Category  \n",
       "0   855,20 €  informatique  \n",
       "1   855,20 €  informatique  \n",
       "2   855,20 €  informatique  \n",
       "3   855,20 €  informatique  \n",
       "4   855,20 €  informatique  \n",
       "5   855,20 €  informatique  \n",
       "6   855,20 €  informatique  \n",
       "7   855,20 €  informatique  \n",
       "8   855,20 €  informatique  \n",
       "9   855,20 €  informatique  "
      ],
      "text/html": "<div>\n<style scoped>\n    .dataframe tbody tr th:only-of-type {\n        vertical-align: middle;\n    }\n\n    .dataframe tbody tr th {\n        vertical-align: top;\n    }\n\n    .dataframe thead th {\n        text-align: right;\n    }\n</style>\n<table border=\"1\" class=\"dataframe\">\n  <thead>\n    <tr style=\"text-align: right;\">\n      <th></th>\n      <th>Rev_Title</th>\n      <th>Rev_Rate</th>\n      <th>Rev_Bdy</th>\n      <th>Rev_Hlp</th>\n      <th>Prod_Title</th>\n      <th>Prod_Brnd</th>\n      <th>Prod_Rate</th>\n      <th>Prod_Eval</th>\n      <th>Prod_Price</th>\n      <th>Category</th>\n    </tr>\n  </thead>\n  <tbody>\n    <tr>\n      <th>0</th>\n      <td>Surface Pro 7ème génération</td>\n      <td>4,0 sur 5 étoiles</td>\n      <td>Je possède la Surface Pro 6 (soit la généra...</td>\n      <td>155 personnes ont trouvé cela utile</td>\n      <td>Microsoft Surface Pro 7 PC portable (Windows 1...</td>\n      <td>Marque : Microsoft Surface</td>\n      <td>4,6 sur 5 étoiles</td>\n      <td>3 105 évaluations</td>\n      <td>855,20 €</td>\n      <td>informatique</td>\n    </tr>\n    <tr>\n      <th>1</th>\n      <td>Du reconditionné au prix du neuf!</td>\n      <td>1,0 sur 5 étoiles</td>\n      <td>Produit bien reçu.Par contre on achète au pr...</td>\n      <td>107 personnes ont trouvé cela utile</td>\n      <td>Microsoft Surface Pro 7 PC portable (Windows 1...</td>\n      <td>Marque : Microsoft Surface</td>\n      <td>4,6 sur 5 étoiles</td>\n      <td>3 105 évaluations</td>\n      <td>855,20 €</td>\n      <td>informatique</td>\n    </tr>\n    <tr>\n      <th>2</th>\n      <td>THROTTING</td>\n      <td>2,0 sur 5 étoiles</td>\n      <td>POUR LA VERSION I5 SEULEMENT : PHENOMENE DE TH...</td>\n      <td>71 personnes ont trouvé cela utile</td>\n      <td>Microsoft Surface Pro 7 PC portable (Windows 1...</td>\n      <td>Marque : Microsoft Surface</td>\n      <td>4,6 sur 5 étoiles</td>\n      <td>3 105 évaluations</td>\n      <td>855,20 €</td>\n      <td>informatique</td>\n    </tr>\n    <tr>\n      <th>3</th>\n      <td>ATTENTION AU TITRE TROMPEUR !</td>\n      <td>2,0 sur 5 étoiles</td>\n      <td>Le titre fait référence à un Surface Pro 7 ...</td>\n      <td>98 personnes ont trouvé cela utile</td>\n      <td>Microsoft Surface Pro 7 PC portable (Windows 1...</td>\n      <td>Marque : Microsoft Surface</td>\n      <td>4,6 sur 5 étoiles</td>\n      <td>3 105 évaluations</td>\n      <td>855,20 €</td>\n      <td>informatique</td>\n    </tr>\n    <tr>\n      <th>4</th>\n      <td>C'est bien une version i7</td>\n      <td>5,0 sur 5 étoiles</td>\n      <td>Contrairement au commentaire disant que c'est ...</td>\n      <td>44 personnes ont trouvé cela utile</td>\n      <td>Microsoft Surface Pro 7 PC portable (Windows 1...</td>\n      <td>Marque : Microsoft Surface</td>\n      <td>4,6 sur 5 étoiles</td>\n      <td>3 105 évaluations</td>\n      <td>855,20 €</td>\n      <td>informatique</td>\n    </tr>\n    <tr>\n      <th>5</th>\n      <td>Un excellent choix</td>\n      <td>5,0 sur 5 étoiles</td>\n      <td>Pour faire court, sans aucun doute mon \"pc por...</td>\n      <td>23 personnes ont trouvé cela utile</td>\n      <td>Microsoft Surface Pro 7 PC portable (Windows 1...</td>\n      <td>Marque : Microsoft Surface</td>\n      <td>4,6 sur 5 étoiles</td>\n      <td>3 105 évaluations</td>\n      <td>855,20 €</td>\n      <td>informatique</td>\n    </tr>\n    <tr>\n      <th>6</th>\n      <td>Plus pertinent qu'une tablette sous Android.</td>\n      <td>5,0 sur 5 étoiles</td>\n      <td>Belle bête ! J'essaie pour la 1ere fois Windo...</td>\n      <td>22 personnes ont trouvé cela utile</td>\n      <td>Microsoft Surface Pro 7 PC portable (Windows 1...</td>\n      <td>Marque : Microsoft Surface</td>\n      <td>4,6 sur 5 étoiles</td>\n      <td>3 105 évaluations</td>\n      <td>855,20 €</td>\n      <td>informatique</td>\n    </tr>\n    <tr>\n      <th>7</th>\n      <td>Eclan bleu systématique au démarrage ou dans...</td>\n      <td>1,0 sur 5 étoiles</td>\n      <td>Sans qu'aucun logiciel n'ai été installé, j...</td>\n      <td>10 personnes ont trouvé cela utile</td>\n      <td>Microsoft Surface Pro 7 PC portable (Windows 1...</td>\n      <td>Marque : Microsoft Surface</td>\n      <td>4,6 sur 5 étoiles</td>\n      <td>3 105 évaluations</td>\n      <td>855,20 €</td>\n      <td>informatique</td>\n    </tr>\n    <tr>\n      <th>8</th>\n      <td>Incroyable</td>\n      <td>4,0 sur 5 étoiles</td>\n      <td>Cette tablette est incroyable et presque parfa...</td>\n      <td>Une personne a trouvé cela utile</td>\n      <td>Microsoft Surface Pro 7 PC portable (Windows 1...</td>\n      <td>Marque : Microsoft Surface</td>\n      <td>4,6 sur 5 étoiles</td>\n      <td>3 105 évaluations</td>\n      <td>855,20 €</td>\n      <td>informatique</td>\n    </tr>\n    <tr>\n      <th>9</th>\n      <td>Tablette fonctionne bien</td>\n      <td>1,0 sur 5 étoiles</td>\n      <td>UPDATE: La durée de vie de la batterie est de...</td>\n      <td>4 personnes ont trouvé cela utile</td>\n      <td>Microsoft Surface Pro 7 PC portable (Windows 1...</td>\n      <td>Marque : Microsoft Surface</td>\n      <td>4,6 sur 5 étoiles</td>\n      <td>3 105 évaluations</td>\n      <td>855,20 €</td>\n      <td>informatique</td>\n    </tr>\n  </tbody>\n</table>\n</div>"
     },
     "metadata": {},
     "execution_count": 235
    }
   ],
   "source": [
    "ds = []\n",
    "for category,products in prod_urls.items():\n",
    "    for prod in products:\n",
    "        product = product_scrapper(driver,category,prod['prod_url'])\n",
    "        ds = reviews_scrapper(driver,product,prod['rev_url'],ds) \n",
    "\n",
    "df = pd.DataFrame(ds)\n",
    "df.columns = ds_cols\n",
    "df\n",
    "\n",
    "\n",
    "\n"
   ]
  }
 ],
 "metadata": {
  "kernelspec": {
   "display_name": "Python 3",
   "language": "python",
   "name": "python3"
  },
  "language_info": {
   "codemirror_mode": {
    "name": "ipython",
    "version": 2
   },
   "file_extension": ".py",
   "mimetype": "text/x-python",
   "name": "python",
   "nbconvert_exporter": "python",
   "pygments_lexer": "ipython2",
   "version": "3.9.1-final"
  }
 },
 "nbformat": 4,
 "nbformat_minor": 0
}